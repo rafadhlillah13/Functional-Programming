{
 "cells": [
  {
   "cell_type": "markdown",
   "id": "b821856b-7693-4bbd-9c3c-f45e8ff5b3cf",
   "metadata": {},
   "source": [
    "# Tugas Kelompok Praktikum PBF RC\n",
    "\n",
    "## Kelompok 02 : \n",
    "#### Rafi Fadhlillah_121450143\n",
    "#### Muhammad Farhan_121450044\n",
    "#### Meliza Wulandari_121450065\n",
    "#### Muhammad Zaki Abdillah_121450008"
   ]
  },
  {
   "cell_type": "markdown",
   "id": "b354d901-6479-4c9c-a4c2-f05ebcb6bdb8",
   "metadata": {},
   "source": [
    "### sebelum menjalankan code-code dibawah berikut file file yang diperlukan untuk menjalankan code dibawah\n",
    "#### link : [Download_Dulu_Penting_Banget](https://drive.google.com/drive/folders/1qGW4I7Jzovnvwe1MV3lxn_dWJYyxREcp?usp=sharing)"
   ]
  },
  {
   "cell_type": "markdown",
   "id": "8dbfcc8b-e9c8-4183-8b23-71487d960355",
   "metadata": {},
   "source": [
    "## 1. Buatlah ekspresi generator untuk membaca anscombe's quartet dataset"
   ]
  },
  {
   "cell_type": "code",
   "execution_count": 1,
   "id": "d7fce327-d97f-497b-9dc2-67f1d9324f7e",
   "metadata": {},
   "outputs": [],
   "source": [
    "import csv\n",
    "\n",
    "def read_anscombe_quartet(filename):\n",
    "    with open(filename, newline='') as csvfile:\n",
    "        reader = csv.reader(csvfile)\n",
    "        next(reader) # skip header row\n",
    "        for row in reader:\n",
    "            x = [float(val) for val in row[0:5]]\n",
    "            y = [float(val) for val in row[5:]]\n",
    "            yield (x, y)"
   ]
  },
  {
   "cell_type": "code",
   "execution_count": 2,
   "id": "968dd9f4-f00f-4954-b767-2b7a736f723f",
   "metadata": {},
   "outputs": [
    {
     "name": "stdout",
     "output_type": "stream",
     "text": [
      "([10.0, 8.04, 9.14, 7.46, 8.0], [6.58])\n",
      "([8.0, 6.95, 8.14, 6.77, 8.0], [5.76])\n",
      "([13.0, 7.58, 8.74, 12.74, 8.0], [7.71])\n",
      "([9.0, 8.81, 8.77, 7.11, 8.0], [8.84])\n",
      "([11.0, 8.33, 9.26, 7.81, 8.0], [8.47])\n",
      "([14.0, 9.96, 8.1, 8.84, 8.0], [7.04])\n",
      "([6.0, 7.24, 6.13, 6.08, 8.0], [5.25])\n",
      "([4.0, 4.26, 3.1, 5.39, 19.0], [12.5])\n",
      "([12.0, 10.84, 9.13, 8.15, 8.0], [5.56])\n",
      "([7.0, 4.82, 7.26, 6.42, 8.0], [7.91])\n",
      "([5.0, 5.68, 4.74, 5.73, 8.0], [6.89])\n"
     ]
    }
   ],
   "source": [
    "filename = 'Anscombe_quartet_data.csv'\n",
    "\n",
    "for data in read_anscombe_quartet(filename):\n",
    "    print(data)"
   ]
  },
  {
   "cell_type": "markdown",
   "id": "8bc7e253-fea9-4abf-8351-2ded359e9dbf",
   "metadata": {},
   "source": [
    "## 2.Buatlah beberapa pemrosesan gambar dan memiliki palet warna tertentu, diwakili oleh nama dan (R,G,B) tupel. Jika kita menggunakan format file GNU Image Manipulation Program (GIMP), palet warna mungkin terlihat seperti perintah berikut :"
   ]
  },
  {
   "cell_type": "raw",
   "id": "c194c05b-5629-4145-9058-487bb8af1ed3",
   "metadata": {},
   "source": [
    "GIMP Palette\n",
    "Name: Small\n",
    "Columns: 3\n",
    "#\n",
    "0 0 0 Black\n",
    "255 255 255 White\n",
    "238 32 77 Red\n",
    "28 172 120 Green\n",
    "31 117 254 Blue"
   ]
  },
  {
   "cell_type": "markdown",
   "id": "02c69929-5709-44aa-a166-6bdd1d0632f0",
   "metadata": {},
   "source": [
    "Untuk menyelesaikan permasalahan no.2 gunakan namedtuple seperti pada modul, dan gunakan map seperti ini process (wrap(iterable))"
   ]
  },
  {
   "cell_type": "code",
   "execution_count": 3,
   "id": "15bb8298-abfa-49f7-80d3-1f2b9fcafcb0",
   "metadata": {},
   "outputs": [
    {
     "name": "stdout",
     "output_type": "stream",
     "text": [
      "[Color(name='Black', R=0, G=0, B=0), Color(name='Red', R=238, G=32, B=77), Color(name='Blue', R=31, G=117, B=254), Color(name='White', R=255, G=255, B=255)]\n"
     ]
    }
   ],
   "source": [
    "from collections import namedtuple\n",
    "\n",
    "# definisikan namedtuple untuk warna dengan nama dan RGB tuple\n",
    "Color = namedtuple('Color', ['name', 'R', 'G', 'B'])\n",
    "\n",
    "# definisikan palet warna Small\n",
    "palette = [\n",
    "    Color('Black', 0, 0, 0),\n",
    "    Color('White', 255, 255, 255),\n",
    "    Color('Red', 238, 32, 77),\n",
    "    Color('Green', 28, 172, 120),\n",
    "    Color('Blue', 31, 117, 254)\n",
    "]\n",
    "\n",
    "# fungsi untuk memproses gambar dengan menggunakan palet warna tertentu\n",
    "def process_image(image, palette):\n",
    "    # melakukan pemetaan warna gambar ke warna terdekat di palet warna\n",
    "    def map_to_palette(color):\n",
    "        return min(palette, key=lambda x: ((x.R-color[0])**2 + (x.G-color[1])**2 + (x.B-color[2])**2)**0.5)\n",
    "\n",
    "    # melakukan pemetaan warna untuk setiap pixel pada gambar\n",
    "    mapped_pixels = map(map_to_palette, image)\n",
    "\n",
    "    # mengembalikan gambar hasil pemrosesan\n",
    "    return mapped_pixels\n",
    "\n",
    "# contoh penggunaan\n",
    "image = [(50, 50, 50), (200, 100, 50), (0, 0, 255), (255, 255, 255)]\n",
    "processed_image = process_image(image, palette)\n",
    "print(list(processed_image))  # output: [Color(name='Black', R=0, G=0, B=0), Color(name='Red', R=238, G=32, B=77), Color(name='Blue', R=31, G=117, B=254), Color(name='White', R=255, G=255, B=255)]"
   ]
  },
  {
   "cell_type": "code",
   "execution_count": 4,
   "id": "7015a6ea-a4dd-4b1a-b930-907a7b4ce57f",
   "metadata": {},
   "outputs": [],
   "source": [
    "from PIL import Image\n",
    "\n",
    "# membuka gambar\n",
    "img = Image.open(\"rainbowcake.jpg\")#nama file gambar harus dalam directory yang sama\n",
    "\n",
    "# konversi gambar menjadi mode RGB\n",
    "img = img.convert(\"RGB\")\n",
    "\n",
    "# mendapatkan lebar dan tinggi gambar\n",
    "width, height = img.size\n",
    "\n",
    "# membuat list pixel dari gambar\n",
    "pixels = list(img.getdata())\n",
    "\n",
    "# memproses gambar dengan menggunakan palet warna\n",
    "processed_pixels = process_image(pixels, palette)\n",
    "\n",
    "# membuat gambar baru dari hasil pemrosesan\n",
    "processed_img = Image.new(\"RGB\", (width, height))\n",
    "processed_img.putdata([(c.R, c.G, c.B) for c in processed_pixels])\n",
    "\n",
    "# menampilkan gambar asli dan hasil pemrosesan\n",
    "img.show()\n",
    "processed_img.show()\n"
   ]
  },
  {
   "cell_type": "markdown",
   "id": "2fbc1605-bea6-4db4-839e-6de90e8f7f77",
   "metadata": {},
   "source": [
    "## 3.Carilah file JSON atau lakukan pengambilan file JSON melalui webscrapping dan bersihkan menggunakan fungsi replace. tampilkan juga tree grafiknya"
   ]
  },
  {
   "cell_type": "code",
   "execution_count": 5,
   "id": "d86cfa4a-379e-4755-9bb8-b80a77b829ac",
   "metadata": {},
   "outputs": [],
   "source": [
    "def json_encode(data):\n",
    "    if isinstance(data, bool):\n",
    "        if data:\n",
    "            return \"true\"\n",
    "        else :\n",
    "            return \"false\"\n",
    "    elif isinstance(data, (int, float)):\n",
    "        return str(data)\n",
    "    elif isinstance(data, str):\n",
    "        return '\"' + escape_string(data) + '\"'\n",
    "    elif isinstance(data, list):\n",
    "        return \"[\" + \", \".join(json_encode(d) for d in data) + \"]\"\n",
    "    else :\n",
    "        raise TypeError(\"%s is not JSON serializable\" % repr(data))\n",
    "        \n",
    "def escape_string(s):\n",
    "    \"\"\"Escapes double-quote, tab and new line characters in a string.\"\"\"\n",
    "    s = s.raplace('\"', '\\\\\"')\n",
    "    s = s.raplace(\"\\t\", \"\\\\t\")\n",
    "    s = s.raplace(\"\\n\", \"\\\\n\")\n",
    "    return s"
   ]
  },
  {
   "cell_type": "code",
   "execution_count": 6,
   "id": "c19a7e93-e1cf-4601-9db2-d999665756d1",
   "metadata": {},
   "outputs": [
    {
     "name": "stdout",
     "output_type": "stream",
     "text": [
      "root\n",
      "└── Node('/root')\n",
      "    └── Node(\"/root/Node('/root')\")\n",
      "        ├── Node('/root/Node(\\'/root\\')/Node(\"/root/Node(\\'/root\\')\")')\n",
      "        │   ├── Rafi\n",
      "        │   ├── Fadhlillah\n",
      "        │   ├── male\n",
      "        │   ├── 20\n",
      "        │   └── 7349282382\n",
      "        ├── Node('/root/Node(\\'/root\\')/Node(\"/root/Node(\\'/root\\')\")')\n",
      "        │   ├── Muhammad\n",
      "        │   ├── Farhan\n",
      "        │   ├── male\n",
      "        │   ├── 25\n",
      "        │   └── 5678568567\n",
      "        └── Node('/root/Node(\\'/root\\')/Node(\"/root/Node(\\'/root\\')\")')\n",
      "            ├── Meliza\n",
      "            ├── Wulandari\n",
      "            ├── female\n",
      "            ├── 24\n",
      "            └── 456754675\n"
     ]
    }
   ],
   "source": [
    "import json\n",
    "from anytree import Node, RenderTree #install terlebih dahulu anytree jika belum\n",
    "\n",
    "with open(\"datates.json\", \"r\") as f:\n",
    "    data = json.load(f)\n",
    "\n",
    "# Membersihkan data\n",
    "clean_data = json.dumps(data)\n",
    "clean_data = clean_data.replace(\"\\n\", \"\").replace(\"\\t\", \"\")\n",
    "\n",
    "# Membuat struktur pohon dari data JSON\n",
    "def make_tree(data, parent=None):\n",
    "    if isinstance(data, dict):\n",
    "        node = Node(str(parent), parent=parent)\n",
    "        for key, value in data.items():\n",
    "            make_tree(value, parent=node)\n",
    "    elif isinstance(data, list):\n",
    "        node = Node(str(parent), parent=parent)\n",
    "        for item in data:\n",
    "            make_tree(item, parent=node)\n",
    "    else:\n",
    "        Node(str(data), parent=parent)\n",
    "\n",
    "root = Node(\"root\")\n",
    "make_tree(data, parent=root)\n",
    "\n",
    "# Mencetak diagram tree\n",
    "for pre, fill, node in RenderTree(root):\n",
    "    print(\"%s%s\" % (pre, node.name))"
   ]
  }
 ],
 "metadata": {
  "kernelspec": {
   "display_name": "Python 3 (ipykernel)",
   "language": "python",
   "name": "python3"
  },
  "language_info": {
   "codemirror_mode": {
    "name": "ipython",
    "version": 3
   },
   "file_extension": ".py",
   "mimetype": "text/x-python",
   "name": "python",
   "nbconvert_exporter": "python",
   "pygments_lexer": "ipython3",
   "version": "3.10.4"
  }
 },
 "nbformat": 4,
 "nbformat_minor": 5
}
