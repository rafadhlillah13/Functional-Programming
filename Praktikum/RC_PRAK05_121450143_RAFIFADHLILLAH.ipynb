{
 "cells": [
  {
   "cell_type": "markdown",
   "metadata": {},
   "source": [
    "# Tugas Pendahuluan Modul 5 PBF\n",
    "\n",
    "### Nama : Rafi Fadhlillah\n",
    "### NIM : 121450143\n",
    "### Kelas : RC"
   ]
  },
  {
   "cell_type": "markdown",
   "metadata": {
    "id": "sJ2OjMFijN1p"
   },
   "source": [
    "### 1. Buatlah sebuah decorator hitung_waktu dan membuat fungsi perkalian yang menerima dua parameter bilangan bulat hingga mengembalikan hasil perkalian dari kedua bilangan tersebut.\n",
    "a. Isi code pemorgraman di bawah ini dengan menghasilkan output sebagai berikut: <br>\n",
    "b. Gunakan fungsi wrapper untuk menjalankan fungsi f didalam 'hitung_waktu'"
   ]
  },
  {
   "cell_type": "code",
   "execution_count": 1,
   "metadata": {
    "colab": {
     "base_uri": "https://localhost:8080/"
    },
    "id": "9xCLid-rfqTP",
    "outputId": "cd394dfb-3982-417f-cd9e-465eb811d73b"
   },
   "outputs": [
    {
     "name": "stdout",
     "output_type": "stream",
     "text": [
      "Waktu yang diperlukan: 0.0 detik\n",
      "35\n",
      "35\n"
     ]
    }
   ],
   "source": [
    "import time \n",
    "def hitung_waktu(f):\n",
    "    def wrapper(a, b):\n",
    "        start = time.time()\n",
    "        hasil = f(a, b)\n",
    "        end = time.time()\n",
    "        print(f\"Waktu yang diperlukan: {end - start} detik\")\n",
    "        return hasil\n",
    "    return wrapper\n",
    "\n",
    "def perkalian(x, y):\n",
    "    #Buatlah Fungsi yang menghitung perkalian dua bilangan bulat\n",
    "    return x * y\n",
    "\n",
    "hasil_perkalian = perkalian(5, 7)\n",
    "hasil_hitung_waktu = hitung_waktu(perkalian)(5, 7)\n",
    "\n",
    "print(hasil_perkalian)\n",
    "print(hasil_hitung_waktu)"
   ]
  },
  {
   "cell_type": "markdown",
   "metadata": {},
   "source": [
    "Catatan : output Waktu yang diperlukan berbeda-beda, hal ini disesuaikan dengan sinyal/jaringan pada device masing masing"
   ]
  },
  {
   "cell_type": "markdown",
   "metadata": {
    "id": "KMOyjC_2lxhJ"
   },
   "source": [
    "### 2. Analisis kode fungsi komposisi dibawah ini!"
   ]
  },
  {
   "cell_type": "code",
   "execution_count": 2,
   "metadata": {
    "colab": {
     "base_uri": "https://localhost:8080/"
    },
    "id": "F5wlp13knlzb",
    "outputId": "cbec41e2-f14e-4383-997c-82f17981d592"
   },
   "outputs": [
    {
     "data": {
      "text/plain": [
       "298.0"
      ]
     },
     "execution_count": 2,
     "metadata": {},
     "output_type": "execute_result"
    }
   ],
   "source": [
    "def compose(g, f):\n",
    "    def h(*args, **kwargs):\n",
    "        return g(f(*args, **kwargs))\n",
    "    return h\n",
    "\n",
    "celcius_to_fahrenheit = lambda x: (x*9/5) + 32\n",
    "fahrenheit_to_kelvin = lambda x: ((x-32) * 5/9) + 273\n",
    "celcius_to_kelvin = compose(fahrenheit_to_kelvin, celcius_to_fahrenheit)\n",
    "celcius_to_kelvin(25)"
   ]
  },
  {
   "cell_type": "markdown",
   "metadata": {
    "id": "r97DZZHnnm0p"
   },
   "source": [
    "#### a. Jelaskan alur program kode diatas untuk mencapai hasil \n",
    "Program di atas merupakan contoh implementasi dari konsep komposisi fungsi pada bahasa pemrograman Python. Pada baris pertama dan kedua, didefinisikan dua fungsi lambda yaitu celcius_to_fahrenheit dan fahrenheit_to_kelvin yang berfungsi untuk mengonversi suhu dari Celcius ke Fahrenheit dan dari Fahrenheit ke Kelvin. Pada baris keempat, fungsi compose didefinisikan dengan dua parameter yaitu g dan f, yang masing-masing merepresentasikan fungsi fahrenheit_to_kelvin dan celcius_to_fahrenheit. Fungsi compose mengembalikan fungsi baru h, yang memiliki parameter `*args` dan `**kwargs.` Fungsi h akan mengembalikan nilai dari komposisi fungsi g dan f pada parameter `*args` dan `**kwargs.` <br>\n",
    "\n",
    "Pada baris terakhir, dilakukan penggunaan fungsi compose untuk mendefinisikan fungsi baru celcius_to_kelvin. Fungsi ini merupakan hasil komposisi fungsi fahrenheit_to_kelvin dan celcius_to_fahrenheit. Dalam hal ini, f adalah celcius_to_fahrenheit dan g adalah fahrenheit_to_kelvin. Kemudian, pada baris terakhir dilakukan pemanggilan fungsi celcius_to_kelvin dengan argumen 25. Hasil yang diharapkan adalah konversi suhu dari 25 derajat Celcius ke Kelvin.<br>\n",
    "\n",
    "#### b. Jika g(f(*args, **kwargs)) diubah f(g(*args, **kwargs)) apakah hasil tetap 298 Kelvin? Jelaskan menurut pendapat anda\n",
    "\n",
    "Jika `g(f(*args, **kwargs))` diubah menjadi `f(g(*args, **kwargs))`, maka hasil yang diperoleh tidak akan sama dengan 298 Kelvin. Hal ini disebabkan karena urutan komposisi fungsi akan berubah. Pada komposisi awal, fungsi celcius_to_fahrenheit digunakan terlebih dahulu untuk mengonversi suhu dari Celcius ke Fahrenheit, kemudian hasilnya digunakan oleh fungsi fahrenheit_to_kelvin untuk mengonversi suhu dari Fahrenheit ke Kelvin. Sedangkan pada komposisi yang diubah, fungsi fahrenheit_to_kelvin digunakan terlebih dahulu untuk mengonversi suhu dari Fahrenheit ke Kelvin, kemudian hasilnya digunakan oleh fungsi celcius_to_fahrenheit untuk mengonversi suhu dari Celcius ke Fahrenheit. Karena adanya perbedaan urutan konversi suhu ini, maka hasil yang diperoleh akan berbeda pula."
   ]
  },
  {
   "cell_type": "markdown",
   "metadata": {
    "id": "qeWvt4txzgpr"
   },
   "source": [
    "### 3. perhatikan code dibawah ini!"
   ]
  },
  {
   "cell_type": "code",
   "execution_count": 3,
   "metadata": {
    "colab": {
     "base_uri": "https://localhost:8080/"
    },
    "id": "uyhskuA7zlAR",
    "outputId": "b2602315-7ac9-4734-b758-6bee61bbf6ff"
   },
   "outputs": [
    {
     "name": "stdin",
     "output_type": "stream",
     "text": [
      "luas/keliling :  keliling\n"
     ]
    },
    {
     "name": "stdout",
     "output_type": "stream",
     "text": [
      "Hasil  : 10\n"
     ]
    }
   ],
   "source": [
    "def my_function():\n",
    "    func =[]\n",
    "    def luas(p, l):\n",
    "        return p*l\n",
    "    func.append(luas)\n",
    "    def keliling(p, l):\n",
    "        return 2*(p+l)\n",
    "    func.append(keliling)\n",
    "    user = input('luas/keliling : ')\n",
    "    if user.lower() == \"luas\":\n",
    "        return func [0] (1,2)\n",
    "    elif user.lower() == \"keliling\":\n",
    "        return func [1](3,2)\n",
    "    else:\n",
    "        print(\"Input yang dimasukkan tidak valid. Silakan coba lagi.\")\n",
    "        return user\n",
    "    return func\n",
    "\n",
    "result = my_function()\n",
    "print(\"Hasil  :\",result)"
   ]
  },
  {
   "cell_type": "markdown",
   "metadata": {
    "id": "Ywp3b0ncz2di"
   },
   "source": [
    "#### a. Jelaskan konsep closure dari code! <br>\n",
    "Konsep closure pada kode di atas adalah dimana terdapat sebuah fungsi my_function() yang mengandung dua fungsi nested (fungsi dalam fungsi) yaitu luas() dan keliling(). Fungsi-fungsi tersebut ditambahkan ke dalam sebuah list bernama func menggunakan metode append(). Kemudian, fungsi my_function() mengambil input dari pengguna untuk memilih apakah ingin menghitung luas atau keliling, dan kemudian memanggil fungsi luas() atau keliling() yang disimpan di dalam list func. Fungsi my_function() mengembalikan nilai dari fungsi luas() atau keliling() tergantung pada pilihan pengguna. Closure terjadi karena fungsi luas() dan keliling() dapat diakses di dalam fungsi my_function() meskipun kedua fungsi tersebut tidak di definisikan di luar fungsi my_function(). Selain itu, fungsi luas() dan keliling() memiliki akses ke variabel func yang didefinisikan di dalam fungsi my_function(), yang membuat mereka menjadi closure. \n",
    "\n",
    "#### b. Eksekusi code diatas kemudian jelaskan mengapa jika menginput \"luas\" hasil yang keluar adalah 2 dan jika menginput keliling hasilnya 10\n",
    "Jika user menginput \"luas\", maka program akan mengembalikan hasil dari fungsi luas dengan parameter 1 dan 2. Sehingga hasilnya adalah 2. Sedangkan jika user menginput \"keliling\", maka program akan mengembalikan hasil dari fungsi keliling dengan parameter 3 dan 2. Sehingga hasilnya adalah 10. Ini karena rumus luas adalah panjang x lebar, yang pada kasus ini adalah 1 x 2 = 2. Sedangkan rumus keliling adalah 2 x (panjang + lebar), yang pada kasus ini adalah 2 x (3 + 2) = 10. Jika user menginput input yang tidak valid, maka program akan mencetak pesan kesalahan dan mengembalikan nilai input tersebut."
   ]
  }
 ],
 "metadata": {
  "colab": {
   "collapsed_sections": [
    "sJ2OjMFijN1p",
    "KMOyjC_2lxhJ",
    "qeWvt4txzgpr",
    "Ywp3b0ncz2di"
   ],
   "provenance": []
  },
  "kernelspec": {
   "display_name": "Python 3 (ipykernel)",
   "language": "python",
   "name": "python3"
  },
  "language_info": {
   "codemirror_mode": {
    "name": "ipython",
    "version": 3
   },
   "file_extension": ".py",
   "mimetype": "text/x-python",
   "name": "python",
   "nbconvert_exporter": "python",
   "pygments_lexer": "ipython3",
   "version": "3.10.4"
  }
 },
 "nbformat": 4,
 "nbformat_minor": 4
}
