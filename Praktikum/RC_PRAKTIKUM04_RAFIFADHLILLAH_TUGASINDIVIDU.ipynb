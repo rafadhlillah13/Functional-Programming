{
 "cells": [
  {
   "cell_type": "markdown",
   "metadata": {
    "id": "RpOid0E_5yDu"
   },
   "source": [
    "# TUGAS INDIVIDU PBF MINGGU 4\n",
    "### Nama : Rafi Fadhlillah\n",
    "### NIM  : 121450143"
   ]
  },
  {
   "cell_type": "markdown",
   "metadata": {
    "id": "ycHZuFuVvU0O",
    "tags": []
   },
   "source": [
    "# Scope "
   ]
  },
  {
   "cell_type": "markdown",
   "metadata": {},
   "source": [
    "**Untuk mengingat kembali rules dari variabel, jelaskan mengapa terjadi eror pada kode yang kedua dan ketiga, sedangkan kode yang pertama tidak terjadi eror.**"
   ]
  },
  {
   "cell_type": "code",
   "execution_count": 1,
   "metadata": {
    "id": "KCC42UdJvDmk"
   },
   "outputs": [],
   "source": [
    "variabel_satu = \"String\"  \n",
    "integer_variabel = 100000\n",
    "total = 8 + 88 * 888"
   ]
  },
  {
   "cell_type": "markdown",
   "metadata": {},
   "source": [
    "**Jawaban** <br>\n",
    "Kode pertama tidak mengalami error karena variabel yang dideklarasikan memiliki nama yang valid, yaitu hanya terdiri dari karakter huruf dan underscore (_) dan dimulai dengan karakter huruf. Selain itu, tipe data dari variabel juga sesuai dengan nilai yang diisikan."
   ]
  },
  {
   "cell_type": "code",
   "execution_count": 2,
   "metadata": {
    "colab": {
     "base_uri": "https://localhost:8080/",
     "height": 132
    },
    "id": "UlNgNTRtvXFg",
    "outputId": "64945269-ca3f-42ad-fc86-558f386e1001"
   },
   "outputs": [],
   "source": [
    "variabel_dua = \"String\""
   ]
  },
  {
   "cell_type": "markdown",
   "metadata": {
    "id": "6LYhlvlkvgyB"
   },
   "source": [
    "**Jawaban** <br>\n",
    "Pada kode kedua, terdapat kesalahan pada penamaan variabel, yaitu terdapat spasi pada nama variabel, sehingga akan terjadi error saat dijalankan. Nama variabel harus terdiri dari karakter huruf dan underscore (_), tanpa adanya spasi."
   ]
  },
  {
   "cell_type": "code",
   "execution_count": 3,
   "metadata": {
    "colab": {
     "base_uri": "https://localhost:8080/",
     "height": 132
    },
    "id": "r6jcvlznwUdn",
    "outputId": "1954257c-d559-43c6-f11e-b90656521010"
   },
   "outputs": [],
   "source": [
    "an90 = \"String\""
   ]
  },
  {
   "cell_type": "markdown",
   "metadata": {
    "id": "3DsoQ5kswUu3"
   },
   "source": [
    "**Jawaban** <br>\n",
    "Pada kode ketiga, nama variabel tidak valid karena dimulai dengan angka. Nama variabel harus dimulai dengan karakter huruf, bukan angka. Oleh karena itu, program akan mengalami error ketika dijalankan."
   ]
  },
  {
   "cell_type": "markdown",
   "metadata": {
    "id": "d3TtCuAhweH4"
   },
   "source": [
    "# LEG (Local - Enclosing - Global)"
   ]
  },
  {
   "cell_type": "markdown",
   "metadata": {
    "id": "-6IjhyUJwtks"
   },
   "source": [
    "## 1. Buatlah code pemrograman dengan menghasilkan output berikut:"
   ]
  },
  {
   "cell_type": "markdown",
   "metadata": {
    "id": "xBbRkEAfxVvd"
   },
   "source": [
    "**Jelaskan mengapa eror bisa terjadi?** <br>\n",
    "Code di atas error karena variabel local_sound belum didefinisikan sebelum digunakan di bagian print(\"local_sound: \" + local_sound). Variabel local_sound hanya didefinisikan di dalam fungsi speak dan hanya dapat diakses di dalam fungsi tersebut. Oleh karena itu, variabel local_sound tidak dapat diakses di luar fungsi speak. Untuk mengatasi error ini, variabel local_sound harus didefinisikan terlebih dahulu sebelum digunakan di luar fungsi speak."
   ]
  },
  {
   "cell_type": "code",
   "execution_count": 4,
   "metadata": {
    "colab": {
     "base_uri": "https://localhost:8080/"
    },
    "id": "I2wiI_12wxMg",
    "outputId": "8716cb44-a206-42ad-f17d-022cbd4c054a"
   },
   "outputs": [
    {
     "name": "stdout",
     "output_type": "stream",
     "text": [
      "global_sound \t: Annyeong Haseyo\n",
      "suara_hewan \t: Mmiaw\n",
      "global_sound \t: Annyeong Haseyo\n",
      "local_sound \t: salam\n",
      "suara_hewan \t: Arigatou\n",
      "global_sound \t: Miaw\n"
     ]
    }
   ],
   "source": [
    "#Perbaikan code\n",
    "global global_sound\n",
    "\n",
    "global_sound = \"Annyeong Haseyo\"\n",
    "\n",
    "def speak(animal_sound):\n",
    "    global global_sound\n",
    "    print(\"suara_hewan \\t: \" + animal_sound)\n",
    "    print(\"global_sound \\t: \" + global_sound)\n",
    "    local_sound = \"salam\"\n",
    "    print(\"local_sound \\t: \" + local_sound)\n",
    "    animal_sound = \"Arigatou\"\n",
    "    global_sound = \"Miaw\"\n",
    "    print(\"suara_hewan \\t: \" + animal_sound)\n",
    "\n",
    "print(\"global_sound \\t: \" + global_sound)\n",
    "speak(\"Mmiaw\")\n",
    "print(\"global_sound \\t: \" + global_sound)"
   ]
  },
  {
   "cell_type": "markdown",
   "metadata": {
    "id": "VHw_bqppxm36"
   },
   "source": [
    "## 2. Lengkapi Code berikut"
   ]
  },
  {
   "cell_type": "markdown",
   "metadata": {},
   "source": [
    "**Jelaskan mengapa eror terjadi lagi? Apa yang dimaksud dengan Scope inner dan Scope Outer?**"
   ]
  },
  {
   "cell_type": "markdown",
   "metadata": {
    "id": "n-lWnnuCyAb1"
   },
   "source": [
    "**Jawaban** <br>\n",
    "- Error terjadi karena nomor_2 hanya didefinisikan di dalam fungsi inner() dan tidak bisa diakses di luar fungsi tersebut. Namun, di dalam fungsi outer(), ketika kita mencoba mencetak nomor_2, program mencoba mencari variabel nomor_2 di dalam scope lokal outer(), yang tidak ada. Scope adalah tempat di mana variabel dapat diakses. Dalam kode di atas, nomor_1 adalah variabel dalam scope outer(), sedangkan nomor_2 adalah variabel dalam scope inner(). Variabel dalam scope yang lebih dalam (dalam hal ini inner()) dapat mengakses variabel dalam scope yang lebih tinggi (dalam hal ini outer()), tetapi variabel dalam scope yang lebih tinggi tidak dapat mengakses variabel dalam scope yang lebih dalam. Sehingga, print(\"cetakan ketiga dari dalam: \", nomor_2) menghasilkan NameError, karena nomor_2 tidak didefinisikan di dalam scope outer().\n",
    "- Inner Scope : Merujuk pada wilayah atau tempat di mana variabel atau fungsi dapat diakses di dalam blok tertentu, seperti variabel yang didefinisikan di dalam fungsi atau loop.\n",
    "- Outer Scope : Merujuk pada wilayah atau tempat di mana variabel atau fungsi dapat diakses secara global dalam program, seperti variabel yang didefinisikan di luar dari fungsi atau class."
   ]
  },
  {
   "cell_type": "code",
   "execution_count": 5,
   "metadata": {
    "colab": {
     "base_uri": "https://localhost:8080/"
    },
    "id": "WXSIpaFyy1gH",
    "outputId": "3fd6e49d-b4d7-467f-e0b8-bf18cd65f853"
   },
   "outputs": [
    {
     "name": "stdout",
     "output_type": "stream",
     "text": [
      "cetakan pertama dari dalam:  888\n",
      "cetakan kedua dari dalam:  999\n",
      "cetakan ketiga dari dalam:  888\n"
     ]
    }
   ],
   "source": [
    "#Jawaban\n",
    "def outer():\n",
    "    nomor_1 = 888\n",
    "    def inner():\n",
    "        nomor_2 = 999\n",
    "        # Scope: Inner\n",
    "        print(\"cetakan pertama dari dalam: \", nomor_1) # Output: 888\n",
    "        # Scope: Inner\n",
    "        print(\"cetakan kedua dari dalam: \", nomor_2) # Output: 999\n",
    "    inner()\n",
    "    # Scope: Outer\n",
    "    print(\"cetakan ketiga dari dalam: \", nomor_1) # Output: 888\n",
    "\n",
    "outer()"
   ]
  },
  {
   "cell_type": "markdown",
   "metadata": {
    "id": "hkrS7Og2y_me"
   },
   "source": [
    "## 3. Buatlah perintah berikut dengan Global scope dengan menghasilkan output yang ditunjukkan di bawah ini:"
   ]
  },
  {
   "cell_type": "code",
   "execution_count": 6,
   "metadata": {
    "colab": {
     "base_uri": "https://localhost:8080/"
    },
    "id": "QugCJ15ozKSp",
    "outputId": "8f52fdfc-45ab-4cf0-a5c4-f4a3793ec94b"
   },
   "outputs": [
    {
     "name": "stdout",
     "output_type": "stream",
     "text": [
      "Hello Annyeong\n",
      "Hello Nama Kamu\n"
     ]
    }
   ],
   "source": [
    "# Jawaban\n",
    "greeting = \"Hello\"\n",
    "\n",
    "def greeting_world():\n",
    "    print(greeting + \" Annyeong\")\n",
    "\n",
    "def greeting_name(name):\n",
    "    print(greeting + \" \" + name)\n",
    "\n",
    "greeting_world()\n",
    "greeting_name(\"Nama Kamu\")\n"
   ]
  },
  {
   "cell_type": "markdown",
   "metadata": {
    "id": "au4Xf-71ze9b"
   },
   "source": [
    "## 4. Kenapa yah kode ini gak sesuai dengan yang kalian inginkan? Jelaskan! Ubahlah output menjadi \"Danke World\""
   ]
  },
  {
   "cell_type": "markdown",
   "metadata": {
    "id": "FDoNCvjmz5f0"
   },
   "source": [
    "**Kenapa yah code gak sesuai yang diinginkan?** <br>\n",
    "Kode tersebut tidak menghasilkan output \"Danke World\" seperti yang diminta karena kedua fungsi change_greeting dan greeting_world tidak diimplementasikan untuk melakukan perubahan terhadap nilai greeting. Kedua fungsi hanya didefinisikan dengan statement pass yang tidak melakukan apa-apa."
   ]
  },
  {
   "cell_type": "code",
   "execution_count": 7,
   "metadata": {
    "colab": {
     "base_uri": "https://localhost:8080/"
    },
    "id": "LwddXvT3zggv",
    "outputId": "04ffea02-b617-4c88-c18e-871a0cc8588e"
   },
   "outputs": [
    {
     "name": "stdout",
     "output_type": "stream",
     "text": [
      "Danke World\n"
     ]
    }
   ],
   "source": [
    "# jawaban\n",
    "greeting = \"Annyeong\"\n",
    "\n",
    "def change_greeting(new_greeting):\n",
    "    global greeting\n",
    "    greeting = new_greeting\n",
    "\n",
    "def greeting_world():\n",
    "    world = \"World\"\n",
    "    print(greeting, world)\n",
    "\n",
    "change_greeting(\"Danke\")\n",
    "greeting_world()"
   ]
  },
  {
   "cell_type": "markdown",
   "metadata": {
    "id": "mzeY12Jd0CpW"
   },
   "source": [
    "## 5. Perbaiki kode ini dengan konsep Enclosing Scope. Sehingga menghasilkan output berikut:\n",
    "```\n",
    "inner - nomor_kedua is:  1000\n",
    "outer - nomor_kesatu is:  0\n",
    "```"
   ]
  },
  {
   "cell_type": "code",
   "execution_count": 8,
   "metadata": {
    "colab": {
     "base_uri": "https://localhost:8080/"
    },
    "id": "BE4QgeRCz_sJ",
    "outputId": "0bcca2e9-f17e-4a6a-fbe3-083caa203b0a"
   },
   "outputs": [
    {
     "name": "stdout",
     "output_type": "stream",
     "text": [
      "inner - nomor_kedua is:  1000\n",
      "outer - nomor_kesatu is:  999\n"
     ]
    }
   ],
   "source": [
    "def outer():\n",
    "    nomor_kesatu = 999\n",
    "    def inner():\n",
    "        nomor_kesatu = 0\n",
    "        nomor_kedua = 1000\n",
    "        print(\"inner - nomor_kedua is: \", nomor_kedua)\n",
    "    inner()\n",
    "    print(\"outer - nomor_kesatu is: \", nomor_kesatu)\n",
    "\n",
    "outer()"
   ]
  },
  {
   "cell_type": "code",
   "execution_count": 9,
   "metadata": {
    "colab": {
     "base_uri": "https://localhost:8080/"
    },
    "id": "e3LQVa0w0Rji",
    "outputId": "b9ac5aa9-062d-4071-9aa9-75a16b3d0719"
   },
   "outputs": [
    {
     "name": "stdout",
     "output_type": "stream",
     "text": [
      "inner - nomor_kedua is \t\t:  1000\n",
      "outer - nomor_kesatu is \t:  0\n"
     ]
    }
   ],
   "source": [
    "# Jawaban\n",
    "def outer():\n",
    "    nomor_kesatu = 999\n",
    "    def inner():\n",
    "        nonlocal nomor_kesatu\n",
    "        nomor_kesatu = 0\n",
    "        nomor_kedua = 1000\n",
    "        print(\"inner - nomor_kedua is \\t\\t: \", nomor_kedua)\n",
    "    inner()\n",
    "    print(\"outer - nomor_kesatu is \\t: \", nomor_kesatu)\n",
    "\n",
    "outer()"
   ]
  },
  {
   "cell_type": "markdown",
   "metadata": {
    "id": "mrOHA7yp0cPR"
   },
   "source": [
    "## 6. Jelaskan Perbedaan dan penggunaan dari Local, Enclosing, Global. Berikan Contoh pemrograman sederhana dari penggunaannya"
   ]
  },
  {
   "cell_type": "markdown",
   "metadata": {
    "id": "eK9gH6qA0krM"
   },
   "source": [
    "**Jawaban**\n",
    "\n",
    "**1. Local Scope** <br>\n",
    "Local scope adalah lingkup variabel yang hanya dapat diakses di dalam sebuah fungsi atau metode. Variabel yang didefinisikan di dalam sebuah fungsi memiliki local scope dan hanya dapat diakses di dalam fungsi tersebut. Setelah fungsi dijalankan, variabel tersebut tidak lagi dapat diakses dari luar fungsi.\n",
    "\n",
    "Contoh penggunaan local scope:\n",
    "```\n",
    "def contoh_local():\n",
    "    # variabel a memiliki local scope\n",
    "    a = 10\n",
    "    print(a)\n",
    "contoh_local() # output: 10\n",
    "```\n",
    "\n",
    "**2. Enclosing Scope** <br>\n",
    "Enclosing scope adalah lingkup variabel yang berada di luar dari sebuah fungsi, tetapi masih berada di dalam sebuah blok kode yang mengandung fungsi tersebut, seperti blok kode dari nested function. Variabel yang didefinisikan di luar fungsi dan diakses oleh fungsi dalam nested function tersebut memiliki enclosing scope.\n",
    "\n",
    "Contoh penggunaan enclosing scope:\n",
    "```\n",
    "def outer_function():\n",
    "    # variabel a memiliki enclosing scope\n",
    "    a = 10\n",
    "\n",
    "    def inner_function():\n",
    "        print(a)\n",
    "    \n",
    "    inner_function()\n",
    "\n",
    "outer_function()  # output: 10\n",
    "```\n",
    "**3. Global Scope** <br>\n",
    "Global scope adalah lingkup variabel yang berada di luar dari sebuah fungsi atau class, dan dapat diakses dari seluruh bagian kode program. Variabel yang didefinisikan di luar fungsi atau class memiliki global scope.\n",
    "\n",
    "Contoh penggunaan global scope:\n",
    "\n",
    "```\n",
    "# variabel a memiliki global scope\n",
    "a = 10\n",
    "\n",
    "def example_function():\n",
    "    print(a)\n",
    "\n",
    "example_function()  # output: 10\n",
    "print(a)  # output: 10\n",
    "```"
   ]
  },
  {
   "cell_type": "markdown",
   "metadata": {
    "id": "A8zykF1N1VDg"
   },
   "source": [
    "# CLOSURE"
   ]
  },
  {
   "cell_type": "markdown",
   "metadata": {
    "id": "IkARlPh-1YU6"
   },
   "source": [
    "## 7. Buatlah versi closure dari program nomor 6. Jelaskan perbedaannya"
   ]
  },
  {
   "cell_type": "code",
   "execution_count": 10,
   "metadata": {
    "colab": {
     "base_uri": "https://localhost:8080/"
    },
    "id": "6Nfyg31G19qD",
    "outputId": "07835b4c-2e65-4269-d890-3472adee7afb"
   },
   "outputs": [
    {
     "name": "stdout",
     "output_type": "stream",
     "text": [
      "10\n"
     ]
    }
   ],
   "source": [
    "def outer_function():\n",
    "    # variabel a memiliki enclosing scope\n",
    "    a = 10\n",
    "\n",
    "    def inner_function():\n",
    "        print(a)\n",
    "    \n",
    "    return inner_function\n",
    "\n",
    "rafi_function = outer_function()\n",
    "rafi_function() "
   ]
  },
  {
   "cell_type": "markdown",
   "metadata": {},
   "source": [
    "**Perbedaannya** <br>\n",
    "- Perbedaan antara penggunaan enclosing scope dan closure adalah pada cara variabel aksesibilitasnya. Pada enclosing scope, variabel didefinisikan di luar fungsi dan diakses oleh fungsi yang berada di dalam blok kode yang sama. Sedangkan pada closure, variabel didefinisikan di dalam fungsi dan diakses oleh fungsi yang mengembalikan fungsi dalam bentuk closure.\n",
    "\n",
    "- Pada contoh program di atas, variabel a didefinisikan di dalam fungsi outer_function dan diakses oleh fungsi inner_function yang dikembalikan dalam bentuk closure. Fungsi inner_function masih memiliki akses ke variabel a walaupun variabel tersebut tidak lagi berada di dalam lingkup variabel fungsi inner_function. Fungsi outer_function mengembalikan fungsi inner_function sehingga variabel my_function sekarang berisi referensi ke closure inner_function yang memiliki akses ke variabel a.\n",
    "\n",
    "- Dalam hal ini, closure adalah cara yang lebih fleksibel dan dapat digunakan untuk mengatasi masalah ketika variabel yang diinginkan tidak dapat diakses secara langsung oleh fungsi yang akan menggunakannya. Closure dapat membantu untuk menghindari penggunaan variabel global dan membuat kode program lebih modular dan mudah di-maintain."
   ]
  },
  {
   "cell_type": "markdown",
   "metadata": {
    "id": "zjGIJggK2BQL"
   },
   "source": [
    "## 8. Mengapa keluarannya berupa 1?"
   ]
  },
  {
   "cell_type": "code",
   "execution_count": 11,
   "metadata": {
    "colab": {
     "base_uri": "https://localhost:8080/"
    },
    "id": "f8e5MoLm2Cxj",
    "outputId": "9cbb2a6a-6bb8-49db-e49c-ddd5ff6a3c35"
   },
   "outputs": [
    {
     "data": {
      "text/plain": [
       "1"
      ]
     },
     "execution_count": 11,
     "metadata": {},
     "output_type": "execute_result"
    }
   ],
   "source": [
    "def f(x):\n",
    "    def g(y):\n",
    "        return y\n",
    "    return g\n",
    "a = 888\n",
    "b = 1\n",
    "h=f(a)\n",
    "h(b)"
   ]
  },
  {
   "cell_type": "markdown",
   "metadata": {
    "id": "f38lQJXi2Gc_"
   },
   "source": [
    "**Jawaban** <br>\n",
    "Pada kode program di atas, fungsi f mengembalikan fungsi g tanpa melakukan apa-apa pada inputnya. Fungsi g hanya mengembalikan nilai y yang diberikan sebagai input. Pada baris terakhir kode program, fungsi h diisi dengan hasil dari pemanggilan f(a). Variabel a didefinisikan sebelumnya dan memiliki nilai 888. Kemudian, fungsi h dipanggil dengan input b. Namun, fungsi h adalah referensi ke fungsi g yang selalu mengembalikan nilai inputnya. Dalam hal ini, input yang diberikan ke fungsi g adalah b, sehingga h(b) akan mengembalikan nilai 1, yang merupakan nilai dari variabel b yang didefinisikan sebelumnya. Sehingga, keluaran dari program ini adalah 1."
   ]
  },
  {
   "cell_type": "markdown",
   "metadata": {
    "id": "zaCbCYP02ROQ"
   },
   "source": [
    "## 9. Jelaskan mengapa outputnya eror dan buatlah kode pemrogramannya! perbaiki sehingga menghasilkan output 1"
   ]
  },
  {
   "cell_type": "markdown",
   "metadata": {
    "id": "M29SpI5s2eTx"
   },
   "source": [
    "**Mengapa Outputnya Error?** <br>\n",
    "Pada kode program yang diberikan, terdapat variabel y pada fungsi g namun variabel tersebut tidak didefinisikan atau diinputkan saat fungsi g dipanggil pada fungsi f. Oleh karena itu, saat fungsi g dipanggil pada fungsi f, terjadi error karena variabel y belum didefinisikan."
   ]
  },
  {
   "cell_type": "code",
   "execution_count": 12,
   "metadata": {
    "colab": {
     "base_uri": "https://localhost:8080/"
    },
    "id": "Y6VradMi2hau",
    "outputId": "9de2dbf8-8ae5-43e5-d63f-740177088eb0"
   },
   "outputs": [
    {
     "name": "stdout",
     "output_type": "stream",
     "text": [
      "1\n"
     ]
    }
   ],
   "source": [
    "def f(x):\n",
    "    def g(y):\n",
    "        return y\n",
    "    return g\n",
    "\n",
    "a = 888\n",
    "b = 1\n",
    "h = f(a)\n",
    "print(h(b))\n"
   ]
  },
  {
   "cell_type": "markdown",
   "metadata": {
    "id": "Dx3fR3WI2mfd"
   },
   "source": [
    "## 10. Diberikan closure.py berikut:\n",
    "```\n",
    "def has_lengthy_docstring(fn):\n",
    "    \"\"\"\n",
    "    A closure that takes a function and then check whether the function passed \n",
    "    has a docstring with more than 50 characters. 50 is stored as a free variable.\n",
    "\n",
    "    Arguments:\n",
    "        fn: a function for which the doc string length will be validated to be 50\n",
    "    Returns:\n",
    "        bool value, if True meets docstring criterion\n",
    "    \"\"\"\n",
    "    min_doc_string_length = 50\n",
    "    def inner():\n",
    "        return len(fn.__doc__) >= min_doc_string_length\n",
    "    return inner\n",
    "\n",
    "\n",
    "def generate_next_fib_num():\n",
    "    \"\"\"\n",
    "    A closure that gives you the next Fibonacci number.\n",
    "    \"\"\"\n",
    "    prev = 0\n",
    "    next = 1\n",
    "    def inner():\n",
    "        nonlocal prev, next\n",
    "        prev, next = next, prev + next\n",
    "        return prev\n",
    "    return inner\n",
    "\n",
    "\n",
    "counters = dict()\n",
    "\n",
    "def track_fn_call_counts(fn):\n",
    "    \"\"\"\n",
    "    A Closuer that can keep a track of how many times add/mul/div functions were \n",
    "    called, and update a global dictionary variable with the counts.\n",
    "    \"\"\"\n",
    "    count = 0\n",
    "    def inner(*args, **kwargs):\n",
    "        nonlocal count\n",
    "        count += 1\n",
    "        counters[fn.__name__] = count\n",
    "        return fn(*args, **kwargs)\n",
    "    return inner\n",
    "```\n",
    "Buatlah deret fibbonanci dari modul di atas.\n"
   ]
  },
  {
   "cell_type": "code",
   "execution_count": 13,
   "metadata": {
    "colab": {
     "base_uri": "https://localhost:8080/"
    },
    "id": "ilJ4PUCQ2n6g",
    "outputId": "8df7042a-455c-4ef7-c621-d0237fd6691d"
   },
   "outputs": [
    {
     "name": "stdout",
     "output_type": "stream",
     "text": [
      "1\n",
      "1\n",
      "2\n",
      "3\n",
      "5\n",
      "8\n",
      "13\n",
      "21\n",
      "34\n",
      "55\n",
      "89\n",
      "144\n",
      "233\n",
      "377\n",
      "610\n",
      "987\n",
      "1597\n",
      "2584\n",
      "4181\n",
      "6765\n",
      "10946\n",
      "17711\n",
      "28657\n",
      "46368\n",
      "75025\n",
      "121393\n",
      "196418\n",
      "317811\n",
      "514229\n",
      "832040\n",
      "1346269\n",
      "2178309\n",
      "3524578\n",
      "5702887\n",
      "9227465\n",
      "14930352\n",
      "24157817\n",
      "39088169\n",
      "63245986\n",
      "102334155\n",
      "165580141\n",
      "267914296\n",
      "433494437\n",
      "701408733\n",
      "1134903170\n",
      "1836311903\n",
      "2971215073\n",
      "4807526976\n",
      "7778742049\n",
      "12586269025\n",
      "20365011074\n",
      "32951280099\n",
      "53316291173\n",
      "86267571272\n",
      "139583862445\n",
      "225851433717\n",
      "365435296162\n",
      "591286729879\n",
      "956722026041\n",
      "1548008755920\n",
      "2504730781961\n",
      "4052739537881\n",
      "6557470319842\n",
      "10610209857723\n",
      "17167680177565\n",
      "27777890035288\n",
      "44945570212853\n",
      "72723460248141\n",
      "117669030460994\n",
      "190392490709135\n",
      "308061521170129\n",
      "498454011879264\n",
      "806515533049393\n",
      "1304969544928657\n",
      "2111485077978050\n",
      "3416454622906707\n",
      "5527939700884757\n",
      "8944394323791464\n",
      "14472334024676221\n",
      "23416728348467685\n",
      "37889062373143906\n",
      "61305790721611591\n",
      "99194853094755497\n",
      "160500643816367088\n",
      "259695496911122585\n",
      "420196140727489673\n",
      "679891637638612258\n",
      "1100087778366101931\n",
      "1779979416004714189\n",
      "2880067194370816120\n",
      "4660046610375530309\n",
      "7540113804746346429\n",
      "12200160415121876738\n",
      "19740274219868223167\n",
      "31940434634990099905\n",
      "51680708854858323072\n",
      "83621143489848422977\n",
      "135301852344706746049\n",
      "218922995834555169026\n",
      "354224848179261915075\n"
     ]
    }
   ],
   "source": [
    "def generate_fibonacci():\n",
    "    prev = 1\n",
    "    next = 1\n",
    "    \n",
    "    def fibonacci():\n",
    "        nonlocal prev, next\n",
    "        result = prev\n",
    "        prev, next = next, prev + next\n",
    "        return result\n",
    "    \n",
    "    return fibonacci\n",
    "\n",
    "# membuat instance dari closure\n",
    "fibonacci = generate_fibonacci()\n",
    "\n",
    "# mencetak 100 bilangan Fibonacci pertama\n",
    "for i in range(100):\n",
    "    print(fibonacci())\n"
   ]
  },
  {
   "cell_type": "markdown",
   "metadata": {},
   "source": [
    "# Soal Tambahan"
   ]
  },
  {
   "cell_type": "code",
   "execution_count": 14,
   "metadata": {},
   "outputs": [],
   "source": [
    "import numpy as np\n",
    "\n",
    "x = [23,42,52,32,42,52,22]\n",
    "y = [37,42,35,14,4,53,32]\n",
    "\n",
    "x_new = np.array(x).reshape((-1,1))\n",
    "y_new = np.array(y)\n",
    "\n",
    "def intercept(x, y):\n",
    "  n = ____(___)\n",
    "  return ______________________\n"
   ]
  }
 ],
 "metadata": {
  "colab": {
   "collapsed_sections": [
    "ycHZuFuVvU0O",
    "d3TtCuAhweH4",
    "-6IjhyUJwtks",
    "VHw_bqppxm36",
    "hkrS7Og2y_me",
    "au4Xf-71ze9b",
    "mzeY12Jd0CpW",
    "mrOHA7yp0cPR",
    "A8zykF1N1VDg",
    "IkARlPh-1YU6",
    "zjGIJggK2BQL",
    "zaCbCYP02ROQ",
    "Dx3fR3WI2mfd"
   ],
   "provenance": []
  },
  "kernelspec": {
   "display_name": "Python 3 (ipykernel)",
   "language": "python",
   "name": "python3"
  },
  "language_info": {
   "codemirror_mode": {
    "name": "ipython",
    "version": 3
   },
   "file_extension": ".py",
   "mimetype": "text/x-python",
   "name": "python",
   "nbconvert_exporter": "python",
   "pygments_lexer": "ipython3",
   "version": "3.10.4"
  }
 },
 "nbformat": 4,
 "nbformat_minor": 4
}
