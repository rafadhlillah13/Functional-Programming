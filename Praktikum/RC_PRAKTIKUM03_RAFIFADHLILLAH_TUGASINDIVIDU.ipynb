{
 "cells": [
  {
   "cell_type": "markdown",
   "metadata": {
    "id": "kB3BJ8u3JPFb"
   },
   "source": [
    "# Tugas Individu Modul 3 Praktikum Pemrograman Berbasis Fungsi\n",
    "## Sains Data ITERA"
   ]
  },
  {
   "cell_type": "markdown",
   "metadata": {
    "id": "jSmBx1AedzOd"
   },
   "source": [
    "#### NAMA : Rafi Fadhlillah\n",
    "#### NIM : 121450143\n",
    "#### KELAS : RC"
   ]
  },
  {
   "cell_type": "markdown",
   "metadata": {
    "id": "WYF0nuH6JPFd"
   },
   "source": [
    "# Soal 1"
   ]
  },
  {
   "cell_type": "code",
   "execution_count": 1,
   "metadata": {
    "id": "pjEFXbizJPFe"
   },
   "outputs": [],
   "source": [
    "def f_list(a, result=None):\n",
    "    \"\"\"Flattens a nested list.\n",
    "\n",
    "        >>> flatten_list([ [1, 2, [3, 4] ], [5, 6], 7])\n",
    "        [1, 2, 3, 4, 5, 6, 7]\n",
    "    \"\"\"\n",
    "    if result is None:\n",
    "        result = []\n",
    "\n",
    "    for x in a:\n",
    "        if isinstance(x, list):\n",
    "            f_list(x, result)\n",
    "        else:\n",
    "            result.append(x)\n",
    "\n",
    "    return result"
   ]
  },
  {
   "cell_type": "markdown",
   "metadata": {
    "id": "IiL7kjr8JPFf"
   },
   "source": [
    "Buatlah treemap seperti contoh f_list di atas, dan buatlah lambda ekspresi. Pertanyaan: Jika sebuah mobil sedang melaju dengan percepatan 0.4 $m/s^2$ dan berhenti karena mengisi daya baterai, lalu berapa waktu yang dibutuhkan mobil untuk bergerak 3 meter? dengan persamaan matematikanya adalah $$ x(t) = \\frac{1}{2}.a_0.t^2+v(x).t+x$$\n",
    "Berapa banyak selang waktu jika pertambahannya adalah 3 meter?"
   ]
  },
  {
   "cell_type": "markdown",
   "metadata": {
    "id": "hnSxn-7bJPFf"
   },
   "source": [
    "Jawaban:\n",
    "$$t = \\sqrt\\frac{2.x(t)}{a_0}$$"
   ]
  },
  {
   "cell_type": "code",
   "execution_count": 2,
   "metadata": {
    "id": "v1FMc7nzJPFf",
    "colab": {
     "base_uri": "https://localhost:8080/"
    },
    "outputId": "1d0bfd24-a1f1-4795-a598-814589870ce4"
   },
   "outputs": [
    {
     "output_type": "stream",
     "name": "stdout",
     "text": [
      "Calling treemap: [3, 6, [9, 12, [15]]] \n",
      "\n",
      "Final Results: [3.872983346207417, 5.477225575051661, [6.708203932499369, 7.745966692414834, [8.660254037844387]]] \n",
      "\n",
      "Hasil Akhir pada saat selang waktu jika pertambahan adalah 3 meter = 3.872983346207417\n"
     ]
    }
   ],
   "source": [
    "#Jawaban\n",
    "import math\n",
    "def treemap(func,lists,result=None):\n",
    "\tif result is None:\n",
    "\t\tresult=[]\n",
    "\tfor i in lists:\n",
    "\t\tif  isinstance(i,list):\n",
    "\t\t\tresult.append(treemap(func,i))\n",
    "\t\telse:\n",
    "\t\t\tresult.append(func(i))\n",
    "\treturn result\n",
    "\n",
    "lists = [3, 6, [9, 12, [15]]]\n",
    "\n",
    "# Panggil treemap\n",
    "calltree = treemap(lambda x: x, lists)\n",
    "print(\"Calling treemap:\",calltree, \"\\n\")\n",
    "\n",
    "# your code ......\n",
    "flat_list = treemap(lambda x: math.sqrt(2*x/0.4), lists)\n",
    "print(\"Final Results:\",flat_list, \"\\n\")\n",
    "\n",
    "print(\"Hasil Akhir pada saat selang waktu jika pertambahan adalah 3 meter = 3.872983346207417\")"
   ]
  },
  {
   "cell_type": "markdown",
   "metadata": {
    "id": "BkNfLTywJPFg"
   },
   "source": [
    "# Soal 2 : Generator - Iterator"
   ]
  },
  {
   "cell_type": "markdown",
   "metadata": {
    "id": "ojQjpAk_JPFh"
   },
   "source": [
    "Lengkapi kode berikut:"
   ]
  },
  {
   "cell_type": "code",
   "execution_count": 3,
   "metadata": {
    "id": "AXXKvSDUJPFh"
   },
   "outputs": [],
   "source": [
    "class yrange:\n",
    "    def __init__(self, n):\n",
    "        self.i = 0     #Jawaban\n",
    "        self.n = n      #Jawaban\n",
    "\n",
    "    def __iter__(self):\n",
    "        return self     #Jawaban\n",
    "\n",
    "    def __next__(self):\n",
    "        if self.i < self.n:\n",
    "           i = self.i   #Jawaban\n",
    "           self.i += 1 #Jawaban\n",
    "           return i   #Jawaban\n",
    "        else:\n",
    "            raise StopIteration()"
   ]
  },
  {
   "cell_type": "markdown",
   "metadata": {
    "id": "uHHQj_QeJPFh"
   },
   "source": [
    "A. Buatlah perhitungan dari 1 sampai 10 berdasarkan class di atas lakukan dengan next() hingga berhenti"
   ]
  },
  {
   "cell_type": "code",
   "execution_count": 4,
   "metadata": {
    "id": "5AoKiC9iJPFh",
    "outputId": "74ce3481-1ba4-4b39-b48d-a8758d88d194",
    "colab": {
     "base_uri": "https://localhost:8080/"
    }
   },
   "outputs": [
    {
     "output_type": "stream",
     "name": "stdout",
     "text": [
      "1\n",
      "2\n",
      "3\n",
      "4\n",
      "5\n",
      "6\n",
      "7\n",
      "8\n",
      "9\n",
      "10\n"
     ]
    }
   ],
   "source": [
    "# Jawaban\n",
    "t=yrange(10)\n",
    "list_instance = [1, 2, 3, 4,5,6,7,8,9,10]\n",
    "\n",
    "# convert the list to an iterator\n",
    "t = iter(list_instance)\n",
    "print(next(t))\n",
    "print(next(t))\n",
    "print(next(t))\n",
    "print(next(t))\n",
    "print(next(t))\n",
    "print(next(t))\n",
    "print(next(t))\n",
    "print(next(t))\n",
    "print(next(t))\n",
    "print(next(t))"
   ]
  },
  {
   "cell_type": "markdown",
   "metadata": {
    "id": "hWGwQN6rJPFi"
   },
   "source": [
    "B. Dari Fungsi berikut bangunlah fungsi dalam fungsi dengan fungsi generator di bawah ini.\n",
    "dan print dengan output mengembalikan nilai n pertama dari urutan yang diberikan."
   ]
  },
  {
   "cell_type": "code",
   "execution_count": 5,
   "metadata": {
    "id": "pDn36DwZJPFi"
   },
   "outputs": [],
   "source": [
    "def integers():\n",
    "    \"\"\"Infinite sequence of integers.\"\"\"\n",
    "    i = 1\n",
    "    while True:\n",
    "        yield i\n",
    "        i = i + 1\n",
    "\n",
    "def squares():\n",
    "    for i in integers():\n",
    "        yield i * i"
   ]
  },
  {
   "cell_type": "code",
   "execution_count": 6,
   "metadata": {
    "id": "H3hODyfBJPFi",
    "colab": {
     "base_uri": "https://localhost:8080/"
    },
    "outputId": "2ec95d16-76bc-457f-8c27-945ab751a9d3"
   },
   "outputs": [
    {
     "output_type": "stream",
     "name": "stdout",
     "text": [
      "[1, 4, 9, 16, 25]\n"
     ]
    }
   ],
   "source": [
    "#Jawaban\n",
    "def take(n, seq):\n",
    "    \"\"\"Mengembalikan nilai n pertama dari urutan yang diberikan.\"\"\"\n",
    "    seq = iter(seq)\n",
    "    result = []\n",
    "    try:\n",
    "        for i in range(n):\n",
    "            result.append(next(seq))\n",
    "    except StopIteration:\n",
    "        pass\n",
    "    return result\n",
    "\n",
    "\"\"\"\n",
    "kode yang harus dijalankan: print(take(5, squares()))\n",
    "output yang diharapkan: [1, 4, 9, 16, 25]\n",
    "\"\"\"   \n",
    "# your code \n",
    "def square_sequence(n):\n",
    "    return take(n, squares())\n",
    "    \n",
    "print(square_sequence(5))"
   ]
  },
  {
   "cell_type": "markdown",
   "metadata": {
    "id": "n9aV0VNIJPFi"
   },
   "source": [
    "# Soal 3 : Ekspresi Generator"
   ]
  },
  {
   "cell_type": "markdown",
   "metadata": {
    "id": "mU9Q0f4RJPFj"
   },
   "source": [
    "Katakanlah kita ingin menemukan 10 (atau n) triplet pythogorian pertama. Triplet (x, y, z) disebut triplet pythogorian jika ```x*x + y*y == z*z.``` Buatlah code pemrogramannya dengan Ekspresi Generator. Gunakan fungsi yang kalian definisikan di Soal 3b."
   ]
  },
  {
   "cell_type": "code",
   "execution_count": 7,
   "metadata": {
    "id": "422_M4eWJPFj",
    "colab": {
     "base_uri": "https://localhost:8080/"
    },
    "outputId": "5deeb7ae-6d07-4abf-ad54-cb08829e83de"
   },
   "outputs": [
    {
     "output_type": "stream",
     "name": "stdout",
     "text": [
      "(3, 4, 5)\n",
      "(6, 8, 10)\n",
      "(5, 12, 13)\n",
      "(9, 12, 15)\n",
      "(8, 15, 17)\n",
      "(12, 16, 20)\n",
      "(15, 20, 25)\n",
      "(7, 24, 25)\n",
      "(10, 24, 26)\n",
      "(20, 21, 29)\n"
     ]
    }
   ],
   "source": [
    "# your code\n",
    "pyt = ((x, y, z) for z in integers() for y in range(1, z) for x in range(1, y) if x*x + y*y == z*z)\n",
    "\"\"\"\n",
    "kode yang harus dijalankan: take(10, pyt)\n",
    "output yang diharapkan: 10 triplet pythogorian\n",
    "\"\"\"\n",
    "Generate= take(10, pyt)\n",
    "for i in range(10):\n",
    "    print(Generate[i])"
   ]
  },
  {
   "cell_type": "markdown",
   "metadata": {
    "id": "b-zwQ3PIJPFj"
   },
   "source": [
    "Kita ingin membaca argumen pada file yang mana sama dan lebih dari 10 kata. Simpan lah nama-nama berikut dalam file.txt dan file kedua dalam file txt. Buatlah fungsi ekspresi generator yang membaca file tersebut"
   ]
  },
  {
   "cell_type": "markdown",
   "metadata": {
    "id": "L4IkFkctJPFj"
   },
   "source": [
    "File pertama"
   ]
  },
  {
   "cell_type": "markdown",
   "metadata": {
    "id": "nT7w_6mcJPFj"
   },
   "source": [
    "```\n",
    "Salwa Amelia Salsabila\n",
    "Muhammad Zaki Abdilah\n",
    "Rafi Fadilah\n",
    "Wulan Sabina\n",
    "Rizki Adrian Benovri\n",
    "Revaldo Daffa Fahmindo\n",
    "Farah Faizah\n",
    "Khoirul Amar\n",
    "Kaisar Firdaus\n",
    "Putri Olivia \n",
    "```"
   ]
  },
  {
   "cell_type": "markdown",
   "metadata": {
    "id": "djFZUgIJJPFk"
   },
   "source": [
    "file kedua"
   ]
  },
  {
   "cell_type": "markdown",
   "metadata": {
    "id": "oQ61Zj3fJPFk"
   },
   "source": [
    "```\n",
    "the second file\n",
    "for names in the files lets make it 40 or larger \n",
    "line so indeed its accomplished\n",
    "this line for splitting to other files\n",
    "for the perfection all files are intact\n",
    "so we are done here do the rest\n",
    "```"
   ]
  },
  {
   "cell_type": "code",
   "execution_count": 8,
   "metadata": {
    "id": "KZ0Q5RnLJPFk"
   },
   "outputs": [],
   "source": [
    "#Jawaban\n",
    "def readfiles(filenames):\n",
    "\tfor f in filenames:\n",
    "\t\tfor line in open(f):\n",
    "\t\t\tyield line"
   ]
  },
  {
   "cell_type": "code",
   "execution_count": 9,
   "metadata": {
    "id": "GHIRf9SmJPFk"
   },
   "outputs": [],
   "source": [
    "# Fungsi Tambahan\n",
    "def line_of_10(lines):\n",
    "\treturn (line for line in lines if len(line)>=10)\n",
    "\n",
    "def print_lines(lines):\n",
    "\tfor line in lines:\n",
    "\t\tprint(line)\n",
    "\n",
    "def main(filenames):\n",
    "\tline=readfiles(filenames)\n",
    "\tline=line_of_10(line)\n",
    "\tprint_lines(line)"
   ]
  },
  {
   "cell_type": "code",
   "execution_count": 10,
   "metadata": {
    "id": "OwqKemJuJPFk",
    "outputId": "d4aed475-2691-4992-cc07-5c45fc8bfabc",
    "colab": {
     "base_uri": "https://localhost:8080/"
    }
   },
   "outputs": [
    {
     "output_type": "stream",
     "name": "stdout",
     "text": [
      "Salwa Amelia Salsabila\n",
      "\n",
      "Muhammad Zaki Abdilah\n",
      "\n",
      "Rafi Fadilah\n",
      "\n",
      "Wulan Sabina\n",
      "\n",
      "Rizki Adrian Benovri\n",
      "\n",
      "Revaldo Daffa Fahmindo\n",
      "\n",
      "Farah Faizah\n",
      "\n",
      "Khoirul Amar\n",
      "\n",
      "Kaisar Firdaus\n",
      "\n",
      "Putri Olivia \n",
      "the second file\n",
      "\n",
      "for names in the files lets make it 40 or larger \n",
      "\n",
      "line so indeed its accomplished\n",
      "\n",
      "this line for splitting to other files\n",
      "\n",
      "for the perfection all files are intact\n",
      "\n",
      "so we are done here do the rest\n"
     ]
    }
   ],
   "source": [
    "\"\"\"\n",
    "kode yang harus dijalankan: main(['nama2.txt','nama.txt'])\n",
    "\"\"\"\n",
    "main(['Filename1Rafi.txt','Filename2Rafi.txt'])\n"
   ]
  },
  {
   "cell_type": "markdown",
   "metadata": {
    "id": "CE7BS-XOJPFl"
   },
   "source": [
    "# Soal 4"
   ]
  },
  {
   "cell_type": "markdown",
   "metadata": {
    "id": "8gmhDl5FJPFl"
   },
   "source": [
    "Hitunglah persamaan berikut dengan range 100 dan jumlahkan, gunakan ekspresi generator\n",
    "$$ L(n)=\\sqrt{n}.3.n+43 $$\n",
    "$$t = \\sqrt\\frac{2.x(t)}{a_0}$$"
   ]
  },
  {
   "cell_type": "code",
   "execution_count": 11,
   "metadata": {
    "id": "DK1lj8DDJPFl",
    "colab": {
     "base_uri": "https://localhost:8080/"
    },
    "outputId": "47fba0eb-5ff6-44af-cabe-6557a9a119b3"
   },
   "outputs": [
    {
     "output_type": "execute_result",
     "data": {
      "text/plain": [
       "[43.0,\n",
       " 47.0,\n",
       " 49.242640687119284,\n",
       " 51.19615242270663,\n",
       " 53.0,\n",
       " 54.70820393249937,\n",
       " 56.348469228349536,\n",
       " 57.93725393319377,\n",
       " 59.48528137423857,\n",
       " 61.0,\n",
       " 62.48683298050514,\n",
       " 63.9498743710662,\n",
       " 65.39230484541326,\n",
       " 66.81665382639197,\n",
       " 68.22497216032183,\n",
       " 69.61895003862224,\n",
       " 71.0,\n",
       " 72.36931687685298,\n",
       " 73.72792206135786,\n",
       " 75.07669683062203,\n",
       " 76.41640786499875,\n",
       " 77.74772708486752,\n",
       " 79.07124727947028,\n",
       " 80.38749456993816,\n",
       " 81.69693845669906,\n",
       " 83.0,\n",
       " 84.29705854077835,\n",
       " 85.5884572681199,\n",
       " 86.87450786638755,\n",
       " 88.15549442140352,\n",
       " 89.43167672515499,\n",
       " 90.70329308849006,\n",
       " 91.97056274847714,\n",
       " 93.23368793961409,\n",
       " 94.4928556845359,\n",
       " 95.74823934929884,\n",
       " 97.0,\n",
       " 98.24828759089466,\n",
       " 99.49324200890693,\n",
       " 100.7349939951952,\n",
       " 101.97366596101028,\n",
       " 103.20937271229855,\n",
       " 104.44222209522358,\n",
       " 105.672315572906,\n",
       " 106.8997487421324,\n",
       " 108.1246117974981,\n",
       " 109.3469899493758,\n",
       " 110.56696380120313,\n",
       " 111.78460969082653,\n",
       " 113.0,\n",
       " 114.21320343559643,\n",
       " 115.42428528562854,\n",
       " 116.63330765278394,\n",
       " 117.84032966784156,\n",
       " 119.0454076850486,\n",
       " 120.24859546128698,\n",
       " 121.44994432064365,\n",
       " 122.64950330581225,\n",
       " 123.84731931759173,\n",
       " 125.04343724360582,\n",
       " 126.2379000772445,\n",
       " 127.43074902771997,\n",
       " 128.62202362203544,\n",
       " 129.81176179958132,\n",
       " 131.0,\n",
       " 132.18677324489565,\n",
       " 133.37211521390788,\n",
       " 134.55605831561735,\n",
       " 135.73863375370595,\n",
       " 136.91987158875423,\n",
       " 138.09980079602227,\n",
       " 139.27844931952907,\n",
       " 140.45584412271572,\n",
       " 141.63201123595258,\n",
       " 142.80697580112786,\n",
       " 143.98076211353316,\n",
       " 145.15339366124405,\n",
       " 146.32489316217635,\n",
       " 147.49528259898355,\n",
       " 148.66458325194677,\n",
       " 149.8328157299975,\n",
       " 151.0,\n",
       " 152.16615541441226,\n",
       " 153.3313007374329,\n",
       " 154.49545416973504,\n",
       " 155.65863337187866,\n",
       " 156.82085548648712,\n",
       " 157.98213715926644,\n",
       " 159.14249455894057,\n",
       " 160.3019433961698,\n",
       " 161.46049894151543,\n",
       " 162.61817604250837,\n",
       " 163.7749891398763,\n",
       " 164.93095228297886,\n",
       " 166.08607914449797,\n",
       " 167.24038303442688,\n",
       " 168.39387691339812,\n",
       " 169.5465734053883,\n",
       " 170.698484809835,\n",
       " 171.8496231131986]"
      ]
     },
     "metadata": {},
     "execution_count": 11
    }
   ],
   "source": [
    "#Jawaban\n",
    "satu = [(n**0.5)*3 + 43 + n  for n in range(100)]\n",
    "satu"
   ]
  },
  {
   "cell_type": "code",
   "execution_count": 12,
   "metadata": {
    "id": "1GjAHl8cJPFl",
    "colab": {
     "base_uri": "https://localhost:8080/"
    },
    "outputId": "719a3955-d24b-4117-8902-1eb78dbfce77"
   },
   "outputs": [
    {
     "output_type": "execute_result",
     "data": {
      "text/plain": [
       "11234.38884130944"
      ]
     },
     "metadata": {},
     "execution_count": 12
    }
   ],
   "source": [
    "sum(satu)"
   ]
  },
  {
   "cell_type": "code",
   "execution_count": 13,
   "metadata": {
    "id": "rBmMCU8VJPFl",
    "colab": {
     "base_uri": "https://localhost:8080/"
    },
    "outputId": "62d2c899-f6ba-4991-e00a-476c39ab545c"
   },
   "outputs": [
    {
     "output_type": "execute_result",
     "data": {
      "text/plain": [
       "[0.0,\n",
       " 2.23606797749979,\n",
       " 3.1622776601683795,\n",
       " 3.872983346207417,\n",
       " 4.47213595499958,\n",
       " 5.0,\n",
       " 5.477225575051661,\n",
       " 5.916079783099616,\n",
       " 6.324555320336759,\n",
       " 6.708203932499369,\n",
       " 7.0710678118654755,\n",
       " 7.416198487095663,\n",
       " 7.745966692414834,\n",
       " 8.06225774829855,\n",
       " 8.366600265340756,\n",
       " 8.660254037844387,\n",
       " 8.94427190999916,\n",
       " 9.219544457292887,\n",
       " 9.486832980505138,\n",
       " 9.746794344808963,\n",
       " 10.0,\n",
       " 10.246950765959598,\n",
       " 10.488088481701515,\n",
       " 10.723805294763608,\n",
       " 10.954451150103322,\n",
       " 11.180339887498949,\n",
       " 11.40175425099138,\n",
       " 11.61895003862225,\n",
       " 11.832159566199232,\n",
       " 12.041594578792296,\n",
       " 12.24744871391589,\n",
       " 12.449899597988733,\n",
       " 12.649110640673518,\n",
       " 12.84523257866513,\n",
       " 13.038404810405298,\n",
       " 13.228756555322953,\n",
       " 13.416407864998739,\n",
       " 13.601470508735444,\n",
       " 13.784048752090222,\n",
       " 13.96424004376894,\n",
       " 14.142135623730951,\n",
       " 14.317821063276353,\n",
       " 14.491376746189438,\n",
       " 14.66287829861518,\n",
       " 14.832396974191326,\n",
       " 15.0,\n",
       " 15.165750888103101,\n",
       " 15.329709716755891,\n",
       " 15.491933384829668,\n",
       " 15.652475842498529,\n",
       " 15.811388300841896,\n",
       " 15.968719422671311,\n",
       " 16.1245154965971,\n",
       " 16.278820596099706,\n",
       " 16.431676725154983,\n",
       " 16.583123951777,\n",
       " 16.73320053068151,\n",
       " 16.881943016134134,\n",
       " 17.029386365926403,\n",
       " 17.175564037317667,\n",
       " 17.320508075688775,\n",
       " 17.46424919657298,\n",
       " 17.60681686165901,\n",
       " 17.74823934929885,\n",
       " 17.88854381999832,\n",
       " 18.027756377319946,\n",
       " 18.16590212458495,\n",
       " 18.303005217723125,\n",
       " 18.439088914585774,\n",
       " 18.57417562100671,\n",
       " 18.708286933869708,\n",
       " 18.841443681416774,\n",
       " 18.973665961010276,\n",
       " 19.1049731745428,\n",
       " 19.235384061671343,\n",
       " 19.364916731037084,\n",
       " 19.493588689617926,\n",
       " 19.621416870348583,\n",
       " 19.748417658131498,\n",
       " 19.87460691435179,\n",
       " 20.0,\n",
       " 20.12461179749811,\n",
       " 20.248456731316587,\n",
       " 20.37154878746336,\n",
       " 20.493901531919196,\n",
       " 20.615528128088304,\n",
       " 20.73644135332772,\n",
       " 20.85665361461421,\n",
       " 20.97617696340303,\n",
       " 21.095023109728988,\n",
       " 21.213203435596427,\n",
       " 21.330729007701542,\n",
       " 21.447610589527216,\n",
       " 21.563858652847824,\n",
       " 21.6794833886788,\n",
       " 21.79449471770337,\n",
       " 21.908902300206645,\n",
       " 22.02271554554524,\n",
       " 22.135943621178654,\n",
       " 22.24859546128699]"
      ]
     },
     "metadata": {},
     "execution_count": 13
    }
   ],
   "source": [
    "#Jawaban\n",
    "dua = [math.sqrt(2*n/0.4) for n in range(100)]\n",
    "dua"
   ]
  },
  {
   "cell_type": "code",
   "execution_count": 14,
   "metadata": {
    "id": "zY5EHaxPJPFl",
    "colab": {
     "base_uri": "https://localhost:8080/"
    },
    "outputId": "c75d2538-13c5-4a0c-c931-6d759ce016ed"
   },
   "outputs": [
    {
     "output_type": "execute_result",
     "data": {
      "text/plain": [
       "1479.076114319986"
      ]
     },
     "metadata": {},
     "execution_count": 14
    }
   ],
   "source": [
    "sum(dua)"
   ]
  }
 ],
 "metadata": {
  "colab": {
   "provenance": []
  },
  "kernelspec": {
   "display_name": "sainsdata",
   "language": "python",
   "name": "python3"
  },
  "language_info": {
   "codemirror_mode": {
    "name": "ipython",
    "version": 3
   },
   "file_extension": ".py",
   "mimetype": "text/x-python",
   "name": "python",
   "nbconvert_exporter": "python",
   "pygments_lexer": "ipython3",
   "version": "3.11.2"
  },
  "orig_nbformat": 4,
  "vscode": {
   "interpreter": {
    "hash": "6d5179f2113c0d4ea3f3ce8a9ae396cf40c592e1dffe8df06b755f30a8114e45"
   }
  }
 },
 "nbformat": 4,
 "nbformat_minor": 0
}
