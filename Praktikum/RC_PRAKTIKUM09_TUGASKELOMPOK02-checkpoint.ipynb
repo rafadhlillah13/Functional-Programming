{
 "cells": [
  {
   "cell_type": "markdown",
   "id": "1c0d050c-9c98-45cf-a789-6a4f10f7f663",
   "metadata": {},
   "source": [
    "## Tugas Kelompok PBF Modul 8\n",
    "\n",
    "### Kelompok 2 RC\n",
    "1. Muhammad Zaki Abdillah_121450008\n",
    "2. Gede Moena_121450014\n",
    "3. Muhammad Farhan_121450044\n",
    "4. Meliza Wulandari_121450065\n",
    "5. Rafi Fadhlillah_121450143"
   ]
  },
  {
   "cell_type": "markdown",
   "id": "a1d34a4b-1b15-4f41-ad37-9381bf244e9d",
   "metadata": {},
   "source": [
    "## 5.1 Keypad Combination\n",
    "A keypad on a cellphone has alphabets for all numbers between 2 and 9. <br>\n",
    "You can make different combinations of alphabets by pressing the numbers. <br>\n",
    "**For example, if you press 23, the following combinations are possible: <br>\n",
    "ad, ae, af, bd, be, bf, cd, ce, cf** <br>\n",
    "Note that because 2 is pressed before 3, the first letter is always an alphabet on the number 2. <br>\n",
    "**Likewise, if the user types 32, the order would be <br>\n",
    "da, db, dc, ea, eb, ec, fa, fb, fc** <br>\n",
    "Given an integer num, find out all the possible strings that can be made using digits of input num. <br>\n",
    "Return these strings in a list. The order of strings in the list does not matter. However, as stated <br>\n",
    "earlier, the order of letters in a particular string matters."
   ]
  },
  {
   "cell_type": "code",
   "execution_count": 1,
   "id": "12389ba3-ad78-4a29-a153-27d1f5a1303c",
   "metadata": {},
   "outputs": [],
   "source": [
    "def get_characters(num):\n",
    "  if num == 2:\n",
    "    return \"abc\"\n",
    "  elif num == 3:\n",
    "    return \"def\"\n",
    "  elif num == 4:\n",
    "    return \"ghi\"\n",
    "  elif num == 5:\n",
    "    return \"jkl\"\n",
    "  elif num == 6:\n",
    "    return \"mno\"\n",
    "  elif num == 7:\n",
    "    return \"pqrs\"\n",
    "  elif num == 8:\n",
    "    return \"tuv\"\n",
    "  elif num == 9:\n",
    "    return \"wxyz\"\n",
    "  else:\n",
    "    return \"\"\n",
    "\n",
    "\n",
    "def keypad(num):\n",
    "  # TODO: Write your keypad solution here!\n",
    "  final = []\n",
    "  # Return empty list if num == 0\n",
    "  if num == 0:\n",
    "    return [\"\"]\n",
    "  # return a list of characters for a single number\n",
    "  if len(str(num)) == 1:\n",
    "    return [char for char in get_characters(num)]\n",
    "  # convert the num entry to a list of chars\n",
    "  keys = list(str(num))\n",
    "  print(keys)\n",
    "  #get the chars of the first key\n",
    "  first = keys[0]\n",
    "  first_chars = get_characters(int(first))\n",
    "  # Recursively get a list of possible combinations\n",
    "  sub = keypad(int(''.join(keys[1:])))\n",
    "  print('sub', sub)\n",
    "  # loop through the characters of the first key and bind them with different combinations of the next key\n",
    "  for key in first_chars:\n",
    "    print('key', key)\n",
    "    for item in sub:\n",
    "      j = key\n",
    "      j += item\n",
    "      print('j', j)\n",
    "      final.append(j)\n",
    "  print('final', final)\n",
    "  # return the final list\n",
    "  return final"
   ]
  },
  {
   "cell_type": "code",
   "execution_count": 2,
   "id": "665bc9d8-1f9c-4077-a000-898bbb556cbe",
   "metadata": {},
   "outputs": [],
   "source": [
    "def test_keypad(input, expected_output):\n",
    "  if sorted(keypad(input)) == expected_output:\n",
    "    print(\"Yay. We got it right.\")\n",
    "  else:\n",
    "    print(\"Oops! That was incorrect.\")"
   ]
  },
  {
   "cell_type": "code",
   "execution_count": 3,
   "id": "cc54ef63-9144-4897-8800-33282a49aad2",
   "metadata": {},
   "outputs": [
    {
     "name": "stdout",
     "output_type": "stream",
     "text": [
      "Yay. We got it right.\n"
     ]
    }
   ],
   "source": [
    "# Base case: list with empty string\n",
    "input = 0\n",
    "expected_output = [\"\"]\n",
    "test_keypad(input, expected_output)"
   ]
  },
  {
   "cell_type": "code",
   "execution_count": 4,
   "id": "fb38cc63-9121-4b07-99b9-10af57165e56",
   "metadata": {},
   "outputs": [
    {
     "name": "stdout",
     "output_type": "stream",
     "text": [
      "['2', '3']\n",
      "sub ['d', 'e', 'f']\n",
      "key a\n",
      "j ad\n",
      "j ae\n",
      "j af\n",
      "key b\n",
      "j bd\n",
      "j be\n",
      "j bf\n",
      "key c\n",
      "j cd\n",
      "j ce\n",
      "j cf\n",
      "final ['ad', 'ae', 'af', 'bd', 'be', 'bf', 'cd', 'ce', 'cf']\n",
      "Yay. We got it right.\n"
     ]
    }
   ],
   "source": [
    "# Example case\n",
    "input = 23\n",
    "expected_output = sorted([\"ad\", \"ae\", \"af\", \"bd\", \"be\", \"bf\", \"cd\", \"ce\", \"cf\"])\n",
    "test_keypad(input, expected_output)"
   ]
  },
  {
   "cell_type": "code",
   "execution_count": 5,
   "id": "3af4759d-e3e9-4495-b6de-a68c52a353e8",
   "metadata": {},
   "outputs": [
    {
     "name": "stdout",
     "output_type": "stream",
     "text": [
      "['3', '2']\n",
      "sub ['a', 'b', 'c']\n",
      "key d\n",
      "j da\n",
      "j db\n",
      "j dc\n",
      "key e\n",
      "j ea\n",
      "j eb\n",
      "j ec\n",
      "key f\n",
      "j fa\n",
      "j fb\n",
      "j fc\n",
      "final ['da', 'db', 'dc', 'ea', 'eb', 'ec', 'fa', 'fb', 'fc']\n",
      "Yay. We got it right.\n"
     ]
    }
   ],
   "source": [
    "# Example case\n",
    "input = 32\n",
    "expected_output = sorted([\"da\", \"db\", \"dc\", \"ea\", \"eb\", \"ec\", \"fa\", \"fb\", \"fc\"])\n",
    "test_keypad(input, expected_output)"
   ]
  },
  {
   "cell_type": "code",
   "execution_count": 6,
   "id": "ea1c4c94-4c77-4ca7-ab88-c3bec80cb3ad",
   "metadata": {},
   "outputs": [
    {
     "name": "stdout",
     "output_type": "stream",
     "text": [
      "Yay. We got it right.\n"
     ]
    }
   ],
   "source": [
    "# Example case\n",
    "input = 8\n",
    "expected_output = sorted([\"t\", \"u\", \"v\"])\n",
    "test_keypad(input, expected_output)"
   ]
  },
  {
   "cell_type": "markdown",
   "id": "e8d876d7-2e63-4884-b49e-268fd4f78d84",
   "metadata": {},
   "source": [
    "## 5.2 Tower of Hanoi\n",
    "The Tower of Hanoi is a puzzle where we have three rods and n disks. The three rods are: 1. source\n",
    "2.destination 3. auxiliary <br>\n",
    "\n",
    "Initally, all the n disks are present on the source rod. The final objective of the puzzle is to move\n",
    "all disks from the source rod to the destination rod using the auxiliary rod. However, there are\n",
    "some rules according to which this has to be done: 1. Only one disk can be moved at a time. 2.\n",
    "A disk can be moved only if it is on the top of a rod. 3. No disk can be placed on the top of a\n",
    "smaller disk. <br>\n",
    "\n",
    "You will be given the number of disks num_disks as the input parameter. <br>\n",
    "For example, if you have num_disks = 3, then the disks should be moved as follows:\n",
    "1. move disk from source to auxiliary\n",
    "2. move disk from source to destination\n",
    "3. move disk from auxiliary to destination\n",
    "\n",
    "You must print these steps as follows:\n",
    "- S A\n",
    "- S D\n",
    "- A D\n",
    "\n",
    "Where S = source, D = destination, A = auxiliary <br>\n",
    "\n",
    "Compare your results with the following test cases num_disks = 2 <br>\n",
    "solution S A S D A D  <br>\n",
    "\n",
    "num_disks = 3 <br>\n",
    "solution S D S A D A S D A S A D S D <br> \n",
    "\n",
    "num_disks = 4 <br>\n",
    "solution S A S D A D S A D S D A S A S D A D A S D S A D S A S D A D"
   ]
  },
  {
   "cell_type": "code",
   "execution_count": 7,
   "id": "0f5cbfa4-5344-43dd-8ee1-abaf8637dc04",
   "metadata": {},
   "outputs": [
    {
     "name": "stdout",
     "output_type": "stream",
     "text": [
      "S A\n",
      "S D\n",
      "A D\n"
     ]
    }
   ],
   "source": [
    "def tower_of_Hanoi(num_disks):\n",
    "\n",
    "  tower_of_Hanoi_soln(num_disks, 'S', 'A', 'D')\n",
    "def tower_of_Hanoi_soln(num_disks, source, auxiliary, destination):\n",
    "  \"\"\"\n",
    "  :param: num_disks - number of disks\n",
    "  TODO: print the steps required to move all disks from source to destination\n",
    "  \"\"\"\n",
    "  if num_disks == 0:\n",
    "    return\n",
    "  if num_disks == 1:\n",
    "    print(source, destination)\n",
    "    return\n",
    "  tower_of_Hanoi_soln(num_disks - 1, source, destination, auxiliary)\n",
    "  print(source, destination)\n",
    "  tower_of_Hanoi_soln(num_disks - 1, auxiliary, source, destination)\n",
    "\n",
    "tower_of_Hanoi(2)"
   ]
  },
  {
   "cell_type": "code",
   "execution_count": 8,
   "id": "f4fb148a-064c-4ad7-a8d2-c389cbcddc5d",
   "metadata": {},
   "outputs": [
    {
     "name": "stdout",
     "output_type": "stream",
     "text": [
      "S D\n",
      "S A\n",
      "D A\n",
      "S D\n",
      "A S\n",
      "A D\n",
      "S D\n"
     ]
    }
   ],
   "source": [
    "tower_of_Hanoi(3)"
   ]
  },
  {
   "cell_type": "code",
   "execution_count": 9,
   "id": "09b98066-b105-46da-a67a-78a638c08319",
   "metadata": {},
   "outputs": [
    {
     "name": "stdout",
     "output_type": "stream",
     "text": [
      "S A\n",
      "S D\n",
      "A D\n",
      "S A\n",
      "D S\n",
      "D A\n",
      "S A\n",
      "S D\n",
      "A D\n",
      "A S\n",
      "D S\n",
      "A D\n",
      "S A\n",
      "S D\n",
      "A D\n"
     ]
    }
   ],
   "source": [
    "tower_of_Hanoi(4)"
   ]
  }
 ],
 "metadata": {
  "kernelspec": {
   "display_name": "Python 3 (ipykernel)",
   "language": "python",
   "name": "python3"
  },
  "language_info": {
   "codemirror_mode": {
    "name": "ipython",
    "version": 3
   },
   "file_extension": ".py",
   "mimetype": "text/x-python",
   "name": "python",
   "nbconvert_exporter": "python",
   "pygments_lexer": "ipython3",
   "version": "3.10.4"
  }
 },
 "nbformat": 4,
 "nbformat_minor": 5
}
