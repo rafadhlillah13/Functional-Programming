{
 "cells": [
  {
   "cell_type": "markdown",
   "id": "768314b1-eed0-47ed-84db-3af1d0a82669",
   "metadata": {},
   "source": [
    "# Tugas Pendahuluan Praktikum PBF 8\n",
    "### Nama : Rafi Fadhlillah\n",
    "### NIM : 121450143\n",
    "### Kelas : RC"
   ]
  },
  {
   "cell_type": "markdown",
   "id": "7f35b99f-e2de-49cc-9f54-51eab35c5ded",
   "metadata": {},
   "source": [
    "## 1. Jelaskan perbedaan antara looping dengan for, while, dan rekursif"
   ]
  },
  {
   "cell_type": "markdown",
   "id": "1716e2af-063e-4c5b-9e1d-4fc5420c2e93",
   "metadata": {},
   "source": [
    "|          | For Loop | While Loop | Rekursi        |\n",
    "| -------- | --------| ---------- | -------------- |\n",
    "| Kondisi Perulangan | Kita tahu jumlah perulangan yang akan dilakukan sebelumnya. | Kita tidak tahu jumlah perulangan yang akan dilakukan.| Tidak berlaku, karena kondisi keluar dari rekursi harus ditentukan di dalam fungsi. |\n",
    "| Penggunaan | Cocok digunakan ketika jumlah perulangan sudah diketahui sebelumnya, seperti saat mengakses setiap elemen dalam suatu array. | Cocok digunakan ketika jumlah perulangan tidak diketahui sebelumnya, seperti saat membaca input dari pengguna. | Cocok digunakan ketika ingin memecahkan sebuah masalah yang dapat dipecahkan secara terus menerus menjadi masalah yang lebih kecil. |\n",
    "| Kelebihan | Lebih mudah digunakan dan lebih sederhana dibandingkan while loop. | Fleksibel dan cocok digunakan saat jumlah perulangan tidak diketahui sebelumnya. | Cocok digunakan ketika ingin memecahkan masalah yang lebih kompleks dan sulit dipecahkan dengan cara lain. |\n",
    "| Kekurangan | Tidak cocok digunakan ketika jumlah perulangan tidak diketahui sebelumnya. | Dapat menyebabkan infinite loop jika kondisi tidak dipenuhi. | Lebih sulit untuk dipahami dan mengimplementasikan dibandingkan loop. |\n",
    "\n",
    "\n",
    "Perbedaan utama antara for, while, dan rekursif adalah pada cara kerja dan sintaksis masing-masing. For loop digunakan ketika kita tahu jumlah perulangan yang akan kita lakukan sebelumnya, while loop digunakan ketika kita tidak tahu jumlah perulangan yang akan kita lakukan, dan rekursif digunakan ketika kita ingin memecahkan sebuah masalah yang dapat dipecahkan secara terus menerus menjadi masalah yang lebih kecil."
   ]
  },
  {
   "cell_type": "markdown",
   "id": "017fff51-87bb-45be-b7bb-fdf778ad5210",
   "metadata": {},
   "source": [
    "### 2. Fibbonacci Problem  \n",
    "Fibonacci adalah suatu barisan bilangan yang merupakan hasil penjumlahan dua bilangan sebelumnya. \n",
    "Fibonacci menggunakan perulangan untuk menjalankan perhitungannya lengkapi code fibonacci dibawah ini:\n",
    "\n",
    "```\n",
    "def fib(numbers):\n",
    "  fibo =[0,1] #Base\n",
    "  if ... > 2:\n",
    "    for i in range(2, ...):\n",
    "      #elemen berikutnya dalam seri = jumlah dari dua angka sebelumnya\n",
    "      nextElement = fibo[i-1] + fibo[i-2]\n",
    "      #menambahkan elemen ke list\n",
    "      fibo.append(...)\n",
    "  return fibo\n",
    "\n",
    "fib(...) # 2 digit nim, jika 001 atau 011 maka no di depan tidak di input.\n",
    "```"
   ]
  },
  {
   "cell_type": "code",
   "execution_count": 1,
   "id": "49bf2e23-eae5-42b5-a7cf-1df607a9628d",
   "metadata": {},
   "outputs": [
    {
     "data": {
      "text/plain": [
       "[0,\n",
       " 1,\n",
       " 1,\n",
       " 2,\n",
       " 3,\n",
       " 5,\n",
       " 8,\n",
       " 13,\n",
       " 21,\n",
       " 34,\n",
       " 55,\n",
       " 89,\n",
       " 144,\n",
       " 233,\n",
       " 377,\n",
       " 610,\n",
       " 987,\n",
       " 1597,\n",
       " 2584,\n",
       " 4181,\n",
       " 6765,\n",
       " 10946,\n",
       " 17711,\n",
       " 28657,\n",
       " 46368,\n",
       " 75025,\n",
       " 121393,\n",
       " 196418,\n",
       " 317811,\n",
       " 514229,\n",
       " 832040,\n",
       " 1346269,\n",
       " 2178309,\n",
       " 3524578,\n",
       " 5702887,\n",
       " 9227465,\n",
       " 14930352,\n",
       " 24157817,\n",
       " 39088169,\n",
       " 63245986,\n",
       " 102334155,\n",
       " 165580141,\n",
       " 267914296]"
      ]
     },
     "execution_count": 1,
     "metadata": {},
     "output_type": "execute_result"
    }
   ],
   "source": [
    "def fib(angka):\n",
    "    fibo =[0,1] #Base\n",
    "    if angka > 2:\n",
    "        for i in range(2, angka):\n",
    "            #elemen berikutnya dalam seri = jumlah dari dua angka sebelumnya\n",
    "            nextElement = fibo[i-1] + fibo[i-2]\n",
    "            #menambahkan elemen ke list\n",
    "            fibo.append(nextElement)\n",
    "    return fibo\n",
    "#nim : 121450143\n",
    "fib(43)"
   ]
  },
  {
   "cell_type": "markdown",
   "id": "5b7573dc-c3b4-44fa-b140-da9bd87e5abe",
   "metadata": {},
   "source": [
    "### 3. Buatlah fungsi looping diatas menjadi looping rekursif!\n",
    "\n",
    "```\n",
    "def fibonacci(num):\n",
    "\n",
    "  base = [0,1]\n",
    "  \n",
    "  if ... in base:\n",
    "    return ...\n",
    "  return ...(num - 1) + ...(num - 2) #Rekursif Case\n",
    "\n",
    "\n",
    "[fibonacci(num) for num in range(...)] # 2 digit nim, jika 001 atau 011 maka no di depan tidak di input.\n",
    "```"
   ]
  },
  {
   "cell_type": "code",
   "execution_count": 2,
   "id": "6b618527-062b-474d-9ecf-60c1ac3465eb",
   "metadata": {},
   "outputs": [
    {
     "data": {
      "text/plain": [
       "[0,\n",
       " 1,\n",
       " 1,\n",
       " 2,\n",
       " 3,\n",
       " 5,\n",
       " 8,\n",
       " 13,\n",
       " 21,\n",
       " 34,\n",
       " 55,\n",
       " 89,\n",
       " 144,\n",
       " 233,\n",
       " 377,\n",
       " 610,\n",
       " 987,\n",
       " 1597,\n",
       " 2584,\n",
       " 4181,\n",
       " 6765,\n",
       " 10946,\n",
       " 17711,\n",
       " 28657,\n",
       " 46368,\n",
       " 75025,\n",
       " 121393,\n",
       " 196418,\n",
       " 317811,\n",
       " 514229,\n",
       " 832040,\n",
       " 1346269,\n",
       " 2178309]"
      ]
     },
     "execution_count": 2,
     "metadata": {},
     "output_type": "execute_result"
    }
   ],
   "source": [
    "def fibonacci(num):\n",
    "\n",
    "  base = [0,1] \n",
    "\n",
    "  if num in base: \n",
    "    return num\n",
    "  return fibonacci(num - 1) + fibonacci(num - 2)\n",
    "\n",
    "# nim : 121450143\n",
    "[fibonacci(num) for num in range(33)]\n"
   ]
  },
  {
   "cell_type": "markdown",
   "id": "fef4f4f2-a506-4209-b7ae-d456b4b2f275",
   "metadata": {},
   "source": [
    "harusnya 43 \n",
    "```\n",
    "[fibonacci(num) for num in range(43)]\n",
    "```\n",
    "Kode di atas mengalami masalah karena menggunakan rekursi untuk menghitung bilangan dalam deret Fibonacci yang sangat besar. Algoritma rekursif yang digunakan oleh fungsi fibonacci memiliki kompleksitas waktu yang besar (eksponensial), yang berarti semakin besar bilangan yang ingin dihitung, semakin lama pula waktu yang dibutuhkan untuk menghitungnya.\n",
    "\n",
    "Pada baris terakhir dari kode, memanggil fibonacci untuk setiap bilangan dari 0 hingga 42. Bilangan ke-43 dalam deret Fibonacci adalah 701408733, yang membutuhkan banyak waktu untuk dihitung dengan menggunakan rekursi. sehingga saya kurangin 10 jadi menggunakan \n",
    "\n",
    "```\n",
    "[fibonacci(num) for num in range(33)]\n",
    "```"
   ]
  },
  {
   "cell_type": "markdown",
   "id": "96d955e7-0139-4db7-9eda-8be1465ac36b",
   "metadata": {},
   "source": [
    "### 4. “rekursif merupakan fungsi yang mengembalikan suatu fungsi itu sendiri” \n",
    "### Pernyataan diatas tepat atau tidak? Jelaskan menurut pendapat anda tentang pernyataan diatas."
   ]
  },
  {
   "cell_type": "markdown",
   "id": "6788c7ce-4ba2-423e-ba22-258b5286378b",
   "metadata": {},
   "source": [
    "Pernyataan \"rekursif merupakan fungsi yang mengembalikan suatu fungsi itu sendiri\" **kurang tepat**, karena konsep rekursi tidak berkaitan dengan mengembalikan fungsi itu sendiri, melainkan dengan cara memecahkan suatu masalah menjadi sub-masalah yang lebih kecil, dan kemudian menyelesaikan sub-masalah tersebut dengan cara yang sama."
   ]
  },
  {
   "cell_type": "markdown",
   "id": "eb31dbf0-3051-4b66-a11d-1e22766ad135",
   "metadata": {},
   "source": [
    "### 5. Gambar diatas terdapat error pada pemanggilan fungsi rekursif, jelaskan mengapa penggalan kode tersebut error dan peribaiki kode\n",
    "\n",
    "```\n",
    "def factorial(n):\n",
    "  return 1 if n==1 else n*factorial(factorial-1)\n",
    "  \n",
    "factorial(2)\n",
    "```"
   ]
  },
  {
   "cell_type": "markdown",
   "id": "77b798ad-732b-4295-8651-a48f0fc8436b",
   "metadata": {},
   "source": [
    "Pada penggalan kode tersebut terdapat error pada pemanggilan fungsi rekursif. Pada baris kedua, terdapat kesalahan dalam pemanggilan fungsi rekursif `factorial(factorial-1)`. Seharusnya, yang dipanggil adalah fungsi `factorial(n-1)`, bukan `factorial(factorial-1)`, karena parameter pada fungsi adalah n, bukan `factorial`.\n",
    "\n",
    "Sehingga, kode yang benar adalah sebagai berikut:"
   ]
  },
  {
   "cell_type": "code",
   "execution_count": 3,
   "id": "6f1b4b15-1b74-49be-b8da-1f15bd0fec77",
   "metadata": {},
   "outputs": [
    {
     "data": {
      "text/plain": [
       "2"
      ]
     },
     "execution_count": 3,
     "metadata": {},
     "output_type": "execute_result"
    }
   ],
   "source": [
    "def factorial(n):\n",
    "  return 1 if n == 1 else n * factorial(n-1)\n",
    "\n",
    "factorial(2)"
   ]
  },
  {
   "cell_type": "markdown",
   "id": "06ffb06c-3efd-48c9-ab7c-07378200adbd",
   "metadata": {},
   "source": [
    "### 6. Buatlah sebuah fungsi rekursif untuk mencari bilangan kuadrat ke-n, yaitu bilangan bulat yang merupakan hasil pangkat dua dari n!"
   ]
  },
  {
   "cell_type": "code",
   "execution_count": 4,
   "id": "1a60e9c7-ed9e-4d51-b45c-bb33751ce242",
   "metadata": {},
   "outputs": [
    {
     "name": "stdout",
     "output_type": "stream",
     "text": [
      "14400\n",
      "25401600\n",
      "13168189440000\n"
     ]
    }
   ],
   "source": [
    "def cari_kuadrat(n):\n",
    "    if n == 1:  # kasus dasar\n",
    "        return 1\n",
    "    else:\n",
    "        faktorial = 1\n",
    "        for i in range(1, n+1):\n",
    "            faktorial *= i\n",
    "        kuadrat = faktorial ** 2\n",
    "        if kuadrat % n == 0:  # jika bilangan kuadrat\n",
    "            return kuadrat\n",
    "        else:\n",
    "            return cari_kuadrat(n-1)  \n",
    "\n",
    "print(cari_kuadrat(5))  # akan mencetak 14400, karena 5 faktorial adalah 120 dan 120^2 = 14400\n",
    "print(cari_kuadrat(7))  # akan mencetak 25401600, karena 7 faktorial adalah 5040 dan 5040^2 = 25401600\n",
    "print(cari_kuadrat(10))  # akan mencetak 13168189440000, karena 10 faktorial adalah 3628800 dan 3628800^2 = 13168189440000"
   ]
  },
  {
   "cell_type": "markdown",
   "id": "31ee4dc1-4880-4464-914b-1c430ac17e8a",
   "metadata": {},
   "source": [
    "### 7. Lengkapilah code pada fungsi rekursif untuk menghitung jumlah\n",
    "elemen dalam sebuah list!\n",
    "```\n",
    "def jumlah_elemen(list):\n",
    "  if .... == 0:\n",
    "    return 0\n",
    "  else:\n",
    "    return 1 + jumlah_elemen(list[1:])\n",
    "    \n",
    "# contoh penggunaan\n",
    "data = [1, 2, 3, 4, 5]\n",
    "print(jumlah_elemen(data)) # hasilnya adalah 5\n",
    "```"
   ]
  },
  {
   "cell_type": "code",
   "execution_count": 5,
   "id": "f3db0332-6be7-414b-bee4-ad36d1eb1a5b",
   "metadata": {},
   "outputs": [
    {
     "name": "stdout",
     "output_type": "stream",
     "text": [
      "5\n"
     ]
    }
   ],
   "source": [
    "def jumlah_elemen(list):\n",
    "  if len(list) == 0:\n",
    "    return 0\n",
    "  else:\n",
    "    return 1 + jumlah_elemen(list[1:])\n",
    "    \n",
    "# contoh penggunaan\n",
    "data = [1, 2, 3, 4, 5]\n",
    "print(jumlah_elemen(data)) # hasilnya adalah 5"
   ]
  }
 ],
 "metadata": {
  "kernelspec": {
   "display_name": "Python 3 (ipykernel)",
   "language": "python",
   "name": "python3"
  },
  "language_info": {
   "codemirror_mode": {
    "name": "ipython",
    "version": 3
   },
   "file_extension": ".py",
   "mimetype": "text/x-python",
   "name": "python",
   "nbconvert_exporter": "python",
   "pygments_lexer": "ipython3",
   "version": "3.10.4"
  }
 },
 "nbformat": 4,
 "nbformat_minor": 5
}
