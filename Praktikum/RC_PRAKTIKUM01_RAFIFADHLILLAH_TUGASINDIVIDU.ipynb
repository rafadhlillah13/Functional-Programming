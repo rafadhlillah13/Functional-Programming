{
 "cells": [
  {
   "cell_type": "markdown",
   "metadata": {
    "id": "nfNsikQleKQW"
   },
   "source": [
    "## Tugas Praktikum Individu Pemrograman Berbasis Fungsi\n",
    "Nama : Rafi Fadhlillah <br>\n",
    "NIM : 121450143 <br>\n",
    "Kelas : RC"
   ]
  },
  {
   "cell_type": "markdown",
   "metadata": {
    "id": "hIu8YCweWgVD"
   },
   "source": [
    "# 2 Pemrograman python berbasis fungsi"
   ]
  },
  {
   "cell_type": "code",
   "execution_count": 1,
   "metadata": {
    "id": "4IsTJXwAWpL5"
   },
   "outputs": [],
   "source": [
    "def square (x):\n",
    "  y=x*x\n",
    "  return y"
   ]
  },
  {
   "cell_type": "markdown",
   "metadata": {
    "id": "9tlq8ZFTfNuq"
   },
   "source": [
    "## 2.1 Jenis fungsi dalam python\n"
   ]
  },
  {
   "cell_type": "code",
   "execution_count": 2,
   "metadata": {
    "colab": {
     "base_uri": "https://localhost:8080/"
    },
    "id": "B82SLc6hfNuu",
    "outputId": "362ee1da-549c-4e78-9434-0a6885579cbb"
   },
   "outputs": [
    {
     "data": {
      "text/plain": [
       "98"
      ]
     },
     "execution_count": 2,
     "metadata": {},
     "output_type": "execute_result"
    }
   ],
   "source": [
    "#built in fungction max() -> mengeluarkan nilai paling tinggi dalam suatu list\n",
    "L=[1,2,3,8,5,98,1,0,-2]\n",
    "max(L)"
   ]
  },
  {
   "cell_type": "code",
   "execution_count": 3,
   "metadata": {
    "colab": {
     "base_uri": "https://localhost:8080/"
    },
    "id": "0WzEJkxbfNuy",
    "outputId": "d58b3dcd-492d-4a41-e2bc-01c2cf8a55e9"
   },
   "outputs": [
    {
     "data": {
      "text/plain": [
       "1000"
      ]
     },
     "execution_count": 3,
     "metadata": {},
     "output_type": "execute_result"
    }
   ],
   "source": [
    "def cube(x):\n",
    "    return x*x*x\n",
    "cube(10)"
   ]
  },
  {
   "cell_type": "code",
   "execution_count": 4,
   "metadata": {
    "colab": {
     "base_uri": "https://localhost:8080/"
    },
    "id": "EhghrTQBfNuz",
    "outputId": "fe0129c5-73a2-478a-8f3c-839b81037e0d"
   },
   "outputs": [
    {
     "data": {
      "text/plain": [
       "10.0"
      ]
     },
     "execution_count": 4,
     "metadata": {},
     "output_type": "execute_result"
    }
   ],
   "source": [
    "import math #modul yang di import adalah math\n",
    "math.sqrt(100)  #fungsi sqrt dalam modul math\n"
   ]
  },
  {
   "cell_type": "markdown",
   "metadata": {
    "id": "kXWnY4WDfNu0"
   },
   "source": [
    "## 2.2 Fungsi sebagai cara modularisasi algoritma\n"
   ]
  },
  {
   "cell_type": "code",
   "execution_count": 5,
   "metadata": {
    "colab": {
     "base_uri": "https://localhost:8080/"
    },
    "id": "3F_-MYyvfNu1",
    "outputId": "da3c3b29-1d38-4d84-df2d-193a08066a74"
   },
   "outputs": [
    {
     "name": "stdout",
     "output_type": "stream",
     "text": [
      "[1, 2, 4, 8, 16, 32, 64]\n"
     ]
    }
   ],
   "source": [
    "#code python untuk menghitung faktor dari sebuah bilagan n\n",
    "n=64\n",
    "fakctors=[]\n",
    "for i in range(1,n+1):\n",
    "    if n % i == 0:\n",
    "        fakctors.append(i)\n",
    "print(fakctors)"
   ]
  },
  {
   "cell_type": "code",
   "execution_count": 6,
   "metadata": {
    "colab": {
     "base_uri": "https://localhost:8080/"
    },
    "id": "bIGmvog3fNu2",
    "outputId": "11922f7d-c3f7-40d5-822d-8a6919fc1e4c"
   },
   "outputs": [
    {
     "data": {
      "text/plain": [
       "[1, 2, 4, 8, 16, 32, 64]"
      ]
     },
     "execution_count": 6,
     "metadata": {},
     "output_type": "execute_result"
    }
   ],
   "source": [
    "#modularisasi code nya\n",
    "def habis_dibagi(n,i):\n",
    "    return n % i == 0\n",
    "def faktor(n):\n",
    "    temp =[]\n",
    "    for i in range(1,n+1):\n",
    "        if habis_dibagi(n,i):\n",
    "            temp.append(i)\n",
    "    return temp\n",
    "faktor(64)"
   ]
  },
  {
   "cell_type": "code",
   "execution_count": 7,
   "metadata": {
    "colab": {
     "base_uri": "https://localhost:8080/"
    },
    "id": "PD7MK0ucfNu2",
    "outputId": "c3d3040b-df09-49b0-d79c-cc16a95ae2cc"
   },
   "outputs": [
    {
     "data": {
      "text/plain": [
       "[1, 5, 25]"
      ]
     },
     "execution_count": 7,
     "metadata": {},
     "output_type": "execute_result"
    }
   ],
   "source": [
    "faktor(25)"
   ]
  },
  {
   "cell_type": "markdown",
   "metadata": {
    "id": "alZ2Pcx8fNu3"
   },
   "source": [
    "## 2.3 Anonymous fungction"
   ]
  },
  {
   "cell_type": "code",
   "execution_count": 8,
   "metadata": {
    "colab": {
     "base_uri": "https://localhost:8080/"
    },
    "id": "7hl9xYmFfNu4",
    "outputId": "c6212799-5283-4e0f-e98f-b44f5c85e123"
   },
   "outputs": [
    {
     "data": {
      "text/plain": [
       "5.5"
      ]
     },
     "execution_count": 8,
     "metadata": {},
     "output_type": "execute_result"
    }
   ],
   "source": [
    "#normal user defined function\n",
    "def rata(L):\n",
    "    res=0\n",
    "    for el in L:\n",
    "        res =res +el\n",
    "    res=res/len(L)\n",
    "    return res \n",
    "L=[1,2,3,4,5,6,7,8,9,10]\n",
    "rata(L)"
   ]
  },
  {
   "cell_type": "code",
   "execution_count": 9,
   "metadata": {
    "colab": {
     "base_uri": "https://localhost:8080/"
    },
    "id": "p1Joh41VfNu5",
    "outputId": "e8bc9ebe-f843-4784-be8d-4a457ad2e8a7"
   },
   "outputs": [
    {
     "data": {
      "text/plain": [
       "5.5"
      ]
     },
     "execution_count": 9,
     "metadata": {},
     "output_type": "execute_result"
    }
   ],
   "source": [
    "#lambda fungcton\n",
    "rata_lambda =lambda L : sum(L)/len(L)\n",
    "rata_lambda(L)"
   ]
  },
  {
   "cell_type": "code",
   "execution_count": 10,
   "metadata": {
    "colab": {
     "base_uri": "https://localhost:8080/",
     "height": 36
    },
    "id": "bZcRmYdEfNu5",
    "outputId": "9cda8d76-709e-4262-f69c-40604b31a86f"
   },
   "outputs": [
    {
     "data": {
      "text/plain": [
       "'Hello World'"
      ]
     },
     "execution_count": 10,
     "metadata": {},
     "output_type": "execute_result"
    }
   ],
   "source": [
    "greet = lambda:'Hello World'\n",
    "greet ()"
   ]
  },
  {
   "cell_type": "code",
   "execution_count": 11,
   "metadata": {
    "colab": {
     "base_uri": "https://localhost:8080/",
     "height": 36
    },
    "id": "lELMy4T-fNu6",
    "outputId": "38c8d6af-06a8-4b75-f585-d71288271720"
   },
   "outputs": [
    {
     "data": {
      "text/plain": [
       "'hello Mr.Alvin'"
      ]
     },
     "execution_count": 11,
     "metadata": {},
     "output_type": "execute_result"
    }
   ],
   "source": [
    "greet= lambda name,gender :'hello '+('Mr.' if gender=='M' else 'Mrs.')+ name \n",
    "greet('Alvin','M')"
   ]
  },
  {
   "cell_type": "code",
   "execution_count": 12,
   "metadata": {
    "colab": {
     "base_uri": "https://localhost:8080/"
    },
    "id": "7m2ZiYK2fNu6",
    "outputId": "1455f5b6-8ab3-42ca-cb32-7c5ec770c35b"
   },
   "outputs": [
    {
     "data": {
      "text/plain": [
       "5.5"
      ]
     },
     "execution_count": 12,
     "metadata": {},
     "output_type": "execute_result"
    }
   ],
   "source": [
    "def helper(L):\n",
    "    res=0\n",
    "    for el in L:\n",
    "        res=res +el\n",
    "    return res \n",
    "rata=lambda L:helper(L)/len(L)\n",
    "rata(L)"
   ]
  },
  {
   "cell_type": "markdown",
   "metadata": {
    "id": "Lrv-R0OUfNu7"
   },
   "source": [
    "## 2.4 Ternary expression and operator"
   ]
  },
  {
   "cell_type": "code",
   "execution_count": 13,
   "metadata": {
    "colab": {
     "base_uri": "https://localhost:8080/"
    },
    "id": "n5VnzxsbfNu7",
    "outputId": "03c18ca7-39c1-4337-ede0-cc2ef8e88812"
   },
   "outputs": [
    {
     "data": {
      "text/plain": [
       "10"
      ]
     },
     "execution_count": 13,
     "metadata": {},
     "output_type": "execute_result"
    }
   ],
   "source": [
    "#mencari minimum dari 2 bilangan\n",
    "a,b=10,20\n",
    "if a>b: \n",
    "    min =b\n",
    "else: \n",
    "    min =a\n",
    "min"
   ]
  },
  {
   "cell_type": "code",
   "execution_count": 14,
   "metadata": {
    "colab": {
     "base_uri": "https://localhost:8080/"
    },
    "id": "P8fofFo9fNu8",
    "outputId": "f2e32623-4f63-4602-b6d9-ca7f747daa3a"
   },
   "outputs": [
    {
     "name": "stdout",
     "output_type": "stream",
     "text": [
      "10\n"
     ]
    }
   ],
   "source": [
    "#mencari minimum dari 2 bilangan mengguakan operator ternary\n",
    "a,b = 10,20\n",
    "minim = a if a < b else b\n",
    "print(minim)"
   ]
  },
  {
   "cell_type": "code",
   "execution_count": 15,
   "metadata": {
    "colab": {
     "base_uri": "https://localhost:8080/"
    },
    "id": "7teERwV5fNu9",
    "outputId": "61f4723a-dfbe-4076-bca2-4e87de2a8603"
   },
   "outputs": [
    {
     "name": "stdout",
     "output_type": "stream",
     "text": [
      "b lebih besar dari a\n"
     ]
    }
   ],
   "source": [
    "#menggunakan nested if-else\n",
    "a,b = 10,20\n",
    "if a != b:\n",
    "    if a>b:\n",
    "        print(\"a lebih besar dari b\")\n",
    "    else :\n",
    "        print(\"b lebih besar dari a\")\n",
    "else :\n",
    "    print(\"a dan b bernilai saman\")"
   ]
  },
  {
   "cell_type": "code",
   "execution_count": 16,
   "metadata": {
    "colab": {
     "base_uri": "https://localhost:8080/"
    },
    "id": "-HYLxxKrfNu9",
    "outputId": "a4c38b06-73fe-4b01-d8f4-7907d176d368"
   },
   "outputs": [
    {
     "name": "stdout",
     "output_type": "stream",
     "text": [
      "b lebih besar dari a\n"
     ]
    }
   ],
   "source": [
    "#nested ternary operator \n",
    "a,b =10,20\n",
    "print(\"a dan b bernilai sama\" if a == b else \" a lebih besar dari b \"\n",
    "if a > b else \"b lebih besar dari a\")"
   ]
  },
  {
   "cell_type": "markdown",
   "metadata": {
    "id": "mnSgUyoefNu-"
   },
   "source": [
    "> ternary operator"
   ]
  },
  {
   "cell_type": "code",
   "execution_count": 17,
   "metadata": {
    "colab": {
     "base_uri": "https://localhost:8080/",
     "height": 36
    },
    "id": "2A8yb_MZfNu_",
    "outputId": "bc7809fc-3cf4-4632-87b4-885e9f6779d4"
   },
   "outputs": [
    {
     "data": {
      "text/plain": [
       "'genap'"
      ]
     },
     "execution_count": 17,
     "metadata": {},
     "output_type": "execute_result"
    }
   ],
   "source": [
    "#mengecek bilagan genap atau ganjil\n",
    "f = lambda x:'genap' if x%2==0 else 'ganjil'\n",
    "f(10)"
   ]
  },
  {
   "cell_type": "markdown",
   "metadata": {
    "id": "25un60wzfNu_"
   },
   "source": [
    "## 2.5 lambda fungction direct calling"
   ]
  },
  {
   "cell_type": "code",
   "execution_count": 18,
   "metadata": {
    "colab": {
     "base_uri": "https://localhost:8080/",
     "height": 36
    },
    "id": "pUpaMnKAfNvA",
    "outputId": "8ea2d25e-9a28-4d56-e6c9-bdb39db0f54a"
   },
   "outputs": [
    {
     "data": {
      "text/plain": [
       "'genap'"
      ]
     },
     "execution_count": 18,
     "metadata": {},
     "output_type": "execute_result"
    }
   ],
   "source": [
    "(lambda x: 'genap' if x%2==0 else 'ganjil')(10)"
   ]
  },
  {
   "cell_type": "code",
   "execution_count": 19,
   "metadata": {
    "colab": {
     "base_uri": "https://localhost:8080/"
    },
    "id": "D7XbAviifNvA",
    "outputId": "3cb0b8d1-7412-4e37-9cc8-9b94c9c6c47a"
   },
   "outputs": [
    {
     "data": {
      "text/plain": [
       "720"
      ]
     },
     "execution_count": 19,
     "metadata": {},
     "output_type": "execute_result"
    }
   ],
   "source": [
    "val =[1,2,3,4,5,6]\n",
    "from functools import reduce\n",
    "\n",
    "#multiply every item by two\n",
    "list(map(lambda x: x * 2, val)) #[2,4,6,8,10,12]\n",
    "#take the faktorial by multiplying the value so far the next item\n",
    "reduce(lambda  x,y: x * y,val, 1) #1*1*2*3*4*5*6"
   ]
  },
  {
   "cell_type": "markdown",
   "metadata": {
    "id": "5Ez9NAI2YwlT"
   },
   "source": [
    "# 3. Pemrograman berbasis fungsi pada analisis data"
   ]
  },
  {
   "cell_type": "markdown",
   "metadata": {
    "id": "c-uw1EHPfNvB"
   },
   "source": [
    "## 3.1.1 Data preprocessing dengan pemrograman prosedural"
   ]
  },
  {
   "cell_type": "code",
   "execution_count": 20,
   "metadata": {
    "colab": {
     "base_uri": "https://localhost:8080/",
     "height": 423
    },
    "id": "ZEYmAbhofNvB",
    "outputId": "5664f0b4-c431-4a72-e631-fc7def99de95"
   },
   "outputs": [
    {
     "data": {
      "text/html": [
       "<div>\n",
       "<style scoped>\n",
       "    .dataframe tbody tr th:only-of-type {\n",
       "        vertical-align: middle;\n",
       "    }\n",
       "\n",
       "    .dataframe tbody tr th {\n",
       "        vertical-align: top;\n",
       "    }\n",
       "\n",
       "    .dataframe thead th {\n",
       "        text-align: right;\n",
       "    }\n",
       "</style>\n",
       "<table border=\"1\" class=\"dataframe\">\n",
       "  <thead>\n",
       "    <tr style=\"text-align: right;\">\n",
       "      <th></th>\n",
       "      <th>val_0</th>\n",
       "    </tr>\n",
       "  </thead>\n",
       "  <tbody>\n",
       "    <tr>\n",
       "      <th>2023-02-14 00:00:00</th>\n",
       "      <td>0.774686</td>\n",
       "    </tr>\n",
       "    <tr>\n",
       "      <th>2023-02-14 02:00:00</th>\n",
       "      <td>0.511085</td>\n",
       "    </tr>\n",
       "    <tr>\n",
       "      <th>2023-02-14 04:00:00</th>\n",
       "      <td>0.838991</td>\n",
       "    </tr>\n",
       "    <tr>\n",
       "      <th>2023-02-14 06:00:00</th>\n",
       "      <td>0.197872</td>\n",
       "    </tr>\n",
       "    <tr>\n",
       "      <th>2023-02-14 08:00:00</th>\n",
       "      <td>0.407993</td>\n",
       "    </tr>\n",
       "    <tr>\n",
       "      <th>...</th>\n",
       "      <td>...</td>\n",
       "    </tr>\n",
       "    <tr>\n",
       "      <th>2023-03-27 06:00:00</th>\n",
       "      <td>0.674888</td>\n",
       "    </tr>\n",
       "    <tr>\n",
       "      <th>2023-03-27 08:00:00</th>\n",
       "      <td>0.685168</td>\n",
       "    </tr>\n",
       "    <tr>\n",
       "      <th>2023-03-27 10:00:00</th>\n",
       "      <td>0.822288</td>\n",
       "    </tr>\n",
       "    <tr>\n",
       "      <th>2023-03-27 12:00:00</th>\n",
       "      <td>0.281785</td>\n",
       "    </tr>\n",
       "    <tr>\n",
       "      <th>2023-03-27 14:00:00</th>\n",
       "      <td>0.612985</td>\n",
       "    </tr>\n",
       "  </tbody>\n",
       "</table>\n",
       "<p>500 rows × 1 columns</p>\n",
       "</div>"
      ],
      "text/plain": [
       "                        val_0\n",
       "2023-02-14 00:00:00  0.774686\n",
       "2023-02-14 02:00:00  0.511085\n",
       "2023-02-14 04:00:00  0.838991\n",
       "2023-02-14 06:00:00  0.197872\n",
       "2023-02-14 08:00:00  0.407993\n",
       "...                       ...\n",
       "2023-03-27 06:00:00  0.674888\n",
       "2023-03-27 08:00:00  0.685168\n",
       "2023-03-27 10:00:00  0.822288\n",
       "2023-03-27 12:00:00  0.281785\n",
       "2023-03-27 14:00:00  0.612985\n",
       "\n",
       "[500 rows x 1 columns]"
      ]
     },
     "execution_count": 20,
     "metadata": {},
     "output_type": "execute_result"
    }
   ],
   "source": [
    "import pandas as pd\n",
    "import numpy as np\n",
    "np.random.seed(42)\n",
    "\n",
    "def create_random_dataframe(nb_rows=1000,percent_na_per_column=[0.01,0.1,0.-9]):\n",
    "    df=pd.DataFrame()\n",
    "    for i,percent_na in enumerate(percent_na_per_column):\n",
    "        values = [np.random.random()if np.random.random() > percent_na else np.nan for _ in range(nb_rows)]\n",
    "        df[f'val_{i}']=values\n",
    "        df.index=pd.date_range('2023/02/14',periods=nb_rows,freq='H')\n",
    "        return df\n",
    "\n",
    "def preprocess(df,na_percentage = 0.2, resampling_str='2H'):\n",
    "    #remove columns with too many nas\n",
    "    na_df = df.isna().sum()/len(df)\n",
    "    list_col_to_keep = na_df[na_df <na_percentage].index\n",
    "    df = df [list_col_to_keep]\n",
    "\n",
    "    #resampling \n",
    "    df =df.resample(resampling_str).mean()\n",
    "\n",
    "    #filling missing values\n",
    "    df = df.interpolate().ffill().bfill()\n",
    "    return df\n",
    "\n",
    "random_df = create_random_dataframe()\n",
    "res = preprocess(random_df)\n",
    "res "
   ]
  },
  {
   "cell_type": "code",
   "execution_count": 21,
   "metadata": {
    "colab": {
     "base_uri": "https://localhost:8080/"
    },
    "id": "YB6tz86b1PxL",
    "outputId": "0734350d-6e2b-467a-cf92-4a98b3e5fdb9"
   },
   "outputs": [
    {
     "name": "stdout",
     "output_type": "stream",
     "text": [
      "Pemrograman Prosedural:  0.9239468574523926 seconds\n"
     ]
    }
   ],
   "source": [
    "import time\n",
    "start_time = time.time()\n",
    "create_random_dataframe(1000000)\n",
    "end_time = time.time()\n",
    "prosedural_time_taken = end_time - start_time\n",
    "print(\"Pemrograman Prosedural: \", prosedural_time_taken, \"seconds\")"
   ]
  },
  {
   "cell_type": "markdown",
   "metadata": {
    "id": "QSZQvPA1fNvB"
   },
   "source": [
    "## 3.1.2 data preprocessing dengan pemrograman fungsi"
   ]
  },
  {
   "cell_type": "code",
   "execution_count": 22,
   "metadata": {
    "colab": {
     "base_uri": "https://localhost:8080/",
     "height": 423
    },
    "id": "FCdY96uvfNvB",
    "outputId": "e98a9adc-fad7-4616-97fb-d9742f57e55e"
   },
   "outputs": [
    {
     "data": {
      "text/html": [
       "<div>\n",
       "<style scoped>\n",
       "    .dataframe tbody tr th:only-of-type {\n",
       "        vertical-align: middle;\n",
       "    }\n",
       "\n",
       "    .dataframe tbody tr th {\n",
       "        vertical-align: top;\n",
       "    }\n",
       "\n",
       "    .dataframe thead th {\n",
       "        text-align: right;\n",
       "    }\n",
       "</style>\n",
       "<table border=\"1\" class=\"dataframe\">\n",
       "  <thead>\n",
       "    <tr style=\"text-align: right;\">\n",
       "      <th></th>\n",
       "      <th>val_0</th>\n",
       "    </tr>\n",
       "  </thead>\n",
       "  <tbody>\n",
       "    <tr>\n",
       "      <th>2023-02-14 00:00:00</th>\n",
       "      <td>0.774686</td>\n",
       "    </tr>\n",
       "    <tr>\n",
       "      <th>2023-02-14 02:00:00</th>\n",
       "      <td>0.511085</td>\n",
       "    </tr>\n",
       "    <tr>\n",
       "      <th>2023-02-14 04:00:00</th>\n",
       "      <td>0.838991</td>\n",
       "    </tr>\n",
       "    <tr>\n",
       "      <th>2023-02-14 06:00:00</th>\n",
       "      <td>0.197872</td>\n",
       "    </tr>\n",
       "    <tr>\n",
       "      <th>2023-02-14 08:00:00</th>\n",
       "      <td>0.407993</td>\n",
       "    </tr>\n",
       "    <tr>\n",
       "      <th>...</th>\n",
       "      <td>...</td>\n",
       "    </tr>\n",
       "    <tr>\n",
       "      <th>2023-03-27 06:00:00</th>\n",
       "      <td>0.674888</td>\n",
       "    </tr>\n",
       "    <tr>\n",
       "      <th>2023-03-27 08:00:00</th>\n",
       "      <td>0.685168</td>\n",
       "    </tr>\n",
       "    <tr>\n",
       "      <th>2023-03-27 10:00:00</th>\n",
       "      <td>0.822288</td>\n",
       "    </tr>\n",
       "    <tr>\n",
       "      <th>2023-03-27 12:00:00</th>\n",
       "      <td>0.281785</td>\n",
       "    </tr>\n",
       "    <tr>\n",
       "      <th>2023-03-27 14:00:00</th>\n",
       "      <td>0.612985</td>\n",
       "    </tr>\n",
       "  </tbody>\n",
       "</table>\n",
       "<p>500 rows × 1 columns</p>\n",
       "</div>"
      ],
      "text/plain": [
       "                        val_0\n",
       "2023-02-14 00:00:00  0.774686\n",
       "2023-02-14 02:00:00  0.511085\n",
       "2023-02-14 04:00:00  0.838991\n",
       "2023-02-14 06:00:00  0.197872\n",
       "2023-02-14 08:00:00  0.407993\n",
       "...                       ...\n",
       "2023-03-27 06:00:00  0.674888\n",
       "2023-03-27 08:00:00  0.685168\n",
       "2023-03-27 10:00:00  0.822288\n",
       "2023-03-27 12:00:00  0.281785\n",
       "2023-03-27 14:00:00  0.612985\n",
       "\n",
       "[500 rows x 1 columns]"
      ]
     },
     "execution_count": 22,
     "metadata": {},
     "output_type": "execute_result"
    }
   ],
   "source": [
    "import pandas as pd\n",
    "import numpy as np\n",
    "np.random.seed(42)\n",
    "\n",
    "def create_random_dataframe(nb_rows=1000,percent_na_per_column=[0.01,0.1,0.-9]):\n",
    "    df=pd.DataFrame()\n",
    "    for i,  percent_na in enumerate(percent_na_per_column):\n",
    "        values = [np.random.random()if np.random.random() > percent_na else np.nan for _ in range(nb_rows)]\n",
    "        df[f'val_{i}']=values\n",
    "        df.index=pd.date_range('2023/02/14',periods=nb_rows,freq='H')\n",
    "        return df\n",
    "\n",
    "def create_col_with_too_many_nas_remover(na_percentage =0.2):\n",
    "    def remover(df):\n",
    "        na_df = df.isna().sum()/len(df)\n",
    "        list_col_to_keep = na_df[na_df <na_percentage].index\n",
    "        return df [list_col_to_keep]\n",
    "    return remover \n",
    "\n",
    "def create_resampler(resampling_str):\n",
    "    def resampler(df):\n",
    "        return df.resample(resampling_str).mean()\n",
    "    return resampler\n",
    "\n",
    "def fill_na(df):\n",
    "    return df.interpolate().ffill().bfill()\n",
    "\n",
    "random_df = create_random_dataframe()\n",
    "remover =create_col_with_too_many_nas_remover()\n",
    "resampler = create_resampler('2H')\n",
    "res = fill_na(resampler(remover(random_df)))\n",
    "res"
   ]
  },
  {
   "cell_type": "code",
   "execution_count": 23,
   "metadata": {
    "colab": {
     "base_uri": "https://localhost:8080/"
    },
    "id": "HJmR8EPhyVr9",
    "outputId": "64fe6217-afbe-4b0c-bdbb-7c56f96cfb2e"
   },
   "outputs": [
    {
     "name": "stdout",
     "output_type": "stream",
     "text": [
      "Pemrograman fungsi :  0.9051780700683594 seconds\n"
     ]
    }
   ],
   "source": [
    "import time\n",
    "start_time = time.time()\n",
    "create_random_dataframe(1000000)\n",
    "end_time = time.time()\n",
    "fungsional_time_taken = end_time - start_time\n",
    "print(\"Pemrograman fungsi : \", fungsional_time_taken, \"seconds\")"
   ]
  },
  {
   "cell_type": "markdown",
   "metadata": {
    "id": "LzFRqcytdeEw"
   },
   "source": [
    "## Analisis code  sebelum dan sesudah di transformasi  menjadi fungctional  programming "
   ]
  },
  {
   "cell_type": "markdown",
   "metadata": {
    "id": "NRzIQQC-fKk4"
   },
   "source": [
    "> Setelah transformasi ada nya perbedaan dari fungsi "
   ]
  },
  {
   "cell_type": "markdown",
   "metadata": {},
   "source": [
    "## Analisis\n",
    "\n",
    "Pada Pemrograman Prodsedural terdapat 2 fungsi sedangkan pada Pemrograman Fungsional terdapat 6 fungsi. Pemrograman fungsional mengacu pada kemampuan untuk memperlakukan fungsi sebagai nilai.Pemrograman Prosedural mengacu pada kemampuan untuk merangkum urutan umum instruksi ke dalam prosedur sehingga instruksi tersebut dapat dipanggil dari banyak tempat.  Pemrograman fungsional lebih modular. Dalam kode tersebut, mendefinisikan tiga fungsi terpisah yang merangkum tiga langkah preprocessing: create_col_with_too_many_nas_remover, create_resampler, dan fill_na.Pada pemrograman prosedural mendefinisikan preprocess fungsi tunggal yang melakukan semua langkah preprocessing dalam fungsi yang sama. Meskipun lebih ringkas, ini bisa menjadi kurang fleksibel jika langkah pra pemrosesan tambahan perlu ditambahkan atau dihapus di masa mendatang.Hal tersebut dapat dibuktikan dengan melihat hasil test runtime code, didapatkan waktu sebesar sebagai berikut :<br> \n",
    "Pemrograman Prosedural : 0.9239468574523926 seconds <br>\n",
    "Pemrograman Fungsional : 0.9051780700683594 seconds <br>\n",
    "\n",
    "Sehingga dapat disimpulkan bahwa pemrograman fungsional memiliki runtime yang lebih cepat daripada pemrograman prosedural. "
   ]
  },
  {
   "cell_type": "markdown",
   "metadata": {
    "id": "qjEh7-qffNvB"
   },
   "source": [
    "## 3.1.3 Bagaimana mengubah prosedural programing ke fungctional programing"
   ]
  },
  {
   "cell_type": "code",
   "execution_count": 24,
   "metadata": {
    "id": "NuvOwN-GfNvB"
   },
   "outputs": [
    {
     "name": "stdout",
     "output_type": "stream",
     "text": [
      "783012621312\n"
     ]
    }
   ],
   "source": [
    "#prosedural code\n",
    "starting_number =96\n",
    "\n",
    "#get the square of the number\n",
    "square =starting_number ** 2\n",
    "\n",
    "#increment the number by 1\n",
    "increment =square + 1\n",
    "\n",
    "#cube of the number\n",
    "cube = increment ** 3\n",
    "\n",
    "#decrase the cube by 1\n",
    "decrement =cube - 1\n",
    "\n",
    "#get the final result\n",
    "result =print(decrement)"
   ]
  },
  {
   "cell_type": "code",
   "execution_count": 25,
   "metadata": {
    "id": "vEXlvbqOfNvC"
   },
   "outputs": [
    {
     "name": "stdout",
     "output_type": "stream",
     "text": [
      "783012621312\n"
     ]
    }
   ],
   "source": [
    "#define a fungction 'call' where provide the  fungction and the arguments\n",
    "def call(x,f):\n",
    "  return f(x)\n",
    "\n",
    "#define a fungction that returns the square\n",
    "square = lambda x: x*x \n",
    "\n",
    "#define a  fungction that returns the increment\n",
    "increment =lambda x:x+1\n",
    "\n",
    "#define a fungction that returns the cube\n",
    "cube = lambda x: x*x*x\n",
    "\n",
    "#define a fungction that returns the decrement\n",
    "decrement = lambda x: x-1\n",
    "\n",
    "#put all fungction.below in the non fungctional part\n",
    "funcs =[square,increment,cube,decrement]\n",
    "\n",
    "#bring it all together.bellow is the non fungctional part\n",
    "#in fungctional programming you separate you the fungction and the non fungction part\n",
    "from functools import reduce  #recude is in the functools library\n",
    "print(reduce(call,funcs,96))"
   ]
  }
 ],
 "metadata": {
  "colab": {
   "collapsed_sections": [
    "hIu8YCweWgVD",
    "9tlq8ZFTfNuq",
    "kXWnY4WDfNu0",
    "alZ2Pcx8fNu3",
    "Lrv-R0OUfNu7",
    "25un60wzfNu_",
    "qjEh7-qffNvB"
   ],
   "provenance": []
  },
  "kernelspec": {
   "display_name": "Python 3 (ipykernel)",
   "language": "python",
   "name": "python3"
  },
  "language_info": {
   "codemirror_mode": {
    "name": "ipython",
    "version": 3
   },
   "file_extension": ".py",
   "mimetype": "text/x-python",
   "name": "python",
   "nbconvert_exporter": "python",
   "pygments_lexer": "ipython3",
   "version": "3.10.4"
  },
  "vscode": {
   "interpreter": {
    "hash": "14958d3aee5f1cad06795f787e54b96185c25fb40dfec723a5be941f3a531b8c"
   }
  }
 },
 "nbformat": 4,
 "nbformat_minor": 4
}
