{
 "cells": [
  {
   "cell_type": "markdown",
   "id": "4cff99d5-d8be-4514-aab0-cb41c7c46152",
   "metadata": {},
   "source": [
    "# Tugas Pendahuluan Modul 7 Praktikum PBF\n",
    "### Rafi Fadhlillah\n",
    "### 121450143\n",
    "### RC"
   ]
  },
  {
   "cell_type": "markdown",
   "id": "389c3425-c790-41c4-96d0-ba4d0d7a8529",
   "metadata": {},
   "source": [
    "## Kerjakan seluruh soal berikut dengan menggunakan higher order function map, filter, dan reduce!"
   ]
  },
  {
   "cell_type": "markdown",
   "id": "a4584644-b367-4237-8660-02605f7c3e26",
   "metadata": {},
   "source": [
    "### 1. Buatlah program untuk menghitung deret bilangan prima dari 2 hingga n!"
   ]
  },
  {
   "cell_type": "code",
   "execution_count": 1,
   "id": "896cbb95-6eb1-4f28-833f-c9f1cfa7ea06",
   "metadata": {},
   "outputs": [
    {
     "name": "stdin",
     "output_type": "stream",
     "text": [
      "Masukkan nilai n:  20\n"
     ]
    },
    {
     "name": "stdout",
     "output_type": "stream",
     "text": [
      "Deret bilangan prima dari 2 hingga 20 adalah: [2, 3, 5, 7, 11, 13, 17, 19]\n",
      "Jumlah bilangan prima dari 2 hingga 20 adalah: 8\n",
      "Penjumlahan bilangan prima dari 2 hingga 20 adalah: 77\n"
     ]
    }
   ],
   "source": [
    "from functools import reduce\n",
    "\n",
    "def bil_prima(n):\n",
    "    if n < 2:\n",
    "        return False\n",
    "    for i in range(2, int(n**0.5)+1):\n",
    "        if n % i == 0:\n",
    "            return False\n",
    "    return True\n",
    "\n",
    "n = int(input(\"Masukkan nilai n: \"))\n",
    "\n",
    "prima = list(filter(bil_prima, range(2, n+1)))\n",
    "count = reduce(lambda x, y: x + 1, prima, 0)\n",
    "sum_prima = reduce(lambda x, y: x + y, prima, 0)\n",
    "\n",
    "print(\"Deret bilangan prima dari 2 hingga\", n, \"adalah:\", prima)\n",
    "print(\"Jumlah bilangan prima dari 2 hingga\", n, \"adalah:\", count)\n",
    "print(\"Penjumlahan bilangan prima dari 2 hingga\", n, \"adalah:\", sum_prima)"
   ]
  },
  {
   "cell_type": "markdown",
   "id": "e34f829c-189c-43e9-9c36-004b1230c7ae",
   "metadata": {},
   "source": [
    "### 2.\n",
    "### a). Buatlah deret bilangan sebagai berikut dengan input n sebagai panjang deret: 1/2, −1/4, 1/8, …. , (−1)𝑛 1/2𝑛\n",
    "### b). Jumlahkan deret bilangan tersebut!**"
   ]
  },
  {
   "cell_type": "code",
   "execution_count": 2,
   "id": "dcd14257-9abe-4211-b859-36a55dea0e0e",
   "metadata": {},
   "outputs": [
    {
     "name": "stdin",
     "output_type": "stream",
     "text": [
      "Masukkan panjang deret:  10\n"
     ]
    },
    {
     "name": "stdout",
     "output_type": "stream",
     "text": [
      "Deret bilangan yang dihasilkan: [-0.5, 0.25, -0.125, 0.0625, -0.03125, 0.015625, -0.0078125, 0.00390625, -0.001953125, 0.0009765625]\n",
      "Hasil penjumlahan deret bilangan: -0.3330078125\n"
     ]
    }
   ],
   "source": [
    "from functools import reduce\n",
    "\n",
    "n = int(input(\"Masukkan panjang deret: \"))\n",
    "\n",
    "# membuat list bilangan dari 1 sampai n\n",
    "nums = range(1, n+1)\n",
    "\n",
    "# fungsi untuk menghasilkan nilai (-1)^n\n",
    "def negative_power(n):\n",
    "    return (-1)**n\n",
    "\n",
    "# fungsi untuk menghasilkan bilangan 1/2^n\n",
    "def fraction_power(n):\n",
    "    return 1/2**n\n",
    "\n",
    "# menghasilkan list nilai (-1)^n dan 1/2^n\n",
    "neg_powers = list(map(negative_power, nums))\n",
    "frac_powers = list(map(fraction_power, nums))\n",
    "\n",
    "# menggabungkan nilai dari kedua list\n",
    "result = list(map(lambda x, y: x * y, neg_powers, frac_powers))\n",
    "\n",
    "# menjumlahkan seluruh nilai dalam list\n",
    "sum_result = reduce(lambda x, y: x + y, result, 0)\n",
    "\n",
    "# mencetak deret bilangan dan hasil penjumlahannya\n",
    "print(\"Deret bilangan yang dihasilkan:\", result)\n",
    "print(\"Hasil penjumlahan deret bilangan:\", sum_result)"
   ]
  },
  {
   "cell_type": "markdown",
   "id": "195cbe2b-ad6f-4b73-9ecd-3cebaa6ce4f6",
   "metadata": {},
   "source": [
    "### 3. employee = { 'Ana':35, 'Budi':30, 'Caca':20, 'Dodi':25, 'Emelin':29, 'Fahrul':32, 'Gery':27, 'Haiko':22, 'Ijat':33,'Jarjit':26} Terdapat dictionary employee berisi nama dan umur pegawai, lakukan filter untuk mengetahui pegawai yang berumur > 25 tahun !"
   ]
  },
  {
   "cell_type": "code",
   "execution_count": 3,
   "id": "1525f8d2-e6c9-41b3-b72c-ff5ea132336f",
   "metadata": {},
   "outputs": [
    {
     "name": "stdout",
     "output_type": "stream",
     "text": [
      "{'Ana': 35, 'Budi': 30, 'Emelin': 29, 'Fahrul': 32, 'Gery': 27, 'Ijat': 33, 'Jarjit': 26}\n"
     ]
    }
   ],
   "source": [
    "employee = {'Ana': 35, 'Budi': 30, 'Caca': 20, 'Dodi': 25, 'Emelin': 29, 'Fahrul': 32, 'Gery': 27, 'Haiko': 22, 'Ijat': 33, 'Jarjit': 26}\n",
    "\n",
    "filtered_employee = dict(filter(lambda x: x[1] > 25, employee.items()))\n",
    "\n",
    "print(filtered_employee)"
   ]
  }
 ],
 "metadata": {
  "kernelspec": {
   "display_name": "Python 3 (ipykernel)",
   "language": "python",
   "name": "python3"
  },
  "language_info": {
   "codemirror_mode": {
    "name": "ipython",
    "version": 3
   },
   "file_extension": ".py",
   "mimetype": "text/x-python",
   "name": "python",
   "nbconvert_exporter": "python",
   "pygments_lexer": "ipython3",
   "version": "3.10.4"
  }
 },
 "nbformat": 4,
 "nbformat_minor": 5
}
