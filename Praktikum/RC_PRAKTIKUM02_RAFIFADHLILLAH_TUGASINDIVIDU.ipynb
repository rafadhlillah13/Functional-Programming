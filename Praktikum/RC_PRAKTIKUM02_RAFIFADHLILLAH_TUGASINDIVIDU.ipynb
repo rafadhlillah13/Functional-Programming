{
  "nbformat": 4,
  "nbformat_minor": 0,
  "metadata": {
    "colab": {
      "provenance": []
    },
    "kernelspec": {
      "name": "python3",
      "display_name": "Python 3"
    },
    "language_info": {
      "name": "python"
    }
  },
  "cells": [
    {
      "cell_type": "markdown",
      "source": [
        "## Soal 1"
      ],
      "metadata": {
        "id": "ZOVTLHTXYB7i"
      }
    },
    {
      "cell_type": "code",
      "source": [
        "# a. f(x)=3√x\n",
        "f = lambda x: x**(1/3)\n",
        "x = float(input(\"Masukkan nilai x: \"))\n",
        "print(f(x))"
      ],
      "metadata": {
        "colab": {
          "base_uri": "https://localhost:8080/"
        },
        "id": "4WgH8piWUk77",
        "outputId": "4b8f3434-26ef-4c44-a53d-35bae8bd7613"
      },
      "execution_count": 1,
      "outputs": [
        {
          "output_type": "stream",
          "name": "stdout",
          "text": [
            "Masukkan nilai x: 8\n",
            "2.0\n"
          ]
        }
      ]
    },
    {
      "cell_type": "code",
      "source": [
        "# g(y)=e^y+8^y\n",
        "import math\n",
        "g = lambda y: math.exp(y) + 8**y\n",
        "y = float(input(\"Masukkan nilai y: \"))\n",
        "print(g(y))"
      ],
      "metadata": {
        "colab": {
          "base_uri": "https://localhost:8080/"
        },
        "id": "VkM5ytOxWrO1",
        "outputId": "4247b5f2-fc6a-4748-cefc-55d8e9738a33"
      },
      "execution_count": 2,
      "outputs": [
        {
          "output_type": "stream",
          "name": "stdout",
          "text": [
            "Masukkan nilai y: 2\n",
            "71.38905609893065\n"
          ]
        }
      ]
    },
    {
      "cell_type": "code",
      "source": [
        "# h(x)=1/√(x-5)^2+16\n",
        "import math\n",
        "h = lambda x: 1/math.sqrt((x-5)**2 + 16)\n",
        "x = float(input(\"Masukkan nilai x: \"))\n",
        "print(h(x))"
      ],
      "metadata": {
        "colab": {
          "base_uri": "https://localhost:8080/"
        },
        "id": "MAJdgKpEZ2hn",
        "outputId": "cac4af92-ca10-4b5a-d02a-7a79a5c7e03a"
      },
      "execution_count": 3,
      "outputs": [
        {
          "output_type": "stream",
          "name": "stdout",
          "text": [
            "Masukkan nilai x: 2\n",
            "0.2\n"
          ]
        }
      ]
    },
    {
      "cell_type": "markdown",
      "source": [
        "## Soal 2"
      ],
      "metadata": {
        "id": "AW8mLpyIYHiM"
      }
    },
    {
      "cell_type": "code",
      "source": [
        "# a. f(x)=3√x\n",
        "import math\n",
        "\n",
        "angka = [1, 2, 3, 4, 5]\n",
        "hasil = map(lambda x: x**(1/3), angka)\n",
        "\n",
        "print(list(hasil))"
      ],
      "metadata": {
        "colab": {
          "base_uri": "https://localhost:8080/"
        },
        "id": "3DdsILWTYJb3",
        "outputId": "ecbffa33-e421-42c4-f1c7-f33c65efa168"
      },
      "execution_count": 4,
      "outputs": [
        {
          "output_type": "stream",
          "name": "stdout",
          "text": [
            "[1.0, 1.2599210498948732, 1.4422495703074083, 1.5874010519681994, 1.7099759466766968]\n"
          ]
        }
      ]
    },
    {
      "cell_type": "code",
      "source": [
        "# g(y)=e^y+8^y\n",
        "import math\n",
        "\n",
        "angka = [1, 2, 3, 4, 5]\n",
        "hasil = map(lambda y: math.exp(y) + 8**y, angka)\n",
        "\n",
        "print(list(hasil))"
      ],
      "metadata": {
        "colab": {
          "base_uri": "https://localhost:8080/"
        },
        "id": "QP5cG3EJc6l4",
        "outputId": "3241ff6e-2848-4722-a29f-af185c97a0c9"
      },
      "execution_count": 5,
      "outputs": [
        {
          "output_type": "stream",
          "name": "stdout",
          "text": [
            "[10.718281828459045, 71.38905609893065, 532.0855369231876, 4150.5981500331445, 32916.41315910258]\n"
          ]
        }
      ]
    },
    {
      "cell_type": "code",
      "source": [
        "# h(x)=1/√(x-5)^2+16\n",
        "import math\n",
        "\n",
        "angka = [1, 2, 3, 4, 5]\n",
        "hasil = map(lambda x: 1/math.sqrt((x-5)**2 + 16), angka)\n",
        "\n",
        "print(list(hasil))"
      ],
      "metadata": {
        "colab": {
          "base_uri": "https://localhost:8080/"
        },
        "id": "YGLJKuiTdEs2",
        "outputId": "f4b8a5cd-8279-491f-babd-d70e94a8d3e3"
      },
      "execution_count": 6,
      "outputs": [
        {
          "output_type": "stream",
          "name": "stdout",
          "text": [
            "[0.17677669529663687, 0.2, 0.22360679774997896, 0.24253562503633297, 0.25]\n"
          ]
        }
      ]
    },
    {
      "cell_type": "markdown",
      "source": [
        "## Soal 3"
      ],
      "metadata": {
        "id": "29cd65yDf6F-"
      }
    },
    {
      "cell_type": "code",
      "source": [
        "# a. f(x)=3√x\n",
        "import math\n",
        "from functools import reduce\n",
        "\n",
        "angka = [1, 2, 3, 4, 5]\n",
        "hasil = map(lambda x: x**(1/3), angka)\n",
        "sum_hasil = reduce(lambda x, y: x + y, hasil)\n",
        "\n",
        "print(sum_hasil)"
      ],
      "metadata": {
        "colab": {
          "base_uri": "https://localhost:8080/"
        },
        "id": "r4vqF-C3f861",
        "outputId": "92abd507-0a4f-4bb3-83df-0677c1c2485c"
      },
      "execution_count": 10,
      "outputs": [
        {
          "output_type": "stream",
          "name": "stdout",
          "text": [
            "6.999547618847179\n"
          ]
        }
      ]
    },
    {
      "cell_type": "code",
      "source": [
        "# g(y)=e^y+8^y\n",
        "import math\n",
        "from functools import reduce\n",
        "\n",
        "angka = [1, 2, 3, 4, 5]\n",
        "hasil = map(lambda y: math.exp(y) + 8**y, angka)\n",
        "sum_hasil = reduce(lambda x, y: x + y, hasil)\n",
        "\n",
        "print(sum_hasil)"
      ],
      "metadata": {
        "colab": {
          "base_uri": "https://localhost:8080/"
        },
        "id": "JL3PjWM6gStE",
        "outputId": "66c30339-8aa3-488c-a14a-7d03f6274600"
      },
      "execution_count": 11,
      "outputs": [
        {
          "output_type": "stream",
          "name": "stdout",
          "text": [
            "37681.2041839863\n"
          ]
        }
      ]
    },
    {
      "cell_type": "code",
      "source": [
        "# h(x)=1/√(x-5)^2+16\n",
        "import math\n",
        "from functools import reduce\n",
        "\n",
        "angka = [1, 2, 3, 4, 5]\n",
        "hasil = map(lambda x: 1/math.sqrt((x-5)**2 + 16), angka)\n",
        "sum_hasil = reduce(lambda x, y: x + y, hasil)\n",
        "\n",
        "print(sum_hasil)"
      ],
      "metadata": {
        "colab": {
          "base_uri": "https://localhost:8080/"
        },
        "id": "C3EpRISOgUVP",
        "outputId": "b7f123f1-a1e9-4e42-b8b1-c9b72419b21b"
      },
      "execution_count": 12,
      "outputs": [
        {
          "output_type": "stream",
          "name": "stdout",
          "text": [
            "1.092919118082949\n"
          ]
        }
      ]
    },
    {
      "cell_type": "markdown",
      "source": [
        "## Soal 4"
      ],
      "metadata": {
        "id": "Q_LR00E-djHD"
      }
    },
    {
      "cell_type": "code",
      "source": [
        "# a. f(x)=3√x\n",
        "from timeit import timeit\n",
        "from functools import reduce\n",
        "\n",
        "def f(x,y):\n",
        "  return x**(1/3)\n",
        "a1 = \"reduce(f,range(10))\"\n",
        "timeit(a1, \"from functools import reduce\", globals={\"f\": f})"
      ],
      "metadata": {
        "colab": {
          "base_uri": "https://localhost:8080/"
        },
        "id": "SvmWKNd9dmro",
        "outputId": "29760074-7961-4bf3-d68c-0bb7ea49c116"
      },
      "execution_count": 7,
      "outputs": [
        {
          "output_type": "execute_result",
          "data": {
            "text/plain": [
              "1.2863740570001028"
            ]
          },
          "metadata": {},
          "execution_count": 7
        }
      ]
    },
    {
      "cell_type": "code",
      "source": [
        "a2 = \"reduce((lambda x,y: x**(1/3)), range(10))\"\n",
        "timeit(a2, \"from functools import reduce\")"
      ],
      "metadata": {
        "colab": {
          "base_uri": "https://localhost:8080/"
        },
        "id": "QDQxYfeNfN0y",
        "outputId": "e3de755c-0b23-4370-9300-5580d294e88c"
      },
      "execution_count": 8,
      "outputs": [
        {
          "output_type": "execute_result",
          "data": {
            "text/plain": [
              "1.707135782000023"
            ]
          },
          "metadata": {},
          "execution_count": 8
        }
      ]
    },
    {
      "cell_type": "code",
      "source": [
        "# g(y)=e^y+8^y\n",
        "from timeit import timeit\n",
        "from functools import reduce\n",
        "\n",
        "def f(x,y):\n",
        "  return math.exp(y) + 8**y\n",
        "a1 = \"reduce(f,range(10))\"\n",
        "timeit(a1, \"from functools import reduce\", globals={\"f\": f})"
      ],
      "metadata": {
        "colab": {
          "base_uri": "https://localhost:8080/"
        },
        "id": "-w0nT3-ch5MW",
        "outputId": "62c73429-10d3-450a-de91-629785edf069"
      },
      "execution_count": 13,
      "outputs": [
        {
          "output_type": "execute_result",
          "data": {
            "text/plain": [
              "4.264774098000089"
            ]
          },
          "metadata": {},
          "execution_count": 13
        }
      ]
    },
    {
      "cell_type": "code",
      "source": [
        "# h(x)=1/√(x-5)^2+16\n",
        "from timeit import timeit\n",
        "from functools import reduce\n",
        "\n",
        "def f(x,y):\n",
        "  return  1/math.sqrt((x-5)**2 + 16)\n",
        "a1 = \"reduce(f,range(10))\"\n",
        "timeit(a1, \"from functools import reduce\", globals={\"f\": f})"
      ],
      "metadata": {
        "colab": {
          "base_uri": "https://localhost:8080/"
        },
        "id": "qokhHHRKiBsy",
        "outputId": "160079aa-2480-4eee-fc0b-990bdf16dc11"
      },
      "execution_count": 16,
      "outputs": [
        {
          "output_type": "execute_result",
          "data": {
            "text/plain": [
              "3.728716968000299"
            ]
          },
          "metadata": {},
          "execution_count": 16
        }
      ]
    },
    {
      "cell_type": "markdown",
      "source": [
        "## Soal 5"
      ],
      "metadata": {
        "id": "7X9ivaqpi7fM"
      }
    },
    {
      "cell_type": "code",
      "source": [
        "from rafi import factorial\n",
        "factorial(10)"
      ],
      "metadata": {
        "colab": {
          "base_uri": "https://localhost:8080/"
        },
        "id": "coJduTE9i9oR",
        "outputId": "25481d0a-af76-40de-9d1a-d4b57a04d58c"
      },
      "execution_count": 19,
      "outputs": [
        {
          "output_type": "execute_result",
          "data": {
            "text/plain": [
              "3628800"
            ]
          },
          "metadata": {},
          "execution_count": 19
        }
      ]
    }
  ]
}