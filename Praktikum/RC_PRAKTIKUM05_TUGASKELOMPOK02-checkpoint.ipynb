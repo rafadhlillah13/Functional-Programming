{
 "cells": [
  {
   "cell_type": "markdown",
   "id": "09d7c12f-9641-49dc-b712-e1bb46bc3d77",
   "metadata": {},
   "source": [
    "# Tugas Kelompok Pertemuan 5 PBF\n",
    "## Kelompok 2 RC\n",
    "#### 1. Rafi Fadhlillah_121450143\n",
    "#### 2. Gede Moena_121450014\n",
    "#### 3. Muhammad Farhan_121450044\n",
    "#### 4. Meliza Wulandari_121450065"
   ]
  },
  {
   "cell_type": "markdown",
   "id": "21f7d19a-7a55-4ccc-997f-da7200f7ef3f",
   "metadata": {},
   "source": [
    "### 1. Buatlah sebuah program dengan decorator:\n",
    "#### A. Skrip pemrograman untuk menghitung waktu (buat dengan pie @timer) gunakan @functools.wraps"
   ]
  },
  {
   "cell_type": "code",
   "execution_count": 1,
   "id": "03c8d7b1-329e-4cb1-9207-5d14b619ade3",
   "metadata": {},
   "outputs": [
    {
     "name": "stdout",
     "output_type": "stream",
     "text": [
      "Finished 'tes_hasil' in 1.0027 seconds\n",
      "Finished 'calculate_sum' in 0.0039 seconds\n",
      "5000050000\n"
     ]
    }
   ],
   "source": [
    "import functools\n",
    "import time\n",
    "\n",
    "def timer(func):\n",
    "    \n",
    "    @functools.wraps(func)\n",
    "    def wrapper_timer(*args, **kwargs):\n",
    "        start_time = time.perf_counter()   \n",
    "        value = func(*args, **kwargs)      \n",
    "        end_time = time.perf_counter()      \n",
    "        run_time = end_time - start_time   \n",
    "        print(f\"Finished {func.__name__!r} in {run_time:.4f} seconds\")\n",
    "        return value\n",
    "    return wrapper_timer\n",
    "\n",
    "@timer\n",
    "def tes_hasil():\n",
    "    time.sleep(1)\n",
    "\n",
    "@timer\n",
    "def calculate_sum(n):\n",
    "    sum = 0\n",
    "    for i in range(1, n+1):\n",
    "        sum += i\n",
    "    return sum\n",
    "\n",
    "tes_hasil()\n",
    "print(calculate_sum(100000))"
   ]
  },
  {
   "cell_type": "markdown",
   "id": "73d7c0ca-b7bd-4cd5-a227-5ed0d427bee8",
   "metadata": {},
   "source": [
    "#### B. Skrip pemrograman Debugging mode. (Tidak boleh menggunakan Package!!) Selesaikan debugging deret berikut:"
   ]
  },
  {
   "cell_type": "code",
   "execution_count": 2,
   "id": "d5d44e91-f872-4dfe-9e90-6cbf87b3f2fd",
   "metadata": {},
   "outputs": [
    {
     "data": {
      "image/png": "[encoded data removed]",
      "text/plain": [
       "<IPython.core.display.Image object>"
      ]
     },
     "execution_count": 2,
     "metadata": {},
     "output_type": "execute_result"
    }
   ],
   "source": [
    "from IPython import display\n",
    "display.Image(r\"C:/Users/rafif/Downloads/e-series_tugasprakpbf.png\")"
   ]
  },
  {
   "cell_type": "code",
   "execution_count": 3,
   "id": "f3959a8b-caed-48de-8ca7-7529703edb8b",
   "metadata": {},
   "outputs": [
    {
     "name": "stdout",
     "output_type": "stream",
     "text": [
      "Running function 'calculate_e' with arguments (1,)...\n",
      "Result: 2.0\n",
      "\n",
      "Running function 'calculate_e' with arguments (2,)...\n",
      "Result: 2.5\n",
      "\n",
      "Running function 'calculate_e' with arguments (3,)...\n",
      "Result: 2.6666666666666665\n",
      "\n",
      "Running function 'calculate_e' with arguments (4,)...\n",
      "Result: 2.708333333333333\n",
      "\n",
      "Running function 'calculate_e' with arguments (5,)...\n",
      "Result: 2.7166666666666663\n",
      "\n"
     ]
    },
    {
     "data": {
      "text/plain": [
       "2.7166666666666663"
      ]
     },
     "execution_count": 3,
     "metadata": {},
     "output_type": "execute_result"
    }
   ],
   "source": [
    "def debug_mode(func):\n",
    "    def wrapper(*args, **kwargs):\n",
    "        print(f\"Running function '{func.__name__}' with arguments {args}...\")\n",
    "        result = func(*args, **kwargs)\n",
    "        print(f\"Result: {result}\\n\")\n",
    "        return result\n",
    "    return wrapper\n",
    "\n",
    "@debug_mode\n",
    "def calculate_e(n):\n",
    "    e = 1\n",
    "    factorial = 1\n",
    "    for i in range(1, n+1):\n",
    "        factorial *= i\n",
    "        e += 1/factorial\n",
    "    return e\n",
    "\n",
    "# Testing\n",
    "calculate_e(1)\n",
    "calculate_e(2)\n",
    "calculate_e(3)\n",
    "calculate_e(4)\n",
    "calculate_e(5)"
   ]
  },
  {
   "cell_type": "markdown",
   "id": "947c222d-8c33-4bc8-bc9a-b678ec13ac25",
   "metadata": {},
   "source": [
    "#### 1. Buatlah Skrip pemrograman mengenskripsi sebuah Pesan dengan memperhatikan Capital words, buatlah log decorator dengan fungsi warp. Kemudian hitunglah performa nya dengan time."
   ]
  },
  {
   "cell_type": "code",
   "execution_count": 4,
   "id": "cf56e445-184d-4455-aacd-135b0950d99f",
   "metadata": {},
   "outputs": [
    {
     "name": "stdout",
     "output_type": "stream",
     "text": [
      "Running encrypt_message function...\n",
      "Original message: Ini adalah Pesan Rahasia dengan beberapa KATA yang ditulis dengan HURUF BESAR dan huruf kecil\n",
      "Encrypted message: Lql dgdodk Shvdq Udkdvld ghqjdq ehehudsd NDWD bdqj glwxolv ghqjdq KXUXI EHVDU gdq kxuxi nhflo\n",
      "Time taken: 0.000000 seconds\n"
     ]
    }
   ],
   "source": [
    "import time\n",
    "\n",
    "def log_decorator(func):\n",
    "    def wrapper(*args, **kwargs):\n",
    "        print(f\"Running {func.__name__} function...\")\n",
    "        return func(*args, **kwargs)\n",
    "    return wrapper\n",
    "\n",
    "@log_decorator\n",
    "def encrypt_message(message):\n",
    "    original_message = message\n",
    "    encrypted_message = \"\"\n",
    "    for letter in message:\n",
    "        if letter.isupper():\n",
    "            encrypted_message += chr((ord(letter) + 3 - 65) % 26 + 65)\n",
    "        elif letter.islower():\n",
    "            encrypted_message += chr((ord(letter) + 3 - 97) % 26 + 97)\n",
    "        else:\n",
    "            encrypted_message += letter\n",
    "    return original_message, encrypted_message\n",
    "\n",
    "start_time = time.time()\n",
    "original_msg = \"Ini adalah Pesan Rahasia dengan beberapa KATA yang ditulis dengan HURUF BESAR dan huruf kecil\"\n",
    "original_and_encrypted_msg = encrypt_message(original_msg)\n",
    "end_time = time.time()\n",
    "\n",
    "print(\"Original message:\", original_and_encrypted_msg[0])\n",
    "print(\"Encrypted message:\", original_and_encrypted_msg[1])\n",
    "print(f\"Time taken: {end_time - start_time:.6f} seconds\")"
   ]
  },
  {
   "cell_type": "markdown",
   "id": "f983a2cb-054c-4cd7-8e08-d8af8d804d46",
   "metadata": {},
   "source": [
    "#### 1. Buatlah Pemrograman penghitung kata dengan python decorator, dari sebuah lirik lagu yang anda sukai!"
   ]
  },
  {
   "cell_type": "code",
   "execution_count": 5,
   "id": "1bbb2e84-dc60-4dac-a269-af60127eda69",
   "metadata": {},
   "outputs": [
    {
     "name": "stdout",
     "output_type": "stream",
     "text": [
      "Jumlah kata dalam lirik: 38\n"
     ]
    },
    {
     "data": {
      "text/plain": [
       "'\\n    Indonesia Tanah Airku, Tanah Tumpah Darahku,\\n    Di sanalah Aku Berdiri, Jadi Pandu Ibuku,\\n    Indonesia Kebangsaanku, Bangsa dan Tanah Airku, \\n    Marilah Kita Berseru, Indonesia Bersatu.\\n    Hiduplah Tanahku, Hiduplah Negeriku, Bangsaku, Rakyatku, Semuanya,\\n    Bangunlah Jiwanya, Bangunlah Badannya, Untuk Indonesia Raya.\\n    '"
      ]
     },
     "execution_count": 5,
     "metadata": {},
     "output_type": "execute_result"
    }
   ],
   "source": [
    "def count_words(func):\n",
    "    def wrapper(*args, **kwargs):\n",
    "        lyrics = func(*args, **kwargs)\n",
    "        word_count = len(lyrics.split())\n",
    "        print(f\"Jumlah kata dalam lirik: {word_count}\")\n",
    "        return lyrics\n",
    "    return wrapper\n",
    "\n",
    "@count_words\n",
    "def favorite_song_lyrics():\n",
    "    lyrics = \"\"\"\n",
    "    Indonesia Tanah Airku, Tanah Tumpah Darahku,\n",
    "    Di sanalah Aku Berdiri, Jadi Pandu Ibuku,\n",
    "    Indonesia Kebangsaanku, Bangsa dan Tanah Airku, \n",
    "    Marilah Kita Berseru, Indonesia Bersatu.\n",
    "    Hiduplah Tanahku, Hiduplah Negeriku, Bangsaku, Rakyatku, Semuanya,\n",
    "    Bangunlah Jiwanya, Bangunlah Badannya, Untuk Indonesia Raya.\n",
    "    \"\"\"\n",
    "    return lyrics\n",
    "\n",
    "favorite_song_lyrics()\n"
   ]
  }
 ],
 "metadata": {
  "kernelspec": {
   "display_name": "Python 3 (ipykernel)",
   "language": "python",
   "name": "python3"
  },
  "language_info": {
   "codemirror_mode": {
    "name": "ipython",
    "version": 3
   },
   "file_extension": ".py",
   "mimetype": "text/x-python",
   "name": "python",
   "nbconvert_exporter": "python",
   "pygments_lexer": "ipython3",
   "version": "3.10.4"
  }
 },
 "nbformat": 4,
 "nbformat_minor": 5
}
