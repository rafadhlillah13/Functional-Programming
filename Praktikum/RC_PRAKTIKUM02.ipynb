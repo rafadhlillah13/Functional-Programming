{
 "cells": [
  {
   "attachments": {},
   "cell_type": "markdown",
   "id": "a182dad0-1b6f-4702-a42a-ddc2b6d08998",
   "metadata": {},
   "source": [
    "# Jurnal Kelompok 2 PBF RC"
   ]
  },
  {
   "cell_type": "markdown",
   "id": "a30cdc76-1172-4eb9-ab8b-b6623b2f9925",
   "metadata": {},
   "source": [
    "## Import library"
   ]
  },
  {
   "cell_type": "code",
   "execution_count": 1,
   "id": "ccb913d2-b6b7-4a8f-8aeb-cc66198581d6",
   "metadata": {},
   "outputs": [],
   "source": [
    "import pandas as pd\n",
    "import numpy as np"
   ]
  },
  {
   "cell_type": "markdown",
   "id": "e4c4a982-2f96-4aa5-890f-d1cf9a2ef48e",
   "metadata": {},
   "source": [
    "## Import dataset"
   ]
  },
  {
   "cell_type": "code",
   "execution_count": 2,
   "id": "b01f96d6-2b19-40dc-b207-6f5719189214",
   "metadata": {},
   "outputs": [
    {
     "data": {
      "text/html": [
       "<div>\n",
       "<style scoped>\n",
       "    .dataframe tbody tr th:only-of-type {\n",
       "        vertical-align: middle;\n",
       "    }\n",
       "\n",
       "    .dataframe tbody tr th {\n",
       "        vertical-align: top;\n",
       "    }\n",
       "\n",
       "    .dataframe thead th {\n",
       "        text-align: right;\n",
       "    }\n",
       "</style>\n",
       "<table border=\"1\" class=\"dataframe\">\n",
       "  <thead>\n",
       "    <tr style=\"text-align: right;\">\n",
       "      <th></th>\n",
       "      <th>no</th>\n",
       "      <th>age</th>\n",
       "      <th>income</th>\n",
       "      <th>gender</th>\n",
       "    </tr>\n",
       "  </thead>\n",
       "  <tbody>\n",
       "    <tr>\n",
       "      <th>0</th>\n",
       "      <td>1</td>\n",
       "      <td>29.0</td>\n",
       "      <td>12247035.0</td>\n",
       "      <td>m</td>\n",
       "    </tr>\n",
       "    <tr>\n",
       "      <th>1</th>\n",
       "      <td>2</td>\n",
       "      <td>35.0</td>\n",
       "      <td>11561761.0</td>\n",
       "      <td>m</td>\n",
       "    </tr>\n",
       "    <tr>\n",
       "      <th>2</th>\n",
       "      <td>3</td>\n",
       "      <td>26.0</td>\n",
       "      <td>5009745.0</td>\n",
       "      <td>f</td>\n",
       "    </tr>\n",
       "    <tr>\n",
       "      <th>3</th>\n",
       "      <td>4</td>\n",
       "      <td>25.0</td>\n",
       "      <td>10168417.0</td>\n",
       "      <td>m</td>\n",
       "    </tr>\n",
       "    <tr>\n",
       "      <th>4</th>\n",
       "      <td>5</td>\n",
       "      <td>31.0</td>\n",
       "      <td>5315979.0</td>\n",
       "      <td>m</td>\n",
       "    </tr>\n",
       "    <tr>\n",
       "      <th>...</th>\n",
       "      <td>...</td>\n",
       "      <td>...</td>\n",
       "      <td>...</td>\n",
       "      <td>...</td>\n",
       "    </tr>\n",
       "    <tr>\n",
       "      <th>101</th>\n",
       "      <td>102</td>\n",
       "      <td>32.0</td>\n",
       "      <td>2904282.0</td>\n",
       "      <td>f</td>\n",
       "    </tr>\n",
       "    <tr>\n",
       "      <th>102</th>\n",
       "      <td>103</td>\n",
       "      <td>21.0</td>\n",
       "      <td>NaN</td>\n",
       "      <td>m</td>\n",
       "    </tr>\n",
       "    <tr>\n",
       "      <th>103</th>\n",
       "      <td>104</td>\n",
       "      <td>22.0</td>\n",
       "      <td>2609364.0</td>\n",
       "      <td>m</td>\n",
       "    </tr>\n",
       "    <tr>\n",
       "      <th>104</th>\n",
       "      <td>105</td>\n",
       "      <td>22.0</td>\n",
       "      <td>16221406.0</td>\n",
       "      <td>f</td>\n",
       "    </tr>\n",
       "    <tr>\n",
       "      <th>105</th>\n",
       "      <td>106</td>\n",
       "      <td>33.0</td>\n",
       "      <td>16066811.0</td>\n",
       "      <td>m</td>\n",
       "    </tr>\n",
       "  </tbody>\n",
       "</table>\n",
       "<p>106 rows × 4 columns</p>\n",
       "</div>"
      ],
      "text/plain": [
       "      no  age      income  gender\n",
       "0      1  29.0  12247035.0      m\n",
       "1      2  35.0  11561761.0      m\n",
       "2      3  26.0   5009745.0      f\n",
       "3      4  25.0  10168417.0      m\n",
       "4      5  31.0   5315979.0      m\n",
       "..   ...   ...         ...    ...\n",
       "101  102  32.0   2904282.0      f\n",
       "102  103  21.0         NaN      m\n",
       "103  104  22.0   2609364.0      m\n",
       "104  105  22.0  16221406.0      f\n",
       "105  106  33.0  16066811.0      m\n",
       "\n",
       "[106 rows x 4 columns]"
      ]
     },
     "execution_count": 2,
     "metadata": {},
     "output_type": "execute_result"
    }
   ],
   "source": [
    "data = pd.read_csv(\"C:/Users/rafif/Downloads/income.csv\")\n",
    "data"
   ]
  },
  {
   "cell_type": "markdown",
   "id": "fd87052a-6da1-428c-afff-f4c2c0de7f91",
   "metadata": {},
   "source": [
    "## Cek type data"
   ]
  },
  {
   "cell_type": "code",
   "execution_count": 3,
   "id": "ea8a3dff-69e6-4f58-b9a6-c537c09619ae",
   "metadata": {},
   "outputs": [
    {
     "name": "stdout",
     "output_type": "stream",
     "text": [
      "<class 'pandas.core.frame.DataFrame'>\n",
      "RangeIndex: 106 entries, 0 to 105\n",
      "Data columns (total 4 columns):\n",
      " #   Column   Non-Null Count  Dtype  \n",
      "---  ------   --------------  -----  \n",
      " 0   no       106 non-null    int64  \n",
      " 1   age      103 non-null    float64\n",
      " 2   income   101 non-null    float64\n",
      " 3   gender   106 non-null    object \n",
      "dtypes: float64(2), int64(1), object(1)\n",
      "memory usage: 3.4+ KB\n"
     ]
    }
   ],
   "source": [
    "data.info()"
   ]
  },
  {
   "cell_type": "markdown",
   "id": "793964c9-5867-45bd-8b06-3af922e724a2",
   "metadata": {},
   "source": [
    "## Menghitung jumlah NaN dalam dataset\n",
    "setelah di cek ternyata masih ada data yang kosong(NaN)"
   ]
  },
  {
   "cell_type": "code",
   "execution_count": 4,
   "id": "b193a167-f92c-4f5c-b9ac-3e35b6efa57c",
   "metadata": {},
   "outputs": [
    {
     "data": {
      "text/plain": [
       "no         0\n",
       "age        3\n",
       "income     5\n",
       "gender     0\n",
       "dtype: int64"
      ]
     },
     "execution_count": 4,
     "metadata": {},
     "output_type": "execute_result"
    }
   ],
   "source": [
    "data.isna().sum()"
   ]
  },
  {
   "cell_type": "markdown",
   "id": "854a1958-7446-4c2e-b331-587950d1b573",
   "metadata": {},
   "source": [
    "## Data Preprocessing\n",
    "Melakukan data cleaning menghapus missing values, membuang data duplikat, convert data, membersihkan nilai yang tidak valid dan tidak konsisten"
   ]
  },
  {
   "cell_type": "code",
   "execution_count": 5,
   "id": "ec8424c4-f506-4f4c-8067-3713a3dbbf8b",
   "metadata": {},
   "outputs": [],
   "source": [
    "# Clean data\n",
    "def clean_data(data):\n",
    "    # Remove missing values\n",
    "    data = data.dropna()\n",
    "    # Remove duplicates\n",
    "    data = data.drop_duplicates()\n",
    "    # Convert data types\n",
    "    data['age '] = data['age '].astype(int)\n",
    "    data['income '] = data['income '].astype(int)\n",
    "   # Membersihkan nilai yang tidak valid\n",
    "    data = data[data['age '] > 0]\n",
    "    data = data[data['income '] > 0]\n",
    "    # Membersihkan nilai yang tidak konsisten\n",
    "    data['gender'] = data['gender'].apply(lambda x: x.lower())\n",
    "    data.loc[data['gender'] == 'm', 'gender'] = 'male'\n",
    "    data.loc[data['gender'] == 'f', 'gender'] = 'female'\n",
    "    return data"
   ]
  },
  {
   "cell_type": "code",
   "execution_count": 6,
   "id": "b4063a33-e0ef-4827-ba22-e2cd3abe774b",
   "metadata": {},
   "outputs": [
    {
     "data": {
      "text/html": [
       "<div>\n",
       "<style scoped>\n",
       "    .dataframe tbody tr th:only-of-type {\n",
       "        vertical-align: middle;\n",
       "    }\n",
       "\n",
       "    .dataframe tbody tr th {\n",
       "        vertical-align: top;\n",
       "    }\n",
       "\n",
       "    .dataframe thead th {\n",
       "        text-align: right;\n",
       "    }\n",
       "</style>\n",
       "<table border=\"1\" class=\"dataframe\">\n",
       "  <thead>\n",
       "    <tr style=\"text-align: right;\">\n",
       "      <th></th>\n",
       "      <th>no</th>\n",
       "      <th>age</th>\n",
       "      <th>income</th>\n",
       "      <th>gender</th>\n",
       "    </tr>\n",
       "  </thead>\n",
       "  <tbody>\n",
       "    <tr>\n",
       "      <th>0</th>\n",
       "      <td>1</td>\n",
       "      <td>29</td>\n",
       "      <td>12247035</td>\n",
       "      <td>male</td>\n",
       "    </tr>\n",
       "    <tr>\n",
       "      <th>1</th>\n",
       "      <td>2</td>\n",
       "      <td>35</td>\n",
       "      <td>11561761</td>\n",
       "      <td>male</td>\n",
       "    </tr>\n",
       "    <tr>\n",
       "      <th>2</th>\n",
       "      <td>3</td>\n",
       "      <td>26</td>\n",
       "      <td>5009745</td>\n",
       "      <td>female</td>\n",
       "    </tr>\n",
       "    <tr>\n",
       "      <th>3</th>\n",
       "      <td>4</td>\n",
       "      <td>25</td>\n",
       "      <td>10168417</td>\n",
       "      <td>male</td>\n",
       "    </tr>\n",
       "    <tr>\n",
       "      <th>4</th>\n",
       "      <td>5</td>\n",
       "      <td>31</td>\n",
       "      <td>5315979</td>\n",
       "      <td>male</td>\n",
       "    </tr>\n",
       "    <tr>\n",
       "      <th>...</th>\n",
       "      <td>...</td>\n",
       "      <td>...</td>\n",
       "      <td>...</td>\n",
       "      <td>...</td>\n",
       "    </tr>\n",
       "    <tr>\n",
       "      <th>100</th>\n",
       "      <td>101</td>\n",
       "      <td>20</td>\n",
       "      <td>8413164</td>\n",
       "      <td>male</td>\n",
       "    </tr>\n",
       "    <tr>\n",
       "      <th>101</th>\n",
       "      <td>102</td>\n",
       "      <td>32</td>\n",
       "      <td>2904282</td>\n",
       "      <td>female</td>\n",
       "    </tr>\n",
       "    <tr>\n",
       "      <th>103</th>\n",
       "      <td>104</td>\n",
       "      <td>22</td>\n",
       "      <td>2609364</td>\n",
       "      <td>male</td>\n",
       "    </tr>\n",
       "    <tr>\n",
       "      <th>104</th>\n",
       "      <td>105</td>\n",
       "      <td>22</td>\n",
       "      <td>16221406</td>\n",
       "      <td>female</td>\n",
       "    </tr>\n",
       "    <tr>\n",
       "      <th>105</th>\n",
       "      <td>106</td>\n",
       "      <td>33</td>\n",
       "      <td>16066811</td>\n",
       "      <td>male</td>\n",
       "    </tr>\n",
       "  </tbody>\n",
       "</table>\n",
       "<p>98 rows × 4 columns</p>\n",
       "</div>"
      ],
      "text/plain": [
       "      no  age    income   gender\n",
       "0      1    29  12247035    male\n",
       "1      2    35  11561761    male\n",
       "2      3    26   5009745  female\n",
       "3      4    25  10168417    male\n",
       "4      5    31   5315979    male\n",
       "..   ...   ...       ...     ...\n",
       "100  101    20   8413164    male\n",
       "101  102    32   2904282  female\n",
       "103  104    22   2609364    male\n",
       "104  105    22  16221406  female\n",
       "105  106    33  16066811    male\n",
       "\n",
       "[98 rows x 4 columns]"
      ]
     },
     "execution_count": 6,
     "metadata": {},
     "output_type": "execute_result"
    }
   ],
   "source": [
    "# Membersihkan dataset\n",
    "cleaned_data = clean_data(data)\n",
    "cleaned_data"
   ]
  },
  {
   "cell_type": "markdown",
   "id": "1a1833ba-d952-4608-a538-1802e27343ad",
   "metadata": {},
   "source": [
    "## Cek kembali data NaN setelah dilakukan data preprocessing \n",
    "setelah dilakukan data preprocessing terlihat bahwa tidak ada lagi data kosong(NaN)"
   ]
  },
  {
   "cell_type": "code",
   "execution_count": 7,
   "id": "d974522f-8278-4533-aa43-e23a0581d56f",
   "metadata": {},
   "outputs": [
    {
     "data": {
      "text/plain": [
       "no         0\n",
       "age        0\n",
       "income     0\n",
       "gender     0\n",
       "dtype: int64"
      ]
     },
     "execution_count": 7,
     "metadata": {},
     "output_type": "execute_result"
    }
   ],
   "source": [
    "cleaned_data.isna().sum()"
   ]
  },
  {
   "cell_type": "markdown",
   "id": "6b1faf4f-73d0-4e0e-b59a-15ca96cd537f",
   "metadata": {},
   "source": [
    "## Menggunakan fungsi reduce untuk menghitung jumlah pendapatan\n",
    "menghitung total keseluruhan yang ada di kolom income didapatkan hasil Rp. 883.912.167"
   ]
  },
  {
   "cell_type": "code",
   "execution_count": 8,
   "id": "be496792-5f3f-4b48-8ba7-5afc94d19b32",
   "metadata": {},
   "outputs": [
    {
     "data": {
      "text/plain": [
       "883912167"
      ]
     },
     "execution_count": 8,
     "metadata": {},
     "output_type": "execute_result"
    }
   ],
   "source": [
    "from functools import reduce\n",
    "total_income = reduce(lambda x, y: x + y, cleaned_data['income '])\n",
    "total_income"
   ]
  },
  {
   "cell_type": "markdown",
   "id": "5c1268b8-78b3-42b0-820b-05898d6f14f0",
   "metadata": {},
   "source": [
    "## Menggunakan fungsi filter untuk memfilter data yang sesuai dengan kriteria tertentu\n",
    "### Memfilter income > 15 juta\n",
    "Ternyata dalam rentang umur 17-40 tahun pada dataset ini yang memiliki income diatas 15 juta sebanyak 13 orang"
   ]
  },
  {
   "cell_type": "code",
   "execution_count": 9,
   "id": "feda622a-51ce-45d8-833c-8d512cdd00fd",
   "metadata": {},
   "outputs": [
    {
     "data": {
      "text/plain": [
       "[15568213,\n",
       " 18509612,\n",
       " 17916690,\n",
       " 15195135,\n",
       " 15283401,\n",
       " 15523178,\n",
       " 19702728,\n",
       " 19233076,\n",
       " 17374661,\n",
       " 15692471,\n",
       " 16501100,\n",
       " 16221406,\n",
       " 16066811]"
      ]
     },
     "execution_count": 9,
     "metadata": {},
     "output_type": "execute_result"
    }
   ],
   "source": [
    "high_income_data = list(filter(lambda x: x >  15000000, cleaned_data['income ']))\n",
    "high_income_data"
   ]
  },
  {
   "cell_type": "markdown",
   "id": "d72f4acc-5ae5-4a2d-8655-8fbd9abaf323",
   "metadata": {},
   "source": [
    "## Ubah Data ke list\n",
    "Mengubah data ke list untuk proses selanjutnya yakni melakukan perhitungan"
   ]
  },
  {
   "cell_type": "code",
   "execution_count": 10,
   "id": "b1f3831f-dd13-4bb2-ac66-e5ff087070dc",
   "metadata": {},
   "outputs": [
    {
     "name": "stdout",
     "output_type": "stream",
     "text": [
      "[12247035, 11561761, 5009745, 10168417, 5315979, 13215435, 8545991, 10601138, 7487848, 8278305, 7238529, 3861080, 6175578, 12457163, 3128005, 10775909, 7867990, 9223945, 12522466, 1746155, 6295588, 4300675, 2010293, 12943481, 12384326, 13402913, 8341348, 7303021, 5546868, 4849015, 1202219, 9493833, 4586386, 10684558, 2619574, 5491073, 3590726, 12635308, 14098844, 10183878, 12058362, 3157030, 7990682, 2060174, 5272290, 7729875, 7635726, 12171291, 11960693, 15568213, 2200623, 14204711, 4221789, 12466875, 2283945, 14744519, 18509612, 13692887, 17916690, 14307083, 15195135, 4288340, 4461255, 2046312, 2953968, 6770471, 7138789, 6409342, 10579788, 5759617, 6957119, 8516020, 7394177, 4280829, 15283401, 15523178, 5979150, 12868350, 19702728, 7658262, 19233076, 17374661, 15692471, 14071992, 11606073, 13609001, 4990346, 14110117, 7440779, 8801208, 2422014, 2532600, 16501100, 8413164, 2904282, 2609364, 16221406, 16066811]\n"
     ]
    }
   ],
   "source": [
    "income = cleaned_data['income '].values.tolist()\n",
    "print(income)"
   ]
  },
  {
   "cell_type": "code",
   "execution_count": 11,
   "id": "5965ba85-56ac-430b-879e-6a7ac1470ca4",
   "metadata": {},
   "outputs": [
    {
     "name": "stdout",
     "output_type": "stream",
     "text": [
      "[29, 35, 26, 25, 31, 21, 21, 22, 38, 31, 34, 33, 40, 35, 36, 28, 21, 28, 36, 40, 36, 23, 38, 24, 34, 40, 33, 32, 36, 21, 22, 31, 26, 33, 23, 28, 40, 21, 30, 34, 29, 34, 20, 38, 20, 21, 30, 18, 19, 24, 23, 22, 40, 37, 37, 36, 37, 36, 29, 23, 23, 30, 20, 17, 23, 26, 19, 32, 29, 24, 36, 31, 39, 37, 28, 31, 21, 31, 35, 35, 24, 21, 21, 31, 23, 39, 37, 39, 39, 27, 22, 37, 22, 20, 32, 22, 22, 33]\n"
     ]
    }
   ],
   "source": [
    "age = cleaned_data['age '].values.tolist()\n",
    "print(age)"
   ]
  },
  {
   "cell_type": "markdown",
   "id": "462dfdb3-f5a1-4852-b05e-d761a29ea3df",
   "metadata": {},
   "source": [
    "## Menghitung rata-rata menggunakan map() dan fungsi lambda\n",
    "Didapatkan rata rata income pada dataset ini sebesar Rp. 9.019.511,90 dengan rata rata umur 29,2 tahun"
   ]
  },
  {
   "cell_type": "code",
   "execution_count": 12,
   "id": "44e7abfd-b3e9-4a38-819e-7df8bf717b28",
   "metadata": {},
   "outputs": [
    {
     "name": "stdout",
     "output_type": "stream",
     "text": [
      "9019511.908163264\n"
     ]
    }
   ],
   "source": [
    "avarage_inc = sum(list(map(lambda x: float(x), income))) / len(income)\n",
    "print(avarage_inc)"
   ]
  },
  {
   "cell_type": "code",
   "execution_count": 13,
   "id": "f6c0fbdd-f7c9-408f-ac1d-da72a367943d",
   "metadata": {},
   "outputs": [
    {
     "name": "stdout",
     "output_type": "stream",
     "text": [
      "29.244897959183675\n"
     ]
    }
   ],
   "source": [
    "avarage_age = sum(list(map(lambda x: float(x), age))) / len(age)\n",
    "print(avarage_age)"
   ]
  },
  {
   "cell_type": "markdown",
   "id": "c89277b0-0eea-422f-a92b-88d93e25c65b",
   "metadata": {},
   "source": [
    "## Menghitung Median dengan User Defined Function"
   ]
  },
  {
   "cell_type": "code",
   "execution_count": 14,
   "id": "4a3e9e82-54df-4047-ae9b-28c9660f4852",
   "metadata": {},
   "outputs": [
    {
     "name": "stdout",
     "output_type": "stream",
     "text": [
      "Median Age :  30.0\n",
      "Median Income :  8309826.5\n"
     ]
    }
   ],
   "source": [
    "def median(values):\n",
    "    sorted_values = sorted(values)\n",
    "    if len(sorted_values) % 2 == 0:\n",
    "        return (sorted_values[len(sorted_values) // 2] + sorted_values[len(sorted_values) // 2 - 1]) / 2\n",
    "    else:\n",
    "        return sorted_values[len(sorted_values) // 2]\n",
    "\n",
    "median_age = median(cleaned_data['age '])\n",
    "median_income = median(cleaned_data['income '])\n",
    "\n",
    "print(\"Median Age : \" , median_age)\n",
    "print(\"Median Income : \", median_income)"
   ]
  },
  {
   "cell_type": "markdown",
   "id": "b88ea1f3-ef3d-4671-844f-9e793e759a0d",
   "metadata": {},
   "source": [
    "## Built-in Function"
   ]
  },
  {
   "cell_type": "markdown",
   "id": "5c051ed2-4b46-4c8a-b504-cc9c22eca4a9",
   "metadata": {},
   "source": [
    "Income terbesar pada dataset ini ialah Rp. 19.702.728 <br>\n",
    "Income terkecil pada dataset ini ialah Rp. 1.202.219 <br>\n",
    "Rentang umur yang ada pada dataset ini ialah 17 - 40 tahun"
   ]
  },
  {
   "cell_type": "code",
   "execution_count": 15,
   "id": "60aa9f3e-c2d1-4adf-a656-ce96b48d7fdc",
   "metadata": {},
   "outputs": [
    {
     "data": {
      "text/plain": [
       "19702728"
      ]
     },
     "execution_count": 15,
     "metadata": {},
     "output_type": "execute_result"
    }
   ],
   "source": [
    "max((x) for x in income)"
   ]
  },
  {
   "cell_type": "code",
   "execution_count": 16,
   "id": "b51f06df-f925-4909-a8ad-a5c5314ce9fb",
   "metadata": {},
   "outputs": [
    {
     "data": {
      "text/plain": [
       "1202219"
      ]
     },
     "execution_count": 16,
     "metadata": {},
     "output_type": "execute_result"
    }
   ],
   "source": [
    "min((x) for x in income)"
   ]
  },
  {
   "cell_type": "code",
   "execution_count": 17,
   "id": "0cf82ff9-f454-483e-9be5-b136e09fb63b",
   "metadata": {},
   "outputs": [
    {
     "data": {
      "text/plain": [
       "40"
      ]
     },
     "execution_count": 17,
     "metadata": {},
     "output_type": "execute_result"
    }
   ],
   "source": [
    "max((x) for x in age)"
   ]
  },
  {
   "cell_type": "code",
   "execution_count": 18,
   "id": "de4d368b-7aa5-4931-96f3-cf23cf3c73d1",
   "metadata": {},
   "outputs": [
    {
     "data": {
      "text/plain": [
       "17"
      ]
     },
     "execution_count": 18,
     "metadata": {},
     "output_type": "execute_result"
    }
   ],
   "source": [
    "min((x) for x in age)"
   ]
  }
 ],
 "metadata": {
  "kernelspec": {
   "display_name": "Python 3 (ipykernel)",
   "language": "python",
   "name": "python3"
  },
  "language_info": {
   "codemirror_mode": {
    "name": "ipython",
    "version": 3
   },
   "file_extension": ".py",
   "mimetype": "text/x-python",
   "name": "python",
   "nbconvert_exporter": "python",
   "pygments_lexer": "ipython3",
   "version": "3.10.4"
  }
 },
 "nbformat": 4,
 "nbformat_minor": 5
}
