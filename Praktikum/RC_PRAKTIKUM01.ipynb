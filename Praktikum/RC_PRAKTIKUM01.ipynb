{
 "cells": [
  {
   "cell_type": "markdown",
   "id": "a64a7259-00b4-4650-bf07-99856fdd0fdf",
   "metadata": {},
   "source": [
    "# Tugas Praktikum PBF Modul 1"
   ]
  },
  {
   "cell_type": "markdown",
   "id": "ae9e0971-c033-48be-83af-75d857c8392d",
   "metadata": {},
   "source": [
    "## 1.Buatlah Fungsi Komposisi dengan nilai f(x)=4^x ; g(x)=x^x dan h(x)=3+x dengan pemrograman prosedural tiga fungsi dan pemrograman fungsional dengan lamda"
   ]
  },
  {
   "cell_type": "markdown",
   "id": "a81be0ca-c638-4714-a4e2-b92c0324a219",
   "metadata": {},
   "source": [
    "### Pemrograman Prosedural dengan 3 Fungsi"
   ]
  },
  {
   "cell_type": "code",
   "execution_count": 1,
   "id": "8faae231-f5bf-428f-8b8e-0070c6a6b88c",
   "metadata": {},
   "outputs": [],
   "source": [
    "def f(x):\n",
    "    return 4 ** x\n",
    "\n",
    "def g(x):\n",
    "    return x ** x\n",
    "\n",
    "def h(x):\n",
    "    return 3 + x\n",
    "\n",
    "def komposisi_prosedural(x):\n",
    "    return f(g(h(x)))"
   ]
  },
  {
   "cell_type": "code",
   "execution_count": 2,
   "id": "499766c1-fefe-40d4-9b11-f84c651ddf9e",
   "metadata": {},
   "outputs": [
    {
     "name": "stdout",
     "output_type": "stream",
     "text": [
      "2738248761316017572742348936950010448551572158231779371511420498138539276297788309394191354517654433778305760249669055018654345038982960283040173260517312916290707801820674504366871632600804887963367337263522497825292336532140913808410030791539345419424032061850694542711196274001481398359789911818130649888463151791752429780547244641193312608638152999722631211840673827646616997262935164407810027909383249609045265422952174035491456768893888496923961830419221696465348280014055438553165447953246393547267908926735736893878246590624064523380774652728053757996417828938554196482295448971165496475437853387095634190399912509837356933670123261396478811191241421262493034193313021183420956181216717081868545513920021942580642796112558632389903266880666949210343989829365024474105599321362078321074638405091811240017997510533388875174033541343506776468179253992429037400216227010510981451940845736527038397421672469179155341784115474317896179501263356203326473302831475871635062518572068608761953174215709163510862454592893723775386427499438400294202336786154386609347634745375233076466505495806172092060594145963921181228307048477883816255817344716719634854129222601062360116788810639458446723330064225308353743906876465406644382408619382301724036817398756799298738170782278569658071633306237014715950374153723813558136622846483152909449741391381399776793638349889957165775278429275453407870615300019214044913567652886299492793737053811573216763858783936753122909415990826965860042906636995995036650971826579439450668265147929149343544753413556427163350892776854789102396987172517128962352485156201061670562094756205191570461642458688689506275096417062443317935980620073192797175444117282095687099957030761660644180614070821947348042170423675095783453097990299074095898225321797495260055964103872883081899874454355208544861277083817218702152903385728058864916087114646485217773956890624\n"
     ]
    }
   ],
   "source": [
    "print(komposisi_prosedural(2))"
   ]
  },
  {
   "cell_type": "markdown",
   "id": "59c632f6-12c8-4d99-aa6c-ca4168e37803",
   "metadata": {},
   "source": [
    "### Pemrograman fungsional dengan lamda"
   ]
  },
  {
   "cell_type": "code",
   "execution_count": 3,
   "id": "256e9be5-b825-4983-8a40-bc3a509050e1",
   "metadata": {},
   "outputs": [],
   "source": [
    "f = lambda x: 4 ** x\n",
    "g = lambda x: x ** x\n",
    "h = lambda x: 3 + x\n",
    "\n",
    "komposisi_fungsional = lambda x: f(g(h(x)))"
   ]
  },
  {
   "cell_type": "code",
   "execution_count": 4,
   "id": "42734c71-3734-42b8-82aa-18fce77a9c87",
   "metadata": {},
   "outputs": [
    {
     "name": "stdout",
     "output_type": "stream",
     "text": [
      "2738248761316017572742348936950010448551572158231779371511420498138539276297788309394191354517654433778305760249669055018654345038982960283040173260517312916290707801820674504366871632600804887963367337263522497825292336532140913808410030791539345419424032061850694542711196274001481398359789911818130649888463151791752429780547244641193312608638152999722631211840673827646616997262935164407810027909383249609045265422952174035491456768893888496923961830419221696465348280014055438553165447953246393547267908926735736893878246590624064523380774652728053757996417828938554196482295448971165496475437853387095634190399912509837356933670123261396478811191241421262493034193313021183420956181216717081868545513920021942580642796112558632389903266880666949210343989829365024474105599321362078321074638405091811240017997510533388875174033541343506776468179253992429037400216227010510981451940845736527038397421672469179155341784115474317896179501263356203326473302831475871635062518572068608761953174215709163510862454592893723775386427499438400294202336786154386609347634745375233076466505495806172092060594145963921181228307048477883816255817344716719634854129222601062360116788810639458446723330064225308353743906876465406644382408619382301724036817398756799298738170782278569658071633306237014715950374153723813558136622846483152909449741391381399776793638349889957165775278429275453407870615300019214044913567652886299492793737053811573216763858783936753122909415990826965860042906636995995036650971826579439450668265147929149343544753413556427163350892776854789102396987172517128962352485156201061670562094756205191570461642458688689506275096417062443317935980620073192797175444117282095687099957030761660644180614070821947348042170423675095783453097990299074095898225321797495260055964103872883081899874454355208544861277083817218702152903385728058864916087114646485217773956890624\n"
     ]
    }
   ],
   "source": [
    "print(komposisi_fungsional(2))"
   ]
  },
  {
   "cell_type": "markdown",
   "id": "b448260d-7a36-487a-92c1-240ed3ad3482",
   "metadata": {},
   "source": [
    "## 2. Buatlah pemrograman berbasis objek dari soal no.1"
   ]
  },
  {
   "cell_type": "code",
   "execution_count": 5,
   "id": "c8eb57ca-72d7-45b7-9026-c26ed0e234aa",
   "metadata": {},
   "outputs": [
    {
     "name": "stdout",
     "output_type": "stream",
     "text": [
      "2738248761316017572742348936950010448551572158231779371511420498138539276297788309394191354517654433778305760249669055018654345038982960283040173260517312916290707801820674504366871632600804887963367337263522497825292336532140913808410030791539345419424032061850694542711196274001481398359789911818130649888463151791752429780547244641193312608638152999722631211840673827646616997262935164407810027909383249609045265422952174035491456768893888496923961830419221696465348280014055438553165447953246393547267908926735736893878246590624064523380774652728053757996417828938554196482295448971165496475437853387095634190399912509837356933670123261396478811191241421262493034193313021183420956181216717081868545513920021942580642796112558632389903266880666949210343989829365024474105599321362078321074638405091811240017997510533388875174033541343506776468179253992429037400216227010510981451940845736527038397421672469179155341784115474317896179501263356203326473302831475871635062518572068608761953174215709163510862454592893723775386427499438400294202336786154386609347634745375233076466505495806172092060594145963921181228307048477883816255817344716719634854129222601062360116788810639458446723330064225308353743906876465406644382408619382301724036817398756799298738170782278569658071633306237014715950374153723813558136622846483152909449741391381399776793638349889957165775278429275453407870615300019214044913567652886299492793737053811573216763858783936753122909415990826965860042906636995995036650971826579439450668265147929149343544753413556427163350892776854789102396987172517128962352485156201061670562094756205191570461642458688689506275096417062443317935980620073192797175444117282095687099957030761660644180614070821947348042170423675095783453097990299074095898225321797495260055964103872883081899874454355208544861277083817218702152903385728058864916087114646485217773956890624\n"
     ]
    }
   ],
   "source": [
    "class Fungsi:\n",
    "    def __init__(self, rumus):\n",
    "        self.rumus = rumus\n",
    "\n",
    "    def hitung(self, x):\n",
    "        return self.rumus(x)\n",
    "\n",
    "class Komposisi:\n",
    "    def __init__(self, f, g, h):\n",
    "        self.f = f\n",
    "        self.g = g\n",
    "        self.h = h\n",
    "\n",
    "    def hitung(self, x):\n",
    "        return self.f.hitung(self.g.hitung(self.h.hitung(x)))\n",
    "\n",
    "\n",
    "# Membuat objek dari kelas Fungsi untuk masing-masing fungsi f(x), g(x), dan h(x)\n",
    "f = Fungsi(lambda x: 4 ** x)\n",
    "g = Fungsi(lambda x: x ** x)\n",
    "h = Fungsi(lambda x: 3 + x)\n",
    "\n",
    "# Membuat objek dari kelas Komposisi dengan fungsi-fungsi yang sudah dibuat\n",
    "komposisi = Komposisi(f, g, h)\n",
    "\n",
    "# Menggunakan objek komposisi untuk menghitung hasil fungsi komposisi dari x = 2\n",
    "print(komposisi.hitung(2))"
   ]
  },
  {
   "cell_type": "markdown",
   "id": "41f0e040-19ad-44cd-afb2-9916e9b80c8f",
   "metadata": {},
   "source": [
    "## 3.Berikan analisis komparasi soal 1 dan 2"
   ]
  },
  {
   "cell_type": "markdown",
   "id": "7bd518b8-3a11-46ad-adc7-c7df6db0a03b",
   "metadata": {},
   "source": [
    "Soal 1 dan 2 sama-sama membahas tentang penghitungan fungsi komposisi dari tiga fungsi matematika yang diberikan, yaitu f(x) = 4^x, g(x) = x^x, dan h(x) = 3 + x.<br>\n",
    "\n",
    "Perbedaan utama antara kedua soal tersebut terletak pada paradigma pemrograman yang digunakan dalam implementasinya. Soal 1 meminta implementasi program dengan paradigma pemrograman prosedural dan fungsional dengan lambda function, sedangkan Soal 2 meminta implementasi program dengan paradigma pemrograman berbasis objek.<br>\n",
    "\n",
    "Implementasi program dengan paradigma pemrograman prosedural dan fungsional pada Soal 1 lebih cocok digunakan dalam implementasi program dengan fitur-fitur yang relatif sederhana, sedangkan implementasi program dengan paradigma pemrograman berbasis objek pada Soal 2 lebih cocok digunakan dalam implementasi program yang lebih kompleks dan memiliki struktur yang lebih kompleks pula. Dalam paradigma pemrograman berbasis objek, kode program dibagi ke dalam beberapa kelas dan objek, yang membantu untuk mengorganisir dan memahami struktur program secara keseluruhan.<br>\n",
    "\n",
    "Pada akhirnya, pemilihan antara paradigma pemrograman prosedural dan fungsional atau paradigma pemrograman berbasis objek akan tergantung pada konteks program yang akan diimplementasikan. Jika program yang dibuat memiliki fitur-fitur yang relatif sederhana, paradigma pemrograman prosedural dan fungsional dapat menjadi pilihan yang tepat. Namun, jika program yang dibuat lebih kompleks dan memiliki struktur yang lebih kompleks pula, paradigma pemrograman berbasis objek dapat menjadi pilihan yang lebih baik."
   ]
  },
  {
   "cell_type": "markdown",
   "id": "cbdc1a06-ba6e-4edb-902d-0aa22bf8287d",
   "metadata": {},
   "source": [
    "## 4. Buatlah satu penyelesaian Luas Segitiga dengan menggunakan Pemrograman berorientasi Objek dan Pemrograman berbasis Fungsi. Uji dengan membandingkan mana yang tercepat komputasinya."
   ]
  },
  {
   "cell_type": "markdown",
   "id": "1da318e2-4958-47c5-ac92-02dc2163d72e",
   "metadata": {},
   "source": [
    "### Pemrograman berorientasi Objek"
   ]
  },
  {
   "cell_type": "code",
   "execution_count": 6,
   "id": "e0e4dad2-95cd-4f8a-aa57-f603e231a5d0",
   "metadata": {},
   "outputs": [
    {
     "name": "stdin",
     "output_type": "stream",
     "text": [
      "Masukkan nilai alas:  4\n",
      "Masukkan nilai tinggi:  9\n"
     ]
    },
    {
     "name": "stdout",
     "output_type": "stream",
     "text": [
      "Luas segitiga adalah 18.0\n"
     ]
    }
   ],
   "source": [
    "class Segitiga:\n",
    "    def __init__(self, alas, tinggi):\n",
    "        self.alas = alas\n",
    "        self.tinggi = tinggi\n",
    "\n",
    "    def luas(self):\n",
    "        return (self.alas * self.tinggi) / 2\n",
    "\n",
    "\n",
    "alas = float(input(\"Masukkan nilai alas: \"))\n",
    "tinggi = float(input(\"Masukkan nilai tinggi: \"))\n",
    "\n",
    "segitiga = Segitiga(alas, tinggi)\n",
    "print(f\"Luas segitiga adalah {segitiga.luas()}\")"
   ]
  },
  {
   "cell_type": "markdown",
   "id": "699828e7-b80b-4a7f-9d98-f07a8aa6b84f",
   "metadata": {},
   "source": [
    "### Pemrograman berbasis Fungsi"
   ]
  },
  {
   "cell_type": "code",
   "execution_count": 7,
   "id": "e2ccb01b-42c8-4e85-955c-3af476d374f0",
   "metadata": {},
   "outputs": [
    {
     "name": "stdin",
     "output_type": "stream",
     "text": [
      "Masukkan nilai alas:  4\n",
      "Masukkan nilai tinggi:  9\n"
     ]
    },
    {
     "name": "stdout",
     "output_type": "stream",
     "text": [
      "Luas segitiga adalah 18.0\n"
     ]
    }
   ],
   "source": [
    "def luas_segitiga(alas, tinggi):\n",
    "    return (alas * tinggi) / 2\n",
    "\n",
    "\n",
    "alas = float(input(\"Masukkan nilai alas: \"))\n",
    "tinggi = float(input(\"Masukkan nilai tinggi: \"))\n",
    "\n",
    "print(f\"Luas segitiga adalah {luas_segitiga(alas, tinggi)}\")"
   ]
  },
  {
   "cell_type": "markdown",
   "id": "4f27e8de-0402-49c7-82ab-fb050c7beea9",
   "metadata": {},
   "source": [
    "### Pengujian Waktu Komputasi"
   ]
  },
  {
   "cell_type": "code",
   "execution_count": 8,
   "id": "3837abb9-18dd-44bb-a89a-2f0307d4c424",
   "metadata": {},
   "outputs": [
    {
     "name": "stdout",
     "output_type": "stream",
     "text": [
      "Waktu eksekusi untuk pemrograman berorientasi objek: 12.19941740000013\n",
      "Waktu eksekusi untuk pemrograman berbasis fungsi: 9.166820200000075\n"
     ]
    }
   ],
   "source": [
    "import timeit\n",
    "\n",
    "# Fungsi uji untuk pemrograman berorientasi objek\n",
    "def test_oo():\n",
    "    class Segitiga:\n",
    "        def __init__(self, alas, tinggi):\n",
    "            self.alas = alas\n",
    "            self.tinggi = tinggi\n",
    "\n",
    "        def luas(self):\n",
    "            return (self.alas * self.tinggi) / 2\n",
    "\n",
    "    segitiga = Segitiga(5, 7)\n",
    "    for i in range(1000000):\n",
    "        segitiga.luas()\n",
    "\n",
    "# Fungsi uji untuk pemrograman berbasis fungsi\n",
    "def test_func():\n",
    "    def luas_segitiga(alas, tinggi):\n",
    "        return (alas * tinggi) / 2\n",
    "\n",
    "    for i in range(1000000):\n",
    "        luas_segitiga(5, 7)\n",
    "\n",
    "# Membandingkan waktu eksekusi untuk masing-masing fungsi uji\n",
    "print(\"Waktu eksekusi untuk pemrograman berorientasi objek:\", timeit.timeit(test_oo, number=100))\n",
    "print(\"Waktu eksekusi untuk pemrograman berbasis fungsi:\", timeit.timeit(test_func, number=100))\n"
   ]
  },
  {
   "cell_type": "markdown",
   "id": "c36a1fbd-baf6-4349-818d-7cf47bc0c355",
   "metadata": {},
   "source": [
    "Hasil yang dihasilkan setiap kali eksekusi program bisa berbeda-beda, namun umumnya hasilnya akan menunjukkan bahwa pemrograman berbasis fungsi lebih cepat daripada pemrograman berorientasi objek. Hal ini dikarenakan pemrograman berbasis fungsi lebih sederhana dan tidak memerlukan overhead(alokasi memori, inisialisasi objek, dan pemanggilan method) yang besar untuk membuat objek dan method."
   ]
  },
  {
   "cell_type": "markdown",
   "id": "5d3a0267-a7e3-48b0-a163-0e7942e0efea",
   "metadata": {},
   "source": [
    "## Special Soal 5"
   ]
  },
  {
   "cell_type": "code",
   "execution_count": 9,
   "id": "cbda8930-452f-4b85-9093-76d6b6653254",
   "metadata": {},
   "outputs": [],
   "source": [
    "def f(x):\n",
    "    return x - 2**(-x)\n",
    "\n",
    "def find_root(a, b, tol=0.00001):\n",
    "    if a >= 1 or a <= 0 or b >= 1 or b <= 0:\n",
    "        return \"Error: a dan b harus di antara 0 dan 1 (tidak termasuk 0 dan 1)\"\n",
    "\n",
    "    # Langkah 3\n",
    "    if f(a)*f(b) >= 0:\n",
    "        return \"Error: Nilai f(a) dan f(b) harus berbeda tanda\"\n",
    "\n",
    "    # Langkah 4\n",
    "    x0 = a\n",
    "    x1 = b\n",
    "    error = abs(x1-x0)\n",
    "\n",
    "    # Langkah 5-7\n",
    "    while error > tol:\n",
    "        x2 = (x0+x1)/2\n",
    "        if f(x0)*f(x2) < 0:\n",
    "            x1 = x2\n",
    "        elif f(x0)*f(x2) > 0:\n",
    "            x0 = x2\n",
    "        else:\n",
    "            return x2\n",
    "        error = abs(x1-x0)\n",
    "\n",
    "    # Langkah 8\n",
    "    return x2"
   ]
  },
  {
   "cell_type": "code",
   "execution_count": 10,
   "id": "876652eb-7150-49dd-801c-3b8b1e4b1d10",
   "metadata": {},
   "outputs": [
    {
     "name": "stdout",
     "output_type": "stream",
     "text": [
      "0.6411834716796875\n"
     ]
    }
   ],
   "source": [
    "print(find_root(0.2, 0.8))"
   ]
  },
  {
   "cell_type": "markdown",
   "id": "2eb1b1b5-0f39-4307-ae93-f30f8d195e3f",
   "metadata": {},
   "source": [
    "## Testing ketika batas atas dan bawah di ubah"
   ]
  },
  {
   "cell_type": "code",
   "execution_count": 11,
   "id": "14a67283-9bee-4d5a-8fc2-2e92cbef47d2",
   "metadata": {},
   "outputs": [
    {
     "name": "stdout",
     "output_type": "stream",
     "text": [
      "0.6411895751953124\n"
     ]
    }
   ],
   "source": [
    "print(find_root(0.3, 0.9))"
   ]
  },
  {
   "cell_type": "markdown",
   "id": "d7e6a525-e74d-408a-bbab-4a5e0c5af02b",
   "metadata": {},
   "source": [
    "### Penjelasan\n",
    "Jika nilai batas bawah dan batas atas diganti dengan nilai yang berbeda, namun masih memenuhi syarat bahwa nilai f(a) dan f(b) memiliki tanda yang berbeda, maka hasil akar yang ditemukan tetap sama.<br>\n",
    "\n",
    "Hal ini karena metode bisection yang digunakan pada algoritma ini adalah metode pencarian akar yang konvergen, yang artinya jika selang [a,b] memuat suatu akar, maka nilai akar yang ditemukan akan konvergen ke nilai yang sama tanpa tergantung pada nilai awal a dan b yang dipilih, asalkan nilai f(a) dan f(b) memiliki tanda yang berbeda dan fungsi f(x) memenuhi syarat-syarat konvergensi metode bisection."
   ]
  }
 ],
 "metadata": {
  "kernelspec": {
   "display_name": "Python 3 (ipykernel)",
   "language": "python",
   "name": "python3"
  },
  "language_info": {
   "codemirror_mode": {
    "name": "ipython",
    "version": 3
   },
   "file_extension": ".py",
   "mimetype": "text/x-python",
   "name": "python",
   "nbconvert_exporter": "python",
   "pygments_lexer": "ipython3",
   "version": "3.10.4"
  }
 },
 "nbformat": 4,
 "nbformat_minor": 5
}
