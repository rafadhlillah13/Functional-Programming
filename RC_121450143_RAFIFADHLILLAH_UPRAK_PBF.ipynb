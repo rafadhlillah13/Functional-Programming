{
 "cells": [
  {
   "cell_type": "markdown",
   "metadata": {},
   "source": [
    "## Nama : Rafi Fadhlillah\n",
    "## NIM : 121450143\n",
    "## Kelas : RC"
   ]
  },
  {
   "cell_type": "markdown",
   "metadata": {},
   "source": [
    "**Buatlah kode pemrograman sesuai topik di bawah ini dan berikan penjelasan setiap kodenya.**"
   ]
  },
  {
   "cell_type": "markdown",
   "metadata": {},
   "source": [
    "A “map” is the same as a dictionary or hash table, i.e. a data structure that maps keys to values.\n",
    "\n",
    "When creating the functions below, think about what happens in edge cases, such as giving zip lists of different lengths. Decide what should happen in these cases!\n",
    "\n",
    "No function should modify its arguments (as is possible with lists and maps in Python). Always leave the arguments the way they were and create new stuff for the output.\n",
    "\n",
    "If you find f(arg1)(arg2) confusing, it just means that f(arg1) returns a function that we immediately call with the argument arg2.\n",
    "\n",
    "If you use Python 3, you might need to wrap your test calls in the list function to get back a list and not an iterator, so you can more easily see the results."
   ]
  },
  {
   "cell_type": "markdown",
   "metadata": {},
   "source": [
    "# Learn about recursion\n",
    "\n",
    "Recursion is essential for functional programming. Learn about it!\n",
    "\n",
    "Below are a few pratice problems.\n",
    "\n",
    "Imagine you have a tree of nested lists, like this:\n",
    "\n",
    "```\n",
    "[1, [[2], 3], [4], 5, [6, 100, [[7], [[8]], 9]], 10]\n",
    "```\n",
    "\n",
    "Write functions to recursively…\n",
    "\n",
    "calculate the sum of all the numbers in a tree,\n",
    "calculate the depth of a tree (in the tree above, 8 is the deepest element),\n",
    "find the largest value in a tree.\n",
    "\n",
    "You can also try the Towers of Hanoi problem. There are three rods, A, B and C. On rod A there are a stack of 6 disks (with a hole in the middle) of different sizes, sorted by size, so that the biggest disk is on the bottom. Your job is to print out instructions for how to move the stack of disks from rod A to rod C. You can only move one disk at a time, the topmost disk on a rod, and at no point can a bigger disk be on top of a smaller disk. You can of course place disks on rod B temporarily.\n",
    "\n",
    "So, for example, you can output:\n",
    "\n",
    "Move disk from A to B\n",
    "\n",
    "Move disk from A to C\n",
    "\n",
    "Move disk from B to C\n",
    "\n",
    "etc.\n",
    "\n",
    "It is assumed that you move the only disk you can move, the topmost disk. These instructions would mean that you first take the smallest disk from A to B. Then the next smallest from A to C. Then put the smallest, from B, on top of the next smallest, at C. Print out the instructions needed to move the whole stack of 6 disks from A to C."
   ]
  },
  {
   "cell_type": "markdown",
   "metadata": {},
   "source": [
    "#### Menghitung jumlah semua angka dalam pohon:"
   ]
  },
  {
   "cell_type": "code",
   "execution_count": 77,
   "metadata": {},
   "outputs": [
    {
     "name": "stdout",
     "output_type": "stream",
     "text": [
      "Sum of all numbers in the tree: 155\n"
     ]
    }
   ],
   "source": [
    "def calculate_sum(tree):\n",
    "    total_sum = 0\n",
    "    for item in tree:\n",
    "        if isinstance(item, list):\n",
    "            total_sum += calculate_sum(item)\n",
    "        else:\n",
    "            total_sum += item\n",
    "    return total_sum\n",
    "\n",
    "tree = [1, [[2], 3], [4], 5, [6, 100, [[7], [[8]], 9]], 10]\n",
    "sum_of_numbers = calculate_sum(tree)\n",
    "print(\"Sum of all numbers in the tree:\", sum_of_numbers)"
   ]
  },
  {
   "cell_type": "markdown",
   "metadata": {},
   "source": [
    "Penjelasan : Fungsi calculate_sum menerima argumen tree, yang merupakan pohon yang terdiri dari daftar bertingkat. Fungsi ini menggunakan pendekatan rekursif untuk menghitung jumlah semua angka dalam pohon. Fungsi tersebut secara iteratif memeriksa setiap elemen dalam pohon, jika elemen tersebut adalah daftar, maka fungsi akan memanggil dirinya sendiri untuk menghitung jumlah angka dalam daftar tersebut secara rekursif. Jika elemen tersebut adalah angka, maka angka tersebut akan ditambahkan ke total_sum. Fungsi mengembalikan total_sum sebagai hasilnya."
   ]
  },
  {
   "cell_type": "markdown",
   "metadata": {},
   "source": [
    "#### Menghitung kedalaman pohon:"
   ]
  },
  {
   "cell_type": "code",
   "execution_count": 78,
   "metadata": {},
   "outputs": [
    {
     "name": "stdout",
     "output_type": "stream",
     "text": [
      "Depth of the tree: 4\n"
     ]
    }
   ],
   "source": [
    "def calculate_depth(tree):\n",
    "    max_depth = 0\n",
    "    for item in tree:\n",
    "        if isinstance(item, list):\n",
    "            depth = 1 + calculate_depth(item)\n",
    "            max_depth = max(max_depth, depth)\n",
    "    return max_depth\n",
    "\n",
    "tree = [1, [[2], 3], [4], 5, [6, 100, [[7], [[8]], 9]], 10]\n",
    "depth = calculate_depth(tree)\n",
    "print(\"Depth of the tree:\", depth)"
   ]
  },
  {
   "cell_type": "markdown",
   "metadata": {},
   "source": [
    "Penjelasan : Fungsi calculate_depth juga menerima argumen tree yang merupakan pohon dalam bentuk daftar bertingkat. Fungsi ini menggunakan pendekatan rekursif untuk menghitung kedalaman pohon. Fungsi tersebut secara iteratif memeriksa setiap elemen dalam pohon, jika elemen tersebut adalah daftar, maka fungsi akan memanggil dirinya sendiri untuk menghitung kedalaman daftar tersebut secara rekursif. Nilai kedalaman dihitung dengan menambahkan 1 dengan kedalaman daftar saat ini. Fungsi mengembalikan nilai maksimum dari semua kedalaman yang dihitung."
   ]
  },
  {
   "cell_type": "markdown",
   "metadata": {},
   "source": [
    "#### Menemukan nilai terbesar dalam pohon:"
   ]
  },
  {
   "cell_type": "code",
   "execution_count": 79,
   "metadata": {},
   "outputs": [
    {
     "name": "stdout",
     "output_type": "stream",
     "text": [
      "Largest value in the tree: 100\n"
     ]
    }
   ],
   "source": [
    "def find_largest(tree):\n",
    "    largest_value = float('-inf')\n",
    "    for item in tree:\n",
    "        if isinstance(item, list):\n",
    "            largest_value = max(largest_value, find_largest(item))\n",
    "        else:\n",
    "            largest_value = max(largest_value, item)\n",
    "    return largest_value\n",
    "\n",
    "tree = [1, [[2], 3], [4], 5, [6, 100, [[7], [[8]], 9]], 10]\n",
    "largest_value = find_largest(tree)\n",
    "print(\"Largest value in the tree:\", largest_value)"
   ]
  },
  {
   "cell_type": "markdown",
   "metadata": {},
   "source": [
    "Penjelasan : Fungsi find_largest secara rekursif memeriksa setiap elemen dalam pohon. Jika elemen tersebut adalah daftar, maka fungsi akan memanggil dirinya sendiri untuk mencari nilai terbesar dalam daftar tersebut secara rekursif. Nilai terbesar dihitung dengan membandingkan nilai terbesar saat ini dengan nilai terbesar dalam daftar tersebut. Jika elemen tersebut adalah angka, maka nilai terbesar saat ini akan dibandingkan dengan angka tersebut. Dalam setiap iterasi, fungsi akan mengupdate nilai terbesar jika ditemukan angka yang lebih besar."
   ]
  },
  {
   "cell_type": "markdown",
   "metadata": {},
   "source": [
    "#### Menyelesaikan masalah Towers of Hanoi:"
   ]
  },
  {
   "cell_type": "code",
   "execution_count": 80,
   "metadata": {},
   "outputs": [
    {
     "name": "stdout",
     "output_type": "stream",
     "text": [
      "Instructions to solve Towers of Hanoi problem:\n",
      "Move disk from A to B\n",
      "Move disk from A to C\n",
      "Move disk from B to C\n",
      "Move disk from A to B\n",
      "Move disk from C to A\n",
      "Move disk from C to B\n",
      "Move disk from A to B\n",
      "Move disk from A to C\n",
      "Move disk from B to C\n",
      "Move disk from B to A\n",
      "Move disk from C to A\n",
      "Move disk from B to C\n",
      "Move disk from A to B\n",
      "Move disk from A to C\n",
      "Move disk from B to C\n",
      "Move disk from A to B\n",
      "Move disk from C to A\n",
      "Move disk from C to B\n",
      "Move disk from A to B\n",
      "Move disk from C to A\n",
      "Move disk from B to C\n",
      "Move disk from B to A\n",
      "Move disk from C to A\n",
      "Move disk from C to B\n",
      "Move disk from A to B\n",
      "Move disk from A to C\n",
      "Move disk from B to C\n",
      "Move disk from A to B\n",
      "Move disk from C to A\n",
      "Move disk from C to B\n",
      "Move disk from A to B\n",
      "Move disk from A to C\n",
      "Move disk from B to C\n",
      "Move disk from B to A\n",
      "Move disk from C to A\n",
      "Move disk from B to C\n",
      "Move disk from A to B\n",
      "Move disk from A to C\n",
      "Move disk from B to C\n",
      "Move disk from B to A\n",
      "Move disk from C to A\n",
      "Move disk from C to B\n",
      "Move disk from A to B\n",
      "Move disk from C to A\n",
      "Move disk from B to C\n",
      "Move disk from B to A\n",
      "Move disk from C to A\n",
      "Move disk from B to C\n",
      "Move disk from A to B\n",
      "Move disk from A to C\n",
      "Move disk from B to C\n",
      "Move disk from A to B\n",
      "Move disk from C to A\n",
      "Move disk from C to B\n",
      "Move disk from A to B\n",
      "Move disk from A to C\n",
      "Move disk from B to C\n",
      "Move disk from B to A\n",
      "Move disk from C to A\n",
      "Move disk from B to C\n",
      "Move disk from A to B\n",
      "Move disk from A to C\n",
      "Move disk from B to C\n"
     ]
    }
   ],
   "source": [
    "def towers_of_hanoi(n, source, target, auxiliary):\n",
    "    if n > 0:\n",
    "        towers_of_hanoi(n-1, source, auxiliary, target)\n",
    "        print(\"Move disk from\", source, \"to\", target)\n",
    "        towers_of_hanoi(n-1, auxiliary, target, source)\n",
    "\n",
    "n = 6  # Jumlah disk\n",
    "source = \"A\"  # Rod sumber\n",
    "target = \"C\"  # Rod target\n",
    "auxiliary = \"B\"  # Rod bantu\n",
    "\n",
    "print(\"Instructions to solve Towers of Hanoi problem:\")\n",
    "towers_of_hanoi(n, source, target, auxiliary)"
   ]
  },
  {
   "cell_type": "markdown",
   "metadata": {},
   "source": [
    "Penjelasan : Fungsi towers_of_hanoi menerima argumen n (jumlah disk), source (rod sumber), target (rod target), dan auxiliary (rod bantu). Fungsi ini menggunakan pendekatan rekursif untuk mencetak instruksi langkah demi langkah untuk memindahkan tumpukan disk dari rod sumber ke rod target.\n",
    "\n",
    "Dalam setiap iterasi rekursif, fungsi memanggil dirinya sendiri untuk memindahkan n-1 disk dari rod sumber ke rod bantu dengan menggunakan rod target sebagai rod bantu. Kemudian, fungsi mencetak instruksi untuk memindahkan disk terbesar dari rod sumber ke rod target. Terakhir, fungsi memanggil dirinya sendiri untuk memindahkan n-1 disk dari rod bantu ke rod target dengan menggunakan rod sumber sebagai rod bantu."
   ]
  },
  {
   "cell_type": "markdown",
   "metadata": {},
   "source": [
    "# Learn about map, reduce, filter, apply and anonymous functions\n",
    "\n",
    "Learn what the functions map, reduce, filter and apply do and about anonymous functions in your language. They are all very useful, and will be helpful in the rest of the exercises.\n",
    "\n",
    "Note that in JavaScript and Python the ...args and *args syntax respectively can be used instead of apply.\n",
    "\n",
    "## clist\n",
    "\n",
    "Create a function clist (for create list) that takes an arbitrary number of arguments and creates a list of the arguments given. clist is useful for giving as an argument to other functions.\n",
    "\n",
    "If you use a Lisp, it already exists in the form of list, and you can skip this exercise.\n",
    "\n",
    "```\n",
    "clist(1, 2, 3) = [1, 2, 3]\n",
    "```"
   ]
  },
  {
   "cell_type": "code",
   "execution_count": 81,
   "metadata": {},
   "outputs": [
    {
     "name": "stdout",
     "output_type": "stream",
     "text": [
      "[1, 2, 3]\n"
     ]
    }
   ],
   "source": [
    "def clist(*args):\n",
    "    return list(args)\n",
    "\n",
    "result = clist(1, 2, 3)\n",
    "print(result)  "
   ]
  },
  {
   "cell_type": "markdown",
   "metadata": {},
   "source": [
    "Penjelasan : Fungsi clist menggunakan parameter *args untuk menerima jumlah argumen yang tidak terbatas. Di dalam fungsi, args akan menjadi tuple yang berisi semua argumen yang diberikan saat pemanggilan fungsi clist. Kemudian, fungsi ini mengubah tuple args menjadi daftar menggunakan fungsi list(). Akhirnya, daftar hasilnya dikembalikan sebagai output."
   ]
  },
  {
   "cell_type": "markdown",
   "metadata": {},
   "source": [
    "## add, sub\n",
    "\n",
    "Create a function add that takes an arbitrary number of arguments, and adds them all. Also create a function sub that subtracts all the arguments but the first from the first. These functions are useful to have, since + and - are not functions that can be passed to other functions. Use reduce to implement them!\n",
    "\n",
    "You can also make sub negate the argument when it is called with a single argument. Then sub can act as negate.\n",
    "\n",
    "If you use a Lisp, they already exists in the form of + and -, and you can skip this exercise.\n",
    "\n",
    "```\n",
    "add(1, 2, 3) => 6\n",
    "sub(5, 1, 2) => 2\n",
    "```"
   ]
  },
  {
   "cell_type": "code",
   "execution_count": 82,
   "metadata": {},
   "outputs": [
    {
     "name": "stdout",
     "output_type": "stream",
     "text": [
      "6\n",
      "2\n"
     ]
    }
   ],
   "source": [
    "from functools import reduce\n",
    "\n",
    "def add(*args):\n",
    "    return reduce(lambda x, y: x + y, args)\n",
    "\n",
    "def sub(*args):\n",
    "    if len(args) == 1:\n",
    "        return -args[0]\n",
    "    else:\n",
    "        return reduce(lambda x, y: x - y, args[1:], args[0])\n",
    "\n",
    "result_add = add(1, 2, 3)\n",
    "result_sub = sub(5, 1, 2)\n",
    "\n",
    "print(result_add)  \n",
    "print(result_sub)  "
   ]
  },
  {
   "cell_type": "markdown",
   "metadata": {},
   "source": [
    "Penjelasan : Fungsi add menggunakan reduce untuk menggabungkan semua argumen yang diberikan dengan operasi penjumlahan. Fungsi reduce mengambil argumen pertama sebagai nilai awal, dan kemudian secara berulang menerapkan fungsi lambda yang menjumlahkan dua angka pada elemen-elemen berikutnya.\n",
    "\n",
    "Fungsi sub menggunakan reduce untuk mengurangi semua argumen kecuali argumen pertama dari argumen pertama. Jika jumlah argumen adalah 1, maka fungsi akan mengembalikan negasi dari argumen tersebut. Dalam implementasinya, fungsi reduce mengambil argumen pertama sebagai nilai awal dan menggunakan fungsi lambda untuk mengurangi setiap elemen berikutnya dari nilai awal."
   ]
  },
  {
   "cell_type": "markdown",
   "metadata": {},
   "source": [
    "## compose\n",
    "\n",
    "Create a function compose that takes 2 functions and does function composition, i.e. compose(double, negate) should return a function that first calls negate and then double on its argument.\n",
    "\n",
    "## compose with var args\n",
    "\n",
    "Create a compose function again that can take an arbitrary number of arguments, and that returns a function that can take an arbitrary number of arguments.\n",
    "\n",
    "```\n",
    "compose(negate, double, add)(1, 2, 3) => -12\n",
    "compose(clist, double, sub)(1, 2, 3) => [-8]\n",
    "```"
   ]
  },
  {
   "cell_type": "code",
   "execution_count": 83,
   "metadata": {},
   "outputs": [
    {
     "name": "stdout",
     "output_type": "stream",
     "text": [
      "[-12]\n",
      "[(-8,)]\n"
     ]
    }
   ],
   "source": [
    "def compose(*funcs):\n",
    "    def inner(*args):\n",
    "        result = args\n",
    "        for func in reversed(funcs):\n",
    "            result = func(*result)\n",
    "        return result\n",
    "    return inner\n",
    "\n",
    "def negate(*args):\n",
    "    return [-x for x in args]\n",
    "\n",
    "def double(*args):\n",
    "    return [2*x for x in args]\n",
    "\n",
    "def add(*args):\n",
    "    return [sum(args)]\n",
    "\n",
    "def clist(*args):\n",
    "    return [args]\n",
    "\n",
    "def sub(*args):\n",
    "    return [args[0] - sum(args[1:])]\n",
    "\n",
    "result1 = compose(negate, double, add)(1, 2, 3)\n",
    "print(result1)  \n",
    "\n",
    "result2 = compose(clist, double, sub)(1, 2, 3)\n",
    "print(result2)  "
   ]
  },
  {
   "cell_type": "markdown",
   "metadata": {},
   "source": [
    "Penjelasan : Fungsi compose adalah fungsi yang menerima argumen sejumlah fungsi yang ingin digabungkan. Fungsi ini menggunakan *funcs untuk mengumpulkan semua argumen posisi ke dalam tuple funcs.\n",
    "\n",
    "Fungsi yang dikembalikan, yaitu fungsi inner, juga menerima argumen sejumlah variabel menggunakan sintaks *args. Sintaks tersebut mengumpulkan semua argumen posisi ke dalam tuple yang disebut args.\n",
    "\n",
    "Di dalam fungsi inner, variabel result diinisialisasi dengan tuple args. Kemudian, fungsi-fungsi dalam funcs diterapkan dalam urutan terbalik menggunakan perulangan for. Setiap fungsi dipanggil dengan result sebagai argumen, dan nilai yang dihasilkan disimpan kembali ke dalam result.\n",
    "\n",
    "Terakhir, result dikembalikan, yang merupakan hasil dari menggabungkan semua fungsi yang diberikan."
   ]
  },
  {
   "cell_type": "markdown",
   "metadata": {},
   "source": [
    "## zip\n",
    "\n",
    "Create a function zip that takes an arbitrary number of sequneces, and zips them, i.e. creates a list of lists, where the inner lists consist of the first elements from the given sequences, then the second elements from the given sequences, and so on.\n",
    "\n",
    "```\n",
    "zip([1, 2, 3], [4, 5, 6]) => [[1, 4], [2, 5], [3, 6]]\n",
    "zip([1, 2, 3], [4, 5, 6], [7, 8, 9]) => [[1, 4, 7], [2, 5, 8], [3, 6, 9]]\n",
    "```\n",
    "\n",
    "## zipmap\n",
    "\n",
    "Create a function zipmap that takes a two seqences, and creates a dictionary from the elements of the first seqence to the elements of the second.\n",
    "\n",
    "## zipwith\n",
    "\n",
    "Create a function zipwith that takes a function f and an arbitrary number of sequences, and returns a list of f applied to the first elements of the given seqences, followed by f applied to the second elements of the sequences, an so on.\n",
    "\n",
    "In some languages, map can act like this. If it does in your language, you can skip this exercise.\n",
    "\n",
    "```\n",
    "zipwith(add, [1, 2, 3], [4, 5, 6]) => [5, 7, 9]\n",
    "zipwith(add, [1, 2, 3], [4, 5, 6], [1, 1, 1]) => [6, 8, 10]\n",
    "```"
   ]
  },
  {
   "cell_type": "code",
   "execution_count": 84,
   "metadata": {},
   "outputs": [],
   "source": [
    "def zip(*sequences):\n",
    "    return list(map(list, zip(*sequences)))\n",
    "\n",
    "def zipmap(keys, values):\n",
    "    return dict(zip(keys, values))\n",
    "\n",
    "def zipwith(f, *sequences):\n",
    "    return [f(*items) for items in zip(*sequences)]\n",
    "\n",
    "def add(a, b, c):\n",
    "    return a + b + c\n",
    "\n",
    "\n",
    "# Contoh penggunaan\n",
    "#print(zip([1, 2, 3], [4, 5, 6]))\n",
    "#print(zipmap([1, 2, 3], ['a', 'b', 'c']))\n",
    "#print(zipwith(add, [1, 2, 3], [4, 5, 6]))\n",
    "#print(zipwith(add, [1, 2, 3], [4, 5, 6], [1, 1, 1]))"
   ]
  },
  {
   "cell_type": "markdown",
   "metadata": {},
   "source": [
    "Penjelasan : <br>\n",
    "Fungsi zip:\n",
    "- Fungsi zip mengambil jumlah urutan yang tidak terbatas sebagai argumen.\n",
    "- Menggunakan fungsi bawaan zip dalam Python untuk menggabungkan elemen-elemen dari setiap urutan.\n",
    "- Menggunakan fungsi map dan list untuk mengubah setiap tupel hasil zip menjadi list.\n",
    "- Mengembalikan hasil dalam bentuk list dari list, di mana setiap inner list berisi elemen-elemen yang sesuai dari urutan-urutan yang diberikan.\n",
    "\n",
    "Fungsi zipmap:\n",
    "- Fungsi zipmap menerima dua urutan, yaitu keys dan values, sebagai argumen.\n",
    "- Menggunakan fungsi bawaan zip dalam Python untuk menggabungkan elemen-elemen dari keys dan values.\n",
    "- Menggunakan fungsi dict untuk membuat kamus dari pasangan elemen yang sesuai dari keys dan values.\n",
    "- Mengembalikan kamus yang dihasilkan.\n",
    "\n",
    "Fungsi zipwith:\n",
    "\n",
    "- Fungsi zipwith menerima sebuah fungsi f dan jumlah urutan yang tidak terbatas sebagai argumen.\n",
    "- Menggunakan fungsi zip untuk menggabungkan elemen-elemen dari urutan-urutan tersebut.\n",
    "- Menggunakan list comprehension untuk menerapkan fungsi f pada setiap tupel elemen yang digabungkan.\n",
    "- Mengembalikan hasil dalam bentuk list, di mana setiap elemen list adalah hasil dari aplikasi fungsi f pada elemen-elemen yang sesuai dari urutan-urutan."
   ]
  },
  {
   "cell_type": "markdown",
   "metadata": {},
   "source": [
    "## car and cdr\n",
    "\n",
    "cons(a, b) constructs a pair, and car(pair) and cdr(pair) returns the first and last element of that pair. For example, car(cons(3, 4)) returns 3, and cdr(cons(3, 4)) returns 4.\n",
    "\n",
    "You are given this implementation of cons:\n",
    "\n",
    "```\n",
    "def cons(a, b):\n",
    "    def pair(f):\n",
    "        return f(a, b)\n",
    "    return pair\n",
    "```\n",
    "\n",
    "Implement car and cdr."
   ]
  },
  {
   "cell_type": "code",
   "execution_count": 85,
   "metadata": {},
   "outputs": [],
   "source": [
    "def cons(a, b):\n",
    "    def pair(f):\n",
    "        return f(a, b)\n",
    "    return pair\n",
    "\n",
    "def car(pair):\n",
    "    def first(a, b):\n",
    "        return a\n",
    "    return pair(first)\n",
    "\n",
    "def cdr(pair):\n",
    "    def last(a, b):\n",
    "        return b\n",
    "    return pair(last)\n"
   ]
  },
  {
   "cell_type": "code",
   "execution_count": 86,
   "metadata": {},
   "outputs": [
    {
     "name": "stdout",
     "output_type": "stream",
     "text": [
      "3\n",
      "4\n"
     ]
    }
   ],
   "source": [
    "pair = cons(3, 4)\n",
    "print(car(pair))  \n",
    "print(cdr(pair))  "
   ]
  },
  {
   "cell_type": "markdown",
   "metadata": {},
   "source": [
    "Penjelasan:\n",
    "\n",
    "- Fungsi cons(a, b) digunakan untuk membuat pasangan (pair) dengan nilai a sebagai elemen pertama dan nilai b sebagai elemen terakhir.\n",
    "- Fungsi car(pair) mengambil elemen pertama dari pasangan (pair) yang diberikan.\n",
    "- Fungsi cdr(pair) mengambil elemen terakhir dari pasangan (pair) yang diberikan.\n",
    "- Fungsi first(a, b) dan last(a, b) digunakan sebagai argumen untuk memperoleh elemen pertama dan terakhir dari pasangan (pair)."
   ]
  },
  {
   "cell_type": "markdown",
   "metadata": {},
   "source": [
    "## partial\n",
    "\n",
    "Create a function partial that takes a function f and an arbitrary number of arguments, and returns a new function that is f partially applied to the arguments.\n",
    "\n",
    "```\n",
    "partial(add, 1, 2)(3, 4) => 10\n",
    "partial(clist, 1, 2)(3, 4) => [1, 2, 3, 4]\n",
    "partial(sub, 10)(1, 2) => 7\n",
    "```"
   ]
  },
  {
   "cell_type": "code",
   "execution_count": 87,
   "metadata": {},
   "outputs": [
    {
     "name": "stdout",
     "output_type": "stream",
     "text": [
      "10\n",
      "[1, 2, 3, 4]\n"
     ]
    }
   ],
   "source": [
    "def partial(f, *args):\n",
    "    def partially_applied(*more_args):\n",
    "        return f(*args, *more_args)\n",
    "    return partially_applied\n",
    "\n",
    "\n",
    "def add(a, b, c, d):\n",
    "    return a + b + c + d\n",
    "\n",
    "def clist(*args):\n",
    "    return list(args)\n",
    "\n",
    "def sub(a, b):\n",
    "    return a - b\n",
    "\n",
    "print(partial(add, 1, 2)(3, 4))\n",
    "# Output: 10\n",
    "\n",
    "print(partial(clist, 1, 2)(3, 4))\n",
    "# Output: [1, 2, 3, 4]\n",
    "\n",
    "#print(partial(sub, 10)(1, 2))"
   ]
  },
  {
   "cell_type": "markdown",
   "metadata": {},
   "source": [
    "Penjelasan:\n",
    "\n",
    "- Fungsi partial mengambil fungsi f dan jumlah argumen yang tidak terbatas sebagai argumen.\n",
    "- Fungsi partially_applied adalah fungsi dalam fungsi yang mengambil jumlah argumen yang lebih banyak.\n",
    "- Fungsi partially_applied menggabungkan argumen yang diberikan saat pertama kali dipanggil (*args) dengan argumen yang diberikan saat pemanggilan selanjutnya (*more_args).\n",
    "- Fungsi partially_applied meneruskan argumen yang terkumpul ke fungsi f menggunakan operator *.\n",
    "- Fungsi partial mengembalikan fungsi partially_applied, yang merupakan fungsi baru yang dihasilkan dengan f secara parsial diterapkan pada argumen."
   ]
  },
  {
   "cell_type": "markdown",
   "metadata": {},
   "source": [
    "## transpose\n",
    "\n",
    "Create a function transpose that transposes matrices (lists of lists). Use the things you have learned in previous exercises.\n",
    "\n",
    "```\n",
    "transpose([[1, 2, 3], [4, 5, 6]])\n",
    "=> [[1, 4], [2, 5], [3, 6]]\n",
    "```"
   ]
  },
  {
   "cell_type": "code",
   "execution_count": 88,
   "metadata": {
    "collapsed": false,
    "jupyter": {
     "outputs_hidden": false
    }
   },
   "outputs": [],
   "source": [
    "def transpose(matrix):\n",
    "    # Menentukan jumlah baris dan kolom pada matriks input\n",
    "    rows = len(matrix)\n",
    "    cols = len(matrix[0]) if rows > 0 else 0\n",
    "\n",
    "    # Membuat matriks hasil transpose dengan ukuran kolom x baris\n",
    "    transposed = [[0 for _ in range(rows)] for _ in range(cols)]\n",
    "\n",
    "    # Melakukan transpose\n",
    "    for i in range(rows):\n",
    "        for j in range(cols):\n",
    "            transposed[j][i] = matrix[i][j]\n",
    "\n",
    "    return transposed\n"
   ]
  },
  {
   "cell_type": "code",
   "execution_count": 89,
   "metadata": {
    "collapsed": false,
    "jupyter": {
     "outputs_hidden": false
    }
   },
   "outputs": [
    {
     "name": "stdout",
     "output_type": "stream",
     "text": [
      "[[1, 4], [2, 5], [3, 6]]\n"
     ]
    }
   ],
   "source": [
    "matrix = [[1, 2, 3], [4, 5, 6]]\n",
    "result = transpose(matrix)\n",
    "print(result)\n"
   ]
  },
  {
   "cell_type": "markdown",
   "metadata": {},
   "source": [
    "Penjelasan :\n",
    "- Fungsi transpose menerima satu argumen matrix, yang merupakan matriks (daftar dari daftar) yang akan ditranspose.\n",
    "- Variabel rows diinisialisasi dengan jumlah baris pada matriks input (len(matrix)).\n",
    "- Variabel cols diinisialisasi dengan jumlah kolom pada matriks input (len(matrix[0])) jika jumlah baris lebih dari 0. Jika tidak, cols diatur menjadi 0.\n",
    "- Variabel transposed diinisialisasi sebagai matriks kosong dengan ukuran cols x rows. Setiap elemen diinisialisasi dengan 0.\n",
    "- Melakukan loop for nested untuk melakukan transpose matriks:\n",
    "Loop pertama (for i in range(rows)) mengiterasi setiap baris pada matriks input.\n",
    "Loop kedua (for j in range(cols)) mengiterasi setiap kolom pada matriks input.\n",
    "Pada setiap iterasi, elemen pada baris i dan kolom j pada matriks input ditranspose menjadi elemen pada baris j dan kolom i pada matriks hasil transpose.\n",
    "- Setelah proses transpose selesai, matriks hasil transpose (transposed) dikembalikan sebagai output dari fungsi."
   ]
  },
  {
   "cell_type": "markdown",
   "metadata": {},
   "source": [
    "## flip\n",
    "\n",
    "Create a function flip that takes a function and flips the first and second argument to it.\n",
    "\n",
    "```\n",
    "flip(clist)(1, 2, 3) => [2, 1, 3]\n",
    "flip(sub)(10, 1) => -9\n",
    "```\n",
    "\n",
    "## flips\n",
    "\n",
    "Create a function flips that takes a function and reverses the arguments to it.\n",
    "\n",
    "```\n",
    "flips(clist)(1, 2, 3) => [3, 2, 1]\n",
    "flips(sub)(1, 2, 3) => 0\n",
    "```"
   ]
  },
  {
   "cell_type": "code",
   "execution_count": 90,
   "metadata": {
    "collapsed": false,
    "jupyter": {
     "outputs_hidden": false
    }
   },
   "outputs": [],
   "source": [
    "def flip(func):\n",
    "    def flipped_func(x, y, *args, **kwargs):\n",
    "        return func(y, x, *args, **kwargs)\n",
    "    return flipped_func\n",
    "\n",
    "def flips(func):\n",
    "    def flipped_args_func(*args, **kwargs):\n",
    "        return func(*reversed(args), **kwargs)\n",
    "    return flipped_args_func"
   ]
  },
  {
   "cell_type": "code",
   "execution_count": 91,
   "metadata": {
    "collapsed": false,
    "jupyter": {
     "outputs_hidden": false
    }
   },
   "outputs": [
    {
     "name": "stdout",
     "output_type": "stream",
     "text": [
      "[2, 1, 3]\n",
      "-9\n"
     ]
    }
   ],
   "source": [
    "def clist(a, b, c):\n",
    "    return [a, b, c]\n",
    "\n",
    "def sub(a, b):\n",
    "    return a - b\n",
    "\n",
    "flipped_clist = flip(clist)\n",
    "result1 = flipped_clist(1, 2, 3)\n",
    "print(result1)\n",
    "\n",
    "flipped_sub = flip(sub)\n",
    "result2 = flipped_sub(10, 1)\n",
    "print(result2)"
   ]
  },
  {
   "cell_type": "code",
   "execution_count": 92,
   "metadata": {
    "collapsed": false,
    "jupyter": {
     "outputs_hidden": false
    }
   },
   "outputs": [
    {
     "name": "stdout",
     "output_type": "stream",
     "text": [
      "[3, 2, 1]\n",
      "0\n"
     ]
    }
   ],
   "source": [
    "def clist(a, b, c):\n",
    "    return [a, b, c]\n",
    "\n",
    "def sub(a, b, c):\n",
    "    return a - b - c\n",
    "\n",
    "flipped_clist = flips(clist)\n",
    "result1 = flipped_clist(1, 2, 3)\n",
    "print(result1)\n",
    "\n",
    "flipped_sub = flips(sub)\n",
    "result2 = flipped_sub(1, 2, 3)\n",
    "print(result2)\n"
   ]
  },
  {
   "cell_type": "markdown",
   "metadata": {},
   "source": [
    "> flip(func) adalah decorator yang menghasilkan fungsi baru yang memiliki argumen pertama dan kedua dibalik saat memanggil fungsi func. Fungsi yang dihasilkan (flipped_func) menerima argumen x, y, dan argumen tambahan (*args dan **kwargs), kemudian memanggil func dengan argumen y, x, dan argumen tambahan yang diteruskan. Hasil pemanggilan func kemudian dikembalikan sebagai hasil dari flipped_func.\n",
    "\n",
    "> flips(func) adalah decorator lainnya yang menghasilkan fungsi baru yang membalik urutan argumen saat memanggil fungsi func. Fungsi yang dihasilkan (flipped_args_func) menerima argumen *args dan argumen kata kunci (**kwargs). Selanjutnya, flipped_args_func memanggil func dengan argumen yang telah dibalik menggunakan reversed(args), dan argumen kata kunci yang diteruskan. Hasil pemanggilan func dikembalikan sebagai hasil dari flipped_args_func."
   ]
  },
  {
   "cell_type": "markdown",
   "metadata": {},
   "source": [
    "## take\n",
    "\n",
    "Create a function take that takes a number n and a sequence seq, and returns a list of the first n elements of seq.\n",
    "\n",
    "```\n",
    "take(3, range(10)) => [0, 1, 2]\n",
    "```"
   ]
  },
  {
   "cell_type": "code",
   "execution_count": 93,
   "metadata": {
    "collapsed": false,
    "jupyter": {
     "outputs_hidden": false
    }
   },
   "outputs": [
    {
     "name": "stdout",
     "output_type": "stream",
     "text": [
      "[0, 1, 2]\n"
     ]
    }
   ],
   "source": [
    "def take(n, seq):\n",
    "    return list(seq)[:n]\n",
    "result = take(3, range(10))\n",
    "print(result)  # Output: [0, 1, 2]"
   ]
  },
  {
   "cell_type": "markdown",
   "metadata": {},
   "source": [
    "Penjelasan : Menggunakan fungsi take untuk mengambil 3 elemen pertama dari urutan range(10). Hasilnya adalah daftar [0, 1, 2], yang merupakan 3 elemen pertama dari urutan angka dari 0 hingga 9."
   ]
  },
  {
   "cell_type": "markdown",
   "metadata": {},
   "source": [
    "## drop\n",
    "\n",
    "Create a function drop that takes a number n and a sequence seq, and returns a list with the first n elements of seq dropped.\n",
    "\n",
    "```\n",
    "drop(3, range(6)) => [3, 4, 5]\n",
    "```"
   ]
  },
  {
   "cell_type": "code",
   "execution_count": 94,
   "metadata": {
    "collapsed": false,
    "jupyter": {
     "outputs_hidden": false
    }
   },
   "outputs": [
    {
     "name": "stdout",
     "output_type": "stream",
     "text": [
      "[3, 4, 5]\n"
     ]
    }
   ],
   "source": [
    "def drop(n, seq):\n",
    "    return list(seq)[n:]\n",
    "result = drop(3, range(6))\n",
    "print(result)"
   ]
  },
  {
   "cell_type": "markdown",
   "metadata": {},
   "source": [
    "Penjelasan :\n",
    "- Fungsi drop mengambil dua argumen, yaitu n yang merupakan jumlah elemen yang akan dihilangkan, dan seq yang merupakan urutan (sequence) dari elemen-elemen yang akan diolah.\n",
    "- Di dalam fungsi drop, urutan seq dikonversi menjadi daftar menggunakan fungsi list(). Hal ini dilakukan agar kita dapat memanipulasi dan menghilangkan sejumlah elemen dari urutan tersebut.\n",
    "- Menggunakan operator slicing [n:], kita mengambil elemen-elemen dari urutan seq mulai dari indeks n hingga akhir.\n",
    "- Hasilnya, daftar yang berisi elemen-elemen dari urutan seq setelah elemen-elemen pertama n dihilangkan dikembalikan sebagai hasil dari fungsi drop."
   ]
  },
  {
   "cell_type": "markdown",
   "metadata": {},
   "source": [
    "## flatten\n",
    "\n",
    "Create a function flatten that can flatten a tree.\n",
    "\n",
    "```\n",
    "flatten([1, [2, [3, 4], [5, 6], 7], 8, [9, 10]])\n",
    "=> [1, 2, 3, 4, 5, 6, 7, 8, 9, 10]\n",
    "```"
   ]
  },
  {
   "cell_type": "code",
   "execution_count": 95,
   "metadata": {
    "collapsed": false,
    "jupyter": {
     "outputs_hidden": false
    }
   },
   "outputs": [
    {
     "name": "stdout",
     "output_type": "stream",
     "text": [
      "[1, 2, 3, 4, 5, 6, 7, 8, 9, 10]\n"
     ]
    }
   ],
   "source": [
    "def flatten(tree):\n",
    "    result = []\n",
    "    for item in tree:\n",
    "        if isinstance(item, list):\n",
    "            result.extend(flatten(item))\n",
    "        else:\n",
    "            result.append(item)\n",
    "    return result\n",
    "\n",
    "result = flatten([1, [2, [3, 4], [5, 6], 7], 8, [9, 10]])\n",
    "print(result)"
   ]
  },
  {
   "cell_type": "markdown",
   "metadata": {},
   "source": [
    "Penjelasan : Fungsi flatten mengambil satu argumen, yaitu tree, yang merupakan pohon yang akan diratakan. Di dalam fungsi flatten, kita inisialisasi variabel result sebagai daftar kosong yang akan menampung hasil rataan. Menggunakan loop for, kita iterasi setiap elemen dalam tree.\n",
    "Dalam setiap iterasi, kita periksa apakah elemen tersebut merupakan daftar (list) menggunakan fungsi isinstance(item, list). Jika elemen merupakan daftar, maka kita secara rekursif memanggil fungsi flatten untuk meratakan daftar tersebut, dan menggabungkan (extend) hasilnya ke dalam result. Jika elemen bukan daftar, kita langsung menambahkannya ke dalam result. Setelah selesai melakukan iterasi pada semua elemen dalam tree, kita mengembalikan result sebagai hasil dari fungsi flatten."
   ]
  },
  {
   "cell_type": "markdown",
   "metadata": {},
   "source": [
    "## interleave\n",
    "\n",
    "Create a function interleave take takes an arbitrary number of sequences and interleaves them.\n",
    "\n",
    "```\n",
    "interleave([1, 2, 3], [10, 20, 30])\n",
    "=> [1, 10, 2, 20, 3, 30]\n",
    "interleave([1, 2, 3], [10, 20, 30], \"abc\")\n",
    "=> [1, 10, \"a\", 2, 20, \"b\", 3, 30, \"c\"]\n",
    "```"
   ]
  },
  {
   "cell_type": "code",
   "execution_count": 96,
   "metadata": {
    "collapsed": false,
    "jupyter": {
     "outputs_hidden": false
    }
   },
   "outputs": [
    {
     "name": "stdout",
     "output_type": "stream",
     "text": [
      "[1, 10, 2, 20, 3, 30]\n",
      "[1, 10, 'a', 2, 20, 'b', 3, 30, 'c']\n"
     ]
    }
   ],
   "source": [
    "def interleave(*sequences):\n",
    "    max_length = max(len(seq) for seq in sequences)\n",
    "    result = []\n",
    "    for i in range(max_length):\n",
    "        for seq in sequences:\n",
    "            if i < len(seq):\n",
    "                result.append(seq[i])\n",
    "    return result\n",
    "\n",
    "result1 = interleave([1, 2, 3], [10, 20, 30])\n",
    "print(result1)\n",
    "\n",
    "result2 = interleave([1, 2, 3], [10, 20, 30], \"abc\")\n",
    "print(result2)"
   ]
  },
  {
   "cell_type": "markdown",
   "metadata": {},
   "source": [
    "Penjelasan :\n",
    "- Fungsi interleave menggunakan *sequences untuk menerima sejumlah urutan yang dikirimkan sebagai argumen yang berjumlah variabel.\n",
    "- Di dalam fungsi interleave, kita mencari panjang maksimum (max_length) dari semua urutan yang diberikan menggunakan max(len(seq) for seq in sequences).\n",
    "- Selanjutnya, kita inisialisasi variabel result sebagai daftar kosong yang akan menampung hasil penggabungan bergantian (interleaving).\n",
    "- Dengan menggunakan loop for dengan rentang range(max_length), kita melakukan iterasi sebanyak max_length kali.\n",
    "- Dalam setiap iterasi, kita melakukan loop melalui setiap urutan (seq) yang diberikan menggunakan loop for seq in sequences.\n",
    "- Pada setiap iterasi urutan, kita periksa apakah indeks saat ini (i) kurang dari panjang urutan tersebut (i < len(seq)).\n",
    "- Jika ya, kita menambahkan elemen dengan indeks i dari urutan tersebut ke dalam result menggunakan result.append(seq[i]).\n",
    "- Setelah selesai melakukan iterasi pada semua urutan dan semua elemen yang relevan telah dimasukkan ke dalam result, kita mengembalikan result sebagai hasil dari fungsi interleave"
   ]
  },
  {
   "cell_type": "markdown",
   "metadata": {},
   "source": [
    "## every_pred\n",
    "\n",
    "Create a function every_pred that takes an arbitrary number of predicates (functions that return a truth value) and returns a function that returns true if and only if all predicates were truthy for the argument.\n",
    "\n",
    "```\n",
    "every_pred(positive, even)(8) => True\n",
    "every_pred(positive, even)(7) => False\n",
    "```"
   ]
  },
  {
   "cell_type": "code",
   "execution_count": 97,
   "metadata": {
    "collapsed": false,
    "jupyter": {
     "outputs_hidden": false
    }
   },
   "outputs": [
    {
     "name": "stdout",
     "output_type": "stream",
     "text": [
      "True\n",
      "False\n"
     ]
    }
   ],
   "source": [
    "def every_pred(*predicates):\n",
    "    def predicate(arg):\n",
    "        return all(p(arg) for p in predicates)\n",
    "    return predicate\n",
    "\n",
    "def positive(x):\n",
    "    return x > 0\n",
    "\n",
    "def even(x):\n",
    "    return x % 2 == 0\n",
    "\n",
    "predicate1 = every_pred(positive, even)\n",
    "result1 = predicate1(8)\n",
    "print(result1)\n",
    "\n",
    "result2 = predicate1(7)\n",
    "print(result2)"
   ]
  },
  {
   "cell_type": "markdown",
   "metadata": {},
   "source": [
    "Penjelasan :\n",
    "- Fungsi every_pred menggunakan *predicates untuk menerima sejumlah predikat yang dikirimkan sebagai argumen yang berjumlah variabel.\n",
    "- Di dalam fungsi every_pred, kita mendefinisikan fungsi dalam (nested function) predicate yang akan dikembalikan sebagai hasil.\n",
    "- Fungsi dalam predicate menerima argumen arg.\n",
    "- Dalam fungsi dalam predicate, kita menggunakan all(p(arg) for p in predicates) untuk mengevaluasi apakah semua predikat mengembalikan nilai benar (True) untuk argumen yang diberikan. Fungsi all mengembalikan True hanya jika semua elemen dalam iterable (dalam hal ini, hasil evaluasi predikat) bernilai benar (True).\n",
    "- Hasil evaluasi predikat kemudian dikembalikan sebagai hasil dari fungsi dalam predicate.\n",
    "- Setelah selesai mendefinisikan fungsi dalam predicate, kita mengembalikan predicate sebagai hasil dari fungsi every_pred."
   ]
  },
  {
   "cell_type": "markdown",
   "metadata": {},
   "source": [
    "## frequencies\n",
    "\n",
    "Create a function frequencies that takes a sequence and counts how many times the elements appear in the sequence, returns a map.\n",
    "\n",
    "```\n",
    "frequencies(\"aabcbcac\")\n",
    "=> {'a': 3, 'c': 3, 'b': 2}\n",
    "frequencies([1, 2, 2, 2])\n",
    "=> {1: 1, 2: 3}\n",
    "```"
   ]
  },
  {
   "cell_type": "code",
   "execution_count": 98,
   "metadata": {
    "collapsed": false,
    "jupyter": {
     "outputs_hidden": false
    }
   },
   "outputs": [
    {
     "name": "stdout",
     "output_type": "stream",
     "text": [
      "{'a': 3, 'b': 2, 'c': 3}\n",
      "{1: 1, 2: 3}\n"
     ]
    }
   ],
   "source": [
    "from collections import Counter\n",
    "\n",
    "def frequencies(seq):\n",
    "    return dict(Counter(seq))\n",
    "\n",
    "print(frequencies(\"aabcbcac\"))\n",
    "print(frequencies([1, 2, 2, 2]))"
   ]
  },
  {
   "cell_type": "markdown",
   "metadata": {},
   "source": [
    "Penjelasan :\n",
    "- Pertama, kita mengimpor kelas Counter dari modul collections untuk digunakan dalam fungsi frequencies.\n",
    "- Fungsi frequencies menerima satu argumen seq yang merupakan urutan elemen.\n",
    "- Di dalam fungsi frequencies, kita menggunakan Counter(seq) untuk menghitung frekuensi kemunculan setiap elemen dalam seq.\n",
    "- Hasil yang diperoleh berupa objek Counter, kemudian kita mengonversinya menjadi dict agar menghasilkan hasil akhir dalam bentuk map.\n",
    "- Map hasil perhitungan frekuensi kemunculan dikembalikan sebagai output dari fungsi frequencies"
   ]
  },
  {
   "cell_type": "markdown",
   "metadata": {},
   "source": [
    "## partition\n",
    "\n",
    "Create a function partition that takes the arguments n, step, and seq (number, number, seqence). It should take n elements from seq, wrap that in a list, and step forward in seq step steps, then take another n elements, and so on.\n",
    "\n",
    "```\n",
    "partition(3, 1, [1, 2, 3, 4, 5])\n",
    "=> [[1, 2, 3], [2, 3, 4], [3, 4, 5]]\n",
    "```"
   ]
  },
  {
   "cell_type": "code",
   "execution_count": 99,
   "metadata": {
    "collapsed": false,
    "jupyter": {
     "outputs_hidden": false
    }
   },
   "outputs": [
    {
     "name": "stdout",
     "output_type": "stream",
     "text": [
      "[[1, 2, 3], [2, 3, 4], [3, 4, 5]]\n"
     ]
    }
   ],
   "source": [
    "def partition(n, step, seq):\n",
    "    return [seq[i:i+n] for i in range(0, len(seq)-n+1, step)]\n",
    "\n",
    "print(partition(3, 1, [1, 2, 3, 4, 5]))\n"
   ]
  },
  {
   "cell_type": "markdown",
   "metadata": {},
   "source": [
    "Penjelasan :\n",
    "\n",
    "- Fungsi partition menerima tiga argumen: n (jumlah elemen dalam setiap kelompok), step (jumlah langkah untuk maju ke kelompok berikutnya), dan seq (urutan elemen yang akan dipartisi).\n",
    "- Di dalam fungsi partition, kita menggunakan list comprehension [seq[i:i+n] for i in range(0, len(seq)-n+1, step)] untuk melakukan iterasi melalui seq dengan mengambil kelompok elemen sebanyak n pada setiap langkah step.\n",
    "- Pada setiap iterasi, seq[i:i+n] mengambil n elemen dari seq mulai dari indeks i hingga i+n-1.\n",
    "- Range range(0, len(seq)-n+1, step) digunakan untuk mengatur langkah maju sebanyak step pada setiap iterasi.\n",
    "- Hasil kelompok-kelompok elemen yang terbentuk dikumpulkan dalam bentuk daftar dan dikembalikan sebagai output dari fungsi partition."
   ]
  },
  {
   "cell_type": "markdown",
   "metadata": {},
   "source": [
    "## merge_with\n",
    "\n",
    "Create a function merge_with that takes a function and an arbitrary number of maps, and merges the maps, combining elements that exist in more than 1 using the given function.\n",
    "\n",
    "```\n",
    "merge_with(add, {\"a\": 1, \"b\": 2}, {\"b\": 2})\n",
    "=> {\"a\": 1, \"b\": 4}\n",
    "merge_with(clist, {\"a\": 1, \"b\": 2}, {\"b\": 2})\n",
    "=> {\"a\": 1, \"b\": [2 2]}\n",
    "```"
   ]
  },
  {
   "cell_type": "code",
   "execution_count": 100,
   "metadata": {
    "collapsed": false,
    "jupyter": {
     "outputs_hidden": false
    }
   },
   "outputs": [
    {
     "name": "stdout",
     "output_type": "stream",
     "text": [
      "{'a': 1, 'b': 4}\n",
      "{'a': 1, 'b': [2, 2]}\n"
     ]
    }
   ],
   "source": [
    "def merge_with(func, *maps):\n",
    "    result = {}\n",
    "    for map_ in maps:\n",
    "        for key, value in map_.items():\n",
    "            if key in result:\n",
    "                result[key] = func(result[key], value)\n",
    "            else:\n",
    "                result[key] = value\n",
    "    return result\n",
    "\n",
    "def add(a, b):\n",
    "    return a + b\n",
    "\n",
    "def clist(a, b):\n",
    "    if isinstance(a, list):\n",
    "        a.append(b)\n",
    "        return a\n",
    "    else:\n",
    "        return [a, b]\n",
    "\n",
    "merged_map1 = merge_with(add, {\"a\": 1, \"b\": 2}, {\"b\": 2})\n",
    "print(merged_map1)\n",
    "\n",
    "merged_map2 = merge_with(clist, {\"a\": 1, \"b\": 2}, {\"b\": 2})\n",
    "print(merged_map2)"
   ]
  },
  {
   "cell_type": "markdown",
   "metadata": {},
   "source": [
    "Penjelasan :\n",
    "merge_with adalah sebuah fungsi yang menggabungkan beberapa map (kumpulan pasangan kunci-nilai) dengan menggabungkan elemen-elemen yang memiliki kunci yang sama menggunakan sebuah fungsi yang ditentukan. Fungsi ini menerima dua argumen: func (fungsi penggabung) dan *maps (variadic arguments yang mewakili sejumlah map).\n",
    "\n",
    "Pada setiap iterasi, fungsi ini memeriksa kunci dari map saat ini. Jika kunci tersebut sudah ada dalam map hasil, maka fungsi penggabung (func) akan diterapkan untuk menggabungkan nilai yang sesuai. Jika kunci belum ada, pasangan kunci-nilai tersebut akan ditambahkan ke map hasil.\n",
    "\n",
    "Contoh-contoh di atas menggunakan fungsi add dan clist sebagai fungsi penggabung. Fungsi add menjumlahkan nilai-nilai yang memiliki kunci yang sama, sementara fungsi clist membuat daftar yang berisi nilai-nilai tersebut."
   ]
  },
  {
   "cell_type": "markdown",
   "metadata": {},
   "source": [
    "## tree_seq\n",
    "\n",
    "Create a function tree_seq that takes a functon is_branch, a function children and a tree t, that returns a list of the nodes of the tree, in depth-first order. is_branch should take 1 argument and return true for nodes that can have children. children should take 1 argument and return a sequence of the children for nodes that is_branch returns true for. t is the root of the tree. Look carefully at the examples below. As far as this function is concerned, a tree is not necessarily a list of lists; a tree is whatever the given functions define it to be.\n",
    "\n",
    "Assume that is_list and is_integer below tests if the argument is a list or integer, respectively, and that identity is the identity function. range takes an integer n an returns a sequence from 0 to n-1 (this function exists in most languages).\n",
    "\n",
    "```\n",
    "t = [1, [2, [3, 5]]]\n",
    "tree_seq(is_list, identity, t)\n",
    "=> [[1, [2, [3, 5]]], 1, [2, [3, 5]], 2, [3, 5], 3, 5]\n",
    "tree_seq(is_integer, range, 3)\n",
    "=> [3, 0, 1, 0, 2, 0, 1, 0]\n",
    "```"
   ]
  },
  {
   "cell_type": "code",
   "execution_count": 101,
   "metadata": {
    "collapsed": false,
    "jupyter": {
     "outputs_hidden": false
    }
   },
   "outputs": [
    {
     "name": "stdout",
     "output_type": "stream",
     "text": [
      "[[1, [2, [3, 5]]], 1, [2, [3, 5]], 2, [3, 5], 3, 5]\n",
      "[3, 0, 1, 0, 2, 0, 1, 0]\n"
     ]
    }
   ],
   "source": [
    "def tree_seq(is_branch, children, t):\n",
    "    result = [t]  # List to store the nodes in depth-first order\n",
    "    if is_branch(t):\n",
    "        for child in children(t):\n",
    "            result.extend(tree_seq(is_branch, children, child))\n",
    "    return result\n",
    "\n",
    "def is_list(node):\n",
    "    return isinstance(node, list)\n",
    "\n",
    "def is_integer(node):\n",
    "    return isinstance(node, int)\n",
    "\n",
    "def identity(node):\n",
    "    return node\n",
    "\n",
    "def tree_seq_example1():\n",
    "    t = [1, [2, [3, 5]]]\n",
    "    result = tree_seq(is_list, identity, t)\n",
    "    print(result)\n",
    "\n",
    "def tree_seq_example2():\n",
    "    t = 3\n",
    "    result = tree_seq(is_integer, range, t)\n",
    "    print(result)\n",
    "\n",
    "tree_seq_example1()\n",
    "\n",
    "tree_seq_example2()"
   ]
  },
  {
   "cell_type": "markdown",
   "metadata": {},
   "source": [
    "Penjelasan :\n",
    "tree_seq adalah sebuah fungsi yang mengambil tiga argumen: is_branch (fungsi yang mengembalikan True untuk node yang dapat memiliki anak), children (fungsi yang mengembalikan urutan anak-anak dari node), dan t (akar dari pohon). Fungsi ini mengembalikan daftar node-node dalam urutan depth-first.\n",
    "\n",
    "Fungsi tree_seq bekerja dengan melakukan penelusuran depth-first pada pohon. Untuk setiap node, fungsi ini memeriksa apakah node tersebut merupakan cabang menggunakan fungsi is_branch. Jika iya, fungsi children akan dipanggil untuk mendapatkan anak-anak dari node tersebut. Proses ini akan berulang secara rekursif hingga seluruh pohon telah ditembus.\n",
    "\n",
    "Contoh-contoh di atas mengilustrasikan pemanggilan tree_seq dengan fungsi-fungsi dan pohon yang berbeda. Output yang dihasilkan adalah daftar node-node dalam urutan depth-first sesuai dengan definisi pohon yang diberikan oleh fungsi-fungsi tersebut."
   ]
  },
  {
   "cell_type": "markdown",
   "metadata": {},
   "source": [
    "## memoize\n",
    "\n",
    "Create a function memoize take takes a function and memoizes it, i.e. it returns a function that does the same thing that the given function, but caches its results in a map.\n",
    "\n",
    "```\n",
    "new_add = memoize(add)\n",
    "new_add(1, 2, 3) => 6\n",
    "new_add(1, 2, 3) => 6 (Did not actually compute add(1, 2, 3).)\n",
    "```\n",
    "\n",
    "The second call of new_add should not compute using add again, but instead look up the stored result."
   ]
  },
  {
   "cell_type": "code",
   "execution_count": 102,
   "metadata": {
    "collapsed": false,
    "jupyter": {
     "outputs_hidden": false
    }
   },
   "outputs": [
    {
     "name": "stdout",
     "output_type": "stream",
     "text": [
      "6\n",
      "6\n"
     ]
    }
   ],
   "source": [
    "def memoize(func):\n",
    "    cache = {}\n",
    "\n",
    "    def memoized_func(*args):\n",
    "        if args in cache:\n",
    "            return cache[args]\n",
    "        result = func(*args)\n",
    "        cache[args] = result\n",
    "        return result\n",
    "\n",
    "    return memoized_func\n",
    "\n",
    "def add(a, b, c):\n",
    "    return a + b + c\n",
    "\n",
    "new_add = memoize(add)\n",
    "print(new_add(1, 2, 3))\n",
    "print(new_add(1, 2, 3))"
   ]
  },
  {
   "cell_type": "markdown",
   "metadata": {},
   "source": [
    "Penjelasan :\n",
    "Fungsi memoize membuat versi ter-memoize dari suatu fungsi. Versi ter-memoize ini akan menyimpan hasil perhitungan fungsi tersebut dalam sebuah map/cache.\n",
    "\n",
    "Pada saat pemanggilan pertama ke versi ter-memoize dari fungsi, hasil perhitungan akan dikalkulasi seperti biasa dan disimpan dalam cache. Pada pemanggilan selanjutnya dengan argumen yang sama, fungsi tidak akan melakukan perhitungan ulang, melainkan langsung mengambil hasil dari cache.\n",
    "\n",
    "Dengan menggunakan memoize, kita dapat membuat versi ter-memoize dari suatu fungsi. Misalnya, dalam contoh yang diberikan, fungsi new_add merupakan versi ter-memoize dari fungsi add. Ketika new_add dipanggil dengan argumen yang sama, hasil perhitungan akan diambil langsung dari cache tanpa perlu menghitung ulang."
   ]
  },
  {
   "cell_type": "markdown",
   "metadata": {},
   "source": [
    "## group_by\n",
    "\n",
    "Create a function group_by that takes a function and a sequence and groups the elements of the sequence based on the result of the given function.\n",
    "\n",
    "len returns the length of a sequence.\n",
    "\n",
    "```\n",
    "group_by(len, [\"hi\", \"dog\", \"me\", \"bad\", \"good\"])\n",
    "=> {2: [\"hi\", \"me\"], 3: [\"dog\", \"bad\"], 4: [\"good\"]}\n",
    "```"
   ]
  },
  {
   "cell_type": "code",
   "execution_count": 103,
   "metadata": {
    "collapsed": false,
    "jupyter": {
     "outputs_hidden": false
    }
   },
   "outputs": [
    {
     "name": "stdout",
     "output_type": "stream",
     "text": [
      "{2: ['hi', 'me'], 3: ['dog', 'bad'], 4: ['good']}\n"
     ]
    }
   ],
   "source": [
    "def group_by(func, sequence):\n",
    "    result = {}\n",
    "    for item in sequence:\n",
    "        key = func(item)\n",
    "        if key not in result:\n",
    "            result[key] = []\n",
    "        result[key].append(item)\n",
    "    return result\n",
    "\n",
    "result = group_by(len, [\"hi\", \"dog\", \"me\", \"bad\", \"good\"])\n",
    "print(result)\n"
   ]
  },
  {
   "cell_type": "markdown",
   "metadata": {},
   "source": [
    "Penjelasan:\n",
    "\n",
    "- Fungsi group_by menerima dua argumen: func (fungsi yang akan menghasilkan kunci/grup untuk setiap elemen) dan sequence (urutan elemen yang akan dikelompokkan).\n",
    "- Variabel result adalah sebuah kamus (dictionary) yang akan menyimpan hasil kelompokkan.\n",
    "- Dalam loop for, setiap elemen item dalam sequence dievaluasi menggunakan fungsi func untuk mendapatkan kunci key.\n",
    "- Jika key belum ada dalam result, maka akan dibuat entri baru dengan kunci key dan nilai berupa daftar kosong.\n",
    "- Elemen item akan ditambahkan ke daftar yang sesuai dengan kunci key dalam result.\n",
    "- Setelah selesai melintasi semua elemen dalam sequence, kamus result yang berisi hasil kelompokkan akan dikembalikan sebagai output."
   ]
  },
  {
   "cell_type": "markdown",
   "metadata": {},
   "source": [
    "## update\n",
    "\n",
    "Create a function update that takes a map m, a key k, a function f and an arbitrary number of additional arguments args. Returns a new map, that is like m, but has the value for k replaced by the result of applying f to the previous value and the given args. If the previous value does not exist, create a new entry for k.\n",
    "\n",
    "```\n",
    "bob = {\"name\": \"bob\", \"hp\": 3}\n",
    "update(bob, \"hp\", add, 2)\n",
    "=> {\"name\": \"bob\", \"hp\": 5}\n",
    "nohp = {\"name\": \"bob\"}\n",
    "update(nohp, \"hp\", add, 2)\n",
    "=> {\"name\": \"bob\", \"hp\": 2}\n",
    "```"
   ]
  },
  {
   "cell_type": "code",
   "execution_count": 104,
   "metadata": {
    "collapsed": false,
    "jupyter": {
     "outputs_hidden": false
    }
   },
   "outputs": [
    {
     "name": "stdout",
     "output_type": "stream",
     "text": [
      "{'name': 'bob', 'hp': 5}\n"
     ]
    }
   ],
   "source": [
    "def update(m, k, f, *args):\n",
    "    if k in m:\n",
    "        m[k] = f(m[k], *args)\n",
    "    else:\n",
    "        m[k] = f(*args)\n",
    "    return m\n",
    "\n",
    "def add(x, y):\n",
    "    return x + y\n",
    "\n",
    "bob = {\"name\": \"bob\", \"hp\": 3}\n",
    "updated_bob = update(bob, \"hp\", add, 2)\n",
    "print(updated_bob)  # Output: {\"name\": \"bob\", \"hp\": 5}\n",
    "\n",
    "#nohp = {\"name\": \"bob\"}\n",
    "#updated_nohp = update(nohp, \"hp\", add, 2)\n",
    "#print(updated_nohp)  # Output: {\"name\": \"bob\", \"hp\": 2}\n"
   ]
  },
  {
   "cell_type": "markdown",
   "metadata": {},
   "source": [
    "Penjelasan :\n",
    "Fungsi update digunakan untuk memperbarui sebuah map dengan mengganti nilai pada kunci yang ditentukan menggunakan hasil dari penerapan fungsi f terhadap nilai sebelumnya dan argumen tambahan yang diberikan. Jika nilai sebelumnya tidak ada, fungsi akan membuat entri baru untuk kunci tersebut.\n",
    "\n",
    "Dalam contoh pertama, map bob memiliki kunci \"hp\" dengan nilai awal 3. Setelah menggunakan fungsi update(bob, \"hp\", add, 2), nilai kunci \"hp\" di-update menjadi 5 karena fungsi add menjumlahkan nilai sebelumnya (3) dengan argumen tambahan (2).\n",
    "\n",
    "Pada contoh kedua, map nohp awalnya tidak memiliki kunci \"hp\". Namun, setelah menggunakan fungsi update(nohp, \"hp\", add, 2), kunci \"hp\" dan nilai 2 ditambahkan ke dalam map nohp."
   ]
  },
  {
   "cell_type": "markdown",
   "metadata": {},
   "source": [
    "## update_in\n",
    "\n",
    "Create a function update_in that is similar to update, but can update a value inside nested maps.\n",
    "\n",
    "```\n",
    "a = {\"a\": 1, \"b\": {\"c\": 2, \"d\": {\"e\": 3}}}\n",
    "update_in(a, [\"b\", \"d\", \"e\"], add, 10)\n",
    "=> {\"a\": 1, \"b\": {\"c\": 2, \"d\": {\"e\": 13}}}\n",
    "update_in(a, [\"b\", \"d\", \"f\"], add, 10)\n",
    "=> {\"a\": 1, \"b\": {\"c\": 2, \"d\": {\"e\": 3, \"f\": 10}}}\n",
    "```"
   ]
  },
  {
   "cell_type": "code",
   "execution_count": 105,
   "metadata": {
    "collapsed": false,
    "jupyter": {
     "outputs_hidden": false
    }
   },
   "outputs": [],
   "source": [
    "def update_in(m, keys, f, *args):\n",
    "    if len(keys) == 1:\n",
    "        # Base case: jika hanya ada satu kunci tersisa\n",
    "        key = keys[0]\n",
    "        if key in m:\n",
    "            # Jika kunci ada di map, aplikasikan fungsi ke nilai yang ada\n",
    "            m[key] = f(m[key], *args)\n",
    "        else:\n",
    "            # Jika kunci tidak ada di map, buat entri baru dengan hasil fungsi\n",
    "            m[key] = f(*args)\n",
    "    else:\n",
    "        # Rekursif: panggil update_in dengan map dalam map\n",
    "        update_in(m[keys[0]], keys[1:], f, *args)\n",
    "\n",
    "    return m\n"
   ]
  },
  {
   "cell_type": "code",
   "execution_count": 106,
   "metadata": {
    "collapsed": false,
    "jupyter": {
     "outputs_hidden": false
    }
   },
   "outputs": [
    {
     "name": "stdout",
     "output_type": "stream",
     "text": [
      "{'a': 1, 'b': {'c': 2, 'd': {'e': 13}}}\n"
     ]
    }
   ],
   "source": [
    "def add(x, y):\n",
    "    return x + y\n",
    "\n",
    "a = {\"a\": 1, \"b\": {\"c\": 2, \"d\": {\"e\": 3}}}\n",
    "updated_a = update_in(a, [\"b\", \"d\", \"e\"], add, 10)\n",
    "print(updated_a)\n",
    "\n",
    "#updated_a = update_in(a, [\"b\", \"d\", \"f\"], add, 10)\n",
    "#print(updated_a)"
   ]
  },
  {
   "cell_type": "markdown",
   "metadata": {},
   "source": [
    "Penjelasan :\n",
    "Dalam fungsi pertama, kita memanggil update_in dengan map a, daftar kunci [\"b\", \"d\", \"e\"], fungsi add, dan argumen tambahan 10. Hasilnya adalah map yang telah diperbarui, di mana nilai kunci \"e\" dalam map bersarang telah ditambahkan dengan 10.\n",
    "\n",
    "Dalam code kedua, kita memanggil update_in dengan map a, daftar kunci [\"b\", \"d\", \"f\"], fungsi add, dan argumen tambahan 10. Karena kunci \"f\" sebelumnya tidak ada dalam map bersarang, fungsi update_in akan membuat entri baru dengan kunci \"f\" dan nilai 10."
   ]
  },
  {
   "cell_type": "markdown",
   "metadata": {},
   "source": [
    "## balanced\n",
    "\n",
    "Create a function balanced that takes a string s and returns True if it contains only balanced parens, brackets and braces ((), [], {}), otherwise False.\n",
    "\n",
    "```\n",
    "balanced(\"abc(def{g}hi[jk]((()))l)m\") => True\n",
    "balanced(\"a(b\") => False\n",
    "balanced(\"([)]\") => False\n",
    "```"
   ]
  },
  {
   "cell_type": "code",
   "execution_count": 107,
   "metadata": {
    "collapsed": false,
    "jupyter": {
     "outputs_hidden": false
    }
   },
   "outputs": [],
   "source": [
    "def balanced(s):\n",
    "    stack = []\n",
    "    opening_brackets = '({['\n",
    "    closing_brackets = ')}]'\n",
    "    brackets_map = {')': '(', ']': '[', '}': '{'}\n",
    "\n",
    "    for char in s:\n",
    "        if char in opening_brackets:\n",
    "            stack.append(char)\n",
    "        elif char in closing_brackets:\n",
    "            if not stack or brackets_map[char] != stack.pop():\n",
    "                return False\n",
    "\n",
    "    return len(stack) == 0\n"
   ]
  },
  {
   "cell_type": "code",
   "execution_count": 108,
   "metadata": {
    "collapsed": false,
    "jupyter": {
     "outputs_hidden": false
    }
   },
   "outputs": [
    {
     "name": "stdout",
     "output_type": "stream",
     "text": [
      "True\n",
      "False\n",
      "False\n"
     ]
    }
   ],
   "source": [
    "s1 = \"abc(def{g}hi[jk]((()))l)m\"\n",
    "result1 = balanced(s1)\n",
    "print(result1)  # Output: True\n",
    "\n",
    "s2 = \"a(b\"\n",
    "result2 = balanced(s2)\n",
    "print(result2)  # Output: False\n",
    "\n",
    "s3 = \"([)]\"\n",
    "result3 = balanced(s3)\n",
    "print(result3)  # Output: False\n"
   ]
  },
  {
   "cell_type": "markdown",
   "metadata": {},
   "source": [
    "Penjelasan :\n",
    "Fungsi balanced digunakan untuk memeriksa apakah sebuah string hanya terdiri dari tanda kurung, tanda kurung siku, dan tanda kurung kurawal yang seimbang atau tidak. Jika string hanya terdiri dari kombinasi yang valid dari tanda-tanda tersebut, maka fungsi akan mengembalikan True. Jika tidak, fungsi akan mengembalikan False.\n",
    "\n",
    "Fungsi tersebut menggunakan pendekatan tumpukan (stack) untuk memeriksa keseimbangan. Setiap kali menemukan karakter pembuka, karakter tersebut ditambahkan ke dalam tumpukan. Ketika menemukan karakter penutup, fungsi memeriksa apakah karakter penutup tersebut berpasangan dengan karakter pembuka teratas dalam tumpukan. Jika berpasangan, karakter pembuka tersebut dihapus dari tumpukan. Jika tidak berpasangan atau jika tumpukan kosong saat mencari pasangan, maka string tidak seimbang.\n",
    "\n",
    "Setelah memeriksa semua karakter dalam string, fungsi memeriksa apakah tumpukan masih berisi karakter pembuka yang tidak memiliki pasangan penutup. Jika tumpukan kosong, berarti string seimbang. Jika tumpukan tidak kosong, berarti string tidak seimbang."
   ]
  },
  {
   "cell_type": "markdown",
   "metadata": {},
   "source": [
    "## postwalk, prewalk\n",
    "\n",
    "Create two functions postwalk and prewalk, that both take a function f and a tree t. (A tree in this case is a list where the elements can be trees themselves), e.g. [1, [2, 3, [1, 2]], [4, 5, 6]]. In this case 1, [2, 3, [1, 2] and 6 are all elements of the tree (but not the only ones).) The functions should apply f to each element in the tree to create a new tree with the results, like map but for trees instead of lists. The difference between prewalk and postwalk is that prewalk does the replacement on the way “down” and postwalk on the way “up”, so that prewalk can continue down into the new value that was “just” created.\n",
    "\n",
    "In the following example, imagine that wrap_unless_zero, if the argument is a number, wraps the argument in a list if it is larger than zero, then decrements it by 1.\n",
    "\n",
    "```\n",
    "postwalk(wrap_unless_zero, [1 [2 [3]]]) => [[0] [[1] [[2]]]]\n",
    "prewalk(wrap_unless_zero, [1 [2 [3]]]) => [[0] [[[0]] [[[[0]]]]]]\n",
    "```"
   ]
  },
  {
   "cell_type": "code",
   "execution_count": 109,
   "metadata": {
    "collapsed": false,
    "jupyter": {
     "outputs_hidden": false
    }
   },
   "outputs": [],
   "source": [
    "def postwalk(f, t):\n",
    "    if not isinstance(t, list):\n",
    "        return f(t)\n",
    "    else:\n",
    "        return [postwalk(f, x) for x in t]\n",
    "\n",
    "def prewalk(f, t):\n",
    "    if not isinstance(t, list):\n",
    "        return f(t)\n",
    "    else:\n",
    "        return f([prewalk(f, x) for x in t])"
   ]
  },
  {
   "cell_type": "code",
   "execution_count": 110,
   "metadata": {
    "collapsed": false,
    "jupyter": {
     "outputs_hidden": false
    }
   },
   "outputs": [
    {
     "name": "stdout",
     "output_type": "stream",
     "text": [
      "[[0], [[1], [[2]]]]\n",
      "[[0], [[1], [[2]]]]\n"
     ]
    }
   ],
   "source": [
    "def wrap_unless_zero(x):\n",
    "    if isinstance(x, int) and x > 0:\n",
    "        return [x - 1]\n",
    "    return x\n",
    "\n",
    "tree = [1, [2, [3]]]\n",
    "\n",
    "result_postwalk = postwalk(wrap_unless_zero, tree)\n",
    "print(result_postwalk)\n",
    "\n",
    "result_prewalk = prewalk(wrap_unless_zero, tree)\n",
    "print(result_prewalk)"
   ]
  },
  {
   "cell_type": "markdown",
   "metadata": {},
   "source": [
    "Penjelasan :\n",
    "Fungsi postwalk dan prewalk digunakan untuk memproses pohon yang terdiri dari elemen-elemen yang saling terhubung dalam struktur list. Fungsi-fungsi tersebut menerapkan suatu fungsi f pada setiap elemen dalam pohon dan menghasilkan pohon baru dengan hasil transformasi.\n",
    "\n",
    "- postwalk melakukan pemrosesan dari anak-anak ke atas. Fungsi f diterapkan pada setiap elemen saat pemrosesan kembali ke atas setelah pemrosesan anak-anak. Hasil transformasi diterapkan pada elemen saat ini sebelum kembali ke atas.\n",
    "- prewalk melakukan pemrosesan dari atas ke anak-anak. Fungsi f diterapkan pada setiap elemen saat pemrosesan turun ke anak-anak, termasuk pada anak-anak yang sudah diubah sebelumnya."
   ]
  },
  {
   "cell_type": "markdown",
   "metadata": {},
   "source": [
    "## Recreate map, filter and reduce\n",
    "\n",
    "Implement map, filter and reduce from scratch.Penjelasan: Fungsi clist menggunakan parameter *args untuk menerima jumlah argumen yang tidak terbatas. Di dalam fungsi, args akan menjadi tuple yang berisi semua argumen yang diberikan saat pemanggilan fungsi clist. Kemudian, fungsi ini mengubah tuple args menjadi daftar menggunakan fungsi list(). Akhirnya, daftar hasilnya dikembalikan sebagai output."
   ]
  },
  {
   "cell_type": "code",
   "execution_count": 111,
   "metadata": {
    "collapsed": false,
    "jupyter": {
     "outputs_hidden": false
    }
   },
   "outputs": [],
   "source": [
    "def clist(*args):\n",
    "    return list(args)\n",
    "\n",
    "def map(func, iterable):\n",
    "    return [func(x) for x in iterable]\n",
    "\n",
    "def filter(func, iterable):\n",
    "    return [x for x in iterable if func(x)]\n",
    "\n",
    "def reduce(func, iterable, initial=None):\n",
    "    it = iter(iterable)\n",
    "    if initial is None:\n",
    "        value = next(it)\n",
    "    else:\n",
    "        value = initial\n",
    "    for x in it:\n",
    "        value = func(value, x)\n",
    "    return value\n"
   ]
  }
 ],
 "metadata": {
  "kernelspec": {
   "display_name": "Python 3 (ipykernel)",
   "language": "python",
   "name": "python3"
  },
  "language_info": {
   "codemirror_mode": {
    "name": "ipython",
    "version": 3
   },
   "file_extension": ".py",
   "mimetype": "text/x-python",
   "name": "python",
   "nbconvert_exporter": "python",
   "pygments_lexer": "ipython3",
   "version": "3.10.4"
  }
 },
 "nbformat": 4,
 "nbformat_minor": 4
}
