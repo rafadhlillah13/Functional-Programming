{
 "cells": [
  {
   "cell_type": "markdown",
   "source": [
    "# Tugas Pemrograman Berbasis Fungsi Minggu 10 & 11\n",
    "\n",
    "### Nama : Rafi Fadhlillah\n",
    "### NIM : 121450143\n",
    "### Kelas : RC"
   ],
   "metadata": {
    "collapsed": false
   }
  },
  {
   "cell_type": "markdown",
   "source": [
    "## Exercise Minggu 10"
   ],
   "metadata": {
    "collapsed": false
   }
  },
  {
   "cell_type": "markdown",
   "source": [
    "## 1. Buat fungsi mencari jumlah bilangan genap dari list L!\n",
    "#### Example : L = [2,1,9,10,3,90,15]\n",
    "#### Output : 3"
   ],
   "metadata": {
    "collapsed": false
   }
  },
  {
   "cell_type": "markdown",
   "source": [
    "#### a) Dengan initializer"
   ],
   "metadata": {
    "collapsed": false
   }
  },
  {
   "cell_type": "code",
   "execution_count": 1,
   "outputs": [
    {
     "data": {
      "text/plain": "3"
     },
     "execution_count": 1,
     "metadata": {},
     "output_type": "execute_result"
    }
   ],
   "source": [
    "from functools import reduce\n",
    "\n",
    "L = [2, 1, 9, 10, 3, 90, 15]\n",
    "\n",
    "def bilangan_genap(L):\n",
    "\n",
    "    # Tanpa initializer\n",
    "    return reduce(lambda x, y: x + (y % 2 == 0), L, 0)\n",
    "\n",
    "bilangan_genap(L)"
   ],
   "metadata": {
    "collapsed": false
   }
  },
  {
   "cell_type": "markdown",
   "source": [
    "#### b) Tanpa initializer"
   ],
   "metadata": {
    "collapsed": false
   }
  },
  {
   "cell_type": "code",
   "execution_count": 2,
   "outputs": [
    {
     "data": {
      "text/plain": "4"
     },
     "execution_count": 2,
     "metadata": {},
     "output_type": "execute_result"
    }
   ],
   "source": [
    "from functools import reduce\n",
    "\n",
    "L = [2, 1, 9, 10, 3, 90, 15]\n",
    "\n",
    "def bilangan_genapp(L):\n",
    "\n",
    "    # Dengan initializer\n",
    "    return reduce(lambda x, y: x + (y % 2 == 0), L)\n",
    "\n",
    "bilangan_genapp(L)\n"
   ],
   "metadata": {
    "collapsed": false
   }
  },
  {
   "cell_type": "markdown",
   "source": [
    "Perbedaan output dari kedua kode di atas terletak pada penggunaan initializer pada fungsi reduce.\n",
    "\n",
    "Pada fungsi reduce pertama (dengan initializer), nilai awal yang digunakan adalah 0. Dalam setiap iterasi, nilai 0 akan ditambahkan dengan 1 jika bilangan di dalam list L bukan bilangan genap, atau ditambahkan dengan 2 jika bilangan di dalam list L adalah bilangan genap. Sehingga, pada akhirnya, nilai yang dikembalikan adalah jumlah bilangan genap dalam list L.\n",
    "\n",
    "Sementara pada fungsi reduce kedua (tanpa initializer), nilai awal yang digunakan adalah tidak ada. Dalam setiap iterasi, nilai pertama (y pertama) dianggap sebagai nilai awal, dan nilai awal tersebut akan ditambahkan dengan 1 jika bilangan di dalam list L bukan bilangan genap, atau ditambahkan dengan 2 jika bilangan di dalam list L adalah bilangan genap. Sehingga, pada akhirnya, nilai yang dikembalikan adalah jumlah bilangan genap dalam list L ditambah dengan 1.\n",
    "\n",
    "Dengan kata lain, perbedaan ini terjadi karena penggunaan initializer pada fungsi reduce yang mengakibatkan pengolahan data dimulai dengan nilai yang berbeda."
   ],
   "metadata": {
    "collapsed": false
   }
  },
  {
   "cell_type": "markdown",
   "source": [
    "## 2. Buat fungsi untuk menghitung n! menggunakan reduce"
   ],
   "metadata": {
    "collapsed": false
   }
  },
  {
   "cell_type": "markdown",
   "source": [
    "#### a) Dengan initializer"
   ],
   "metadata": {
    "collapsed": false
   }
  },
  {
   "cell_type": "code",
   "execution_count": 3,
   "outputs": [
    {
     "name": "stdout",
     "output_type": "stream",
     "text": [
      "720\n"
     ]
    }
   ],
   "source": [
    "def factorial_reduce_initializer(n):\n",
    "    # Menggunakan reduce dengan initializer\n",
    "    return reduce(lambda x, y: x * y, range(1, n+1), 1)\n",
    "\n",
    "print(factorial_reduce_initializer(6))"
   ],
   "metadata": {
    "collapsed": false
   }
  },
  {
   "cell_type": "markdown",
   "source": [
    "#### b) Tanpa initializer"
   ],
   "metadata": {
    "collapsed": false
   }
  },
  {
   "cell_type": "code",
   "execution_count": 4,
   "outputs": [
    {
     "name": "stdout",
     "output_type": "stream",
     "text": [
      "720\n"
     ]
    }
   ],
   "source": [
    "from functools import reduce\n",
    "\n",
    "def factorial_reduce(n):\n",
    "    # Menggunakan reduce tanpa initializer\n",
    "    return reduce(lambda x, y: x * y, range(1, n+1))\n",
    "\n",
    "print(factorial_reduce(6))"
   ],
   "metadata": {
    "collapsed": false
   }
  },
  {
   "cell_type": "markdown",
   "source": [
    "## 3. Hitung Euclidian distance dari dua vektor berikut menggunakan higher order function\n",
    "### X = [2,5,6,7,10]\n",
    "### Y = [-2,9,2,-1,10]"
   ],
   "metadata": {
    "collapsed": false
   }
  },
  {
   "cell_type": "markdown",
   "source": [
    "#### a) Dengan initializer"
   ],
   "metadata": {
    "collapsed": false
   }
  },
  {
   "cell_type": "code",
   "execution_count": 5,
   "outputs": [
    {
     "name": "stdout",
     "output_type": "stream",
     "text": [
      "10.583005244258363\n"
     ]
    }
   ],
   "source": [
    "import math\n",
    "\n",
    "X = [2,5,6,7,10]\n",
    "Y = [-2,9,2,-1,10]\n",
    "\n",
    "distance = math.sqrt(sum([(x - y)**2 for x, y in zip(X, Y)], 0))\n",
    "print(distance)\n"
   ],
   "metadata": {
    "collapsed": false
   }
  },
  {
   "cell_type": "markdown",
   "source": [
    "### b) Tanpa initializer"
   ],
   "metadata": {
    "collapsed": false
   }
  },
  {
   "cell_type": "code",
   "execution_count": 6,
   "outputs": [
    {
     "name": "stdout",
     "output_type": "stream",
     "text": [
      "10.583005244258363\n"
     ]
    }
   ],
   "source": [
    "import math\n",
    "\n",
    "X = [2,5,6,7,10]\n",
    "Y = [-2,9,2,-1,10]\n",
    "\n",
    "distance = math.sqrt(sum(map(lambda x, y: (x - y)**2, X, Y)))\n",
    "print(distance)\n"
   ],
   "metadata": {
    "collapsed": false
   }
  },
  {
   "cell_type": "markdown",
   "source": [
    "## 4. Terdapat dictionary employee berisi nama dan umur pegawai, lakukan reduce untuk mengetahui berapa jumlah pegawai yang berumur > 25 tahun\n",
    "\n",
    "```\n",
    "employee= {\n",
    "            'Nagao': 35,\n",
    "            'Ishii': 30,\n",
    "            'Kazutomo': 20,\n",
    "            'Saito': 25,\n",
    "            'Hidemi': 29}\n",
    "```"
   ],
   "metadata": {
    "collapsed": false
   }
  },
  {
   "cell_type": "markdown",
   "source": [
    "### a) Dengan initializer"
   ],
   "metadata": {
    "collapsed": false
   }
  },
  {
   "cell_type": "code",
   "execution_count": 7,
   "outputs": [
    {
     "name": "stdout",
     "output_type": "stream",
     "text": [
      "38\n"
     ]
    }
   ],
   "source": [
    "from functools import reduce\n",
    "\n",
    "employee = {\n",
    "    'Nagao': 35,\n",
    "    'Ishii': 30,\n",
    "    'Kazutomo': 20,\n",
    "    'Saito': 25,\n",
    "    'Hidemi': 29,\n",
    "    'Rahmat': 28,\n",
    "    'Sari': 23,\n",
    "    'Budi': 31,\n",
    "    'Dewi': 26,\n",
    "    'Hendra': 32,\n",
    "    'Nurul': 27,\n",
    "    'Wahyu': 24,\n",
    "    'Fitri': 29,\n",
    "    'Agus': 30,\n",
    "    'Ayu': 25,\n",
    "    'Eka': 27,\n",
    "    'Fajar': 33,\n",
    "    'Hadi': 28,\n",
    "    'Joko': 22,\n",
    "    'Kartika': 31,\n",
    "    'Lina': 26,\n",
    "    'Mega': 29,\n",
    "    'Nina': 24,\n",
    "    'Oki': 30,\n",
    "    'Purwanto': 35,\n",
    "    'Qonita': 23,\n",
    "    'Rahayu': 28,\n",
    "    'Sulaiman': 31,\n",
    "    'Tania': 27,\n",
    "    'Umar': 29,\n",
    "    'Vina': 26,\n",
    "    'Wulan': 24,\n",
    "    'Xaverius': 33,\n",
    "    'Yani': 28,\n",
    "    'Zainal': 31,\n",
    "    'Adi': 26,\n",
    "    'Bambang': 29,\n",
    "    'Citra': 24,\n",
    "    'Denny': 30,\n",
    "    'Eva': 28,\n",
    "    'Fathimah': 31,\n",
    "    'Gita': 26,\n",
    "    'Herry': 29,\n",
    "    'Indra': 24,\n",
    "    'Jaka': 30,\n",
    "    'Kartini': 28,\n",
    "    'Lutfi': 31,\n",
    "    'Mardiana': 26,\n",
    "    'Nanda': 29,\n",
    "    'Okky': 24\n",
    "}\n",
    "\n",
    "count = reduce(lambda acc, age: acc + 1 if age > 25 else acc, employee.values(), 0)\n",
    "print(count)\n"
   ],
   "metadata": {
    "collapsed": false
   }
  },
  {
   "cell_type": "markdown",
   "source": [
    "### b) Tanpa initializer"
   ],
   "metadata": {
    "collapsed": false
   }
  },
  {
   "cell_type": "code",
   "execution_count": 8,
   "outputs": [
    {
     "name": "stdout",
     "output_type": "stream",
     "text": [
      "72\n"
     ]
    }
   ],
   "source": [
    "from functools import reduce\n",
    "\n",
    "employee = {\n",
    "    'Nagao': 35,\n",
    "    'Ishii': 30,\n",
    "    'Kazutomo': 20,\n",
    "    'Saito': 25,\n",
    "    'Hidemi': 29,\n",
    "    'Rahmat': 28,\n",
    "    'Sari': 23,\n",
    "    'Budi': 31,\n",
    "    'Dewi': 26,\n",
    "    'Hendra': 32,\n",
    "    'Nurul': 27,\n",
    "    'Wahyu': 24,\n",
    "    'Fitri': 29,\n",
    "    'Agus': 30,\n",
    "    'Ayu': 25,\n",
    "    'Eka': 27,\n",
    "    'Fajar': 33,\n",
    "    'Hadi': 28,\n",
    "    'Joko': 22,\n",
    "    'Kartika': 31,\n",
    "    'Lina': 26,\n",
    "    'Mega': 29,\n",
    "    'Nina': 24,\n",
    "    'Oki': 30,\n",
    "    'Purwanto': 35,\n",
    "    'Qonita': 23,\n",
    "    'Rahayu': 28,\n",
    "    'Sulaiman': 31,\n",
    "    'Tania': 27,\n",
    "    'Umar': 29,\n",
    "    'Vina': 26,\n",
    "    'Wulan': 24,\n",
    "    'Xaverius': 33,\n",
    "    'Yani': 28,\n",
    "    'Zainal': 31,\n",
    "    'Adi': 26,\n",
    "    'Bambang': 29,\n",
    "    'Citra': 24,\n",
    "    'Denny': 30,\n",
    "    'Eva': 28,\n",
    "    'Fathimah': 31,\n",
    "    'Gita': 26,\n",
    "    'Herry': 29,\n",
    "    'Indra': 24,\n",
    "    'Jaka': 30,\n",
    "    'Kartini': 28,\n",
    "    'Lutfi': 31,\n",
    "    'Mardiana': 26,\n",
    "    'Nanda': 29,\n",
    "    'Okky': 24\n",
    "}\n",
    "\n",
    "count = reduce(lambda acc, age: acc + 1 if age > 25 else acc, employee.values())\n",
    "print(count)\n"
   ],
   "metadata": {
    "collapsed": false
   }
  },
  {
   "cell_type": "markdown",
   "source": [
    "Outputnya berbeda karena penggunaan initializer pada fungsi reduce() menentukan nilai awal untuk akumulator (acc). Dalam contoh pertama, nilai awal acc disetel ke 0. Oleh karena itu, ketika lambda function pertama kali dijalankan, nilai acc adalah 0 dan kemudian akumulator bertambah setiap kali usia karyawan lebih besar dari 25.\n",
    "\n",
    "Sedangkan pada contoh kedua, fungsi reduce() tidak memiliki nilai awal (initializer) dan akumulator pertama adalah nilai pertama dalam nilai-nilai karyawan (yaitu, 35 dalam kasus ini). Oleh karena itu, lambda function pertama kali dijalankan dengan nilai acc=35 dan kemudian akumulator bertambah setiap kali usia karyawan lebih besar dari 25."
   ],
   "metadata": {
    "collapsed": false
   }
  },
  {
   "cell_type": "markdown",
   "source": [
    "## 5. Buatlah deret fibonacci menggunakan higher order function!"
   ],
   "metadata": {
    "collapsed": false
   }
  },
  {
   "cell_type": "markdown",
   "source": [
    "#### a) Dengan initializer"
   ],
   "metadata": {
    "collapsed": false
   }
  },
  {
   "cell_type": "code",
   "execution_count": 9,
   "outputs": [
    {
     "name": "stdout",
     "output_type": "stream",
     "text": [
      "[0, 1, 1, 2, 3, 5, 8, 13, 21, 34, 55, 89, 144, 233, 377]\n"
     ]
    }
   ],
   "source": [
    "from functools import reduce\n",
    "\n",
    "fibonacci = lambda n: reduce(lambda x, _: x + [x[-1] + x[-2]], range(n-2), [0, 1]) if n > 1 else [0]*n\n",
    "\n",
    "print(fibonacci(15))\n"
   ],
   "metadata": {
    "collapsed": false
   }
  },
  {
   "cell_type": "markdown",
   "source": [
    "#### b) Tanpa initializer"
   ],
   "metadata": {
    "collapsed": false
   }
  },
  {
   "cell_type": "code",
   "execution_count": 10,
   "outputs": [
    {
     "name": "stdout",
     "output_type": "stream",
     "text": [
      "[1, 1, 2, 3, 5, 8, 13, 21, 34, 55, 89, 144, 233]\n"
     ]
    }
   ],
   "source": [
    "from functools import reduce\n",
    "\n",
    "fibonacci = lambda n: reduce(lambda x, _: x + [x[-1] + x[-2]] if len(x) > 1 else x + [1], range(n-2), [])\n",
    "\n",
    "print(fibonacci(15))\n"
   ],
   "metadata": {
    "collapsed": false
   }
  },
  {
   "cell_type": "markdown",
   "source": [
    "Output yang berbeda terjadi karena perbedaan nilai awal pada kedua metode tersebut. Pada metode yang menggunakan initializer, kita memberikan nilai awal [0, 1] pada list yang akan menjadi deret Fibonacci. Sedangkan pada metode yang tidak menggunakan initializer, kita memberikan nilai awal [0] pada list tersebut.\n",
    "\n",
    "Karena itu, ketika kita menggunakan initializer, kita dapat memulai proses iterasi pada nilai ke-2 dan ke-3 pada deret Fibonacci, sementara pada metode tanpa initializer kita harus memulainya dari nilai ke-1 dan ke-2. Oleh karena itu, pada metode yang menggunakan initializer, deret Fibonacci yang dihasilkan memiliki satu elemen tambahan yaitu nilai 0 pada indeks pertama."
   ],
   "metadata": {
    "collapsed": false
   }
  },
  {
   "cell_type": "markdown",
   "source": [
    "## Exercise Minggu 11"
   ],
   "metadata": {
    "collapsed": false
   }
  },
  {
   "cell_type": "markdown",
   "source": [
    "### 1. Buat sebuah program untuk membuat deret fibonaci dari 0 hingga N dengan menggunakan fungsi non rekursif dan rekursif"
   ],
   "metadata": {
    "collapsed": false
   }
  },
  {
   "cell_type": "markdown",
   "source": [
    "### rekursif"
   ],
   "metadata": {
    "collapsed": false
   }
  },
  {
   "cell_type": "code",
   "execution_count": 11,
   "outputs": [],
   "source": [
    "def fibonacci_recursive(n):\n",
    "    if n <= 1:\n",
    "        return n\n",
    "    else:\n",
    "        return fibonacci_recursive(n-1) + fibonacci_recursive(n-2)\n"
   ],
   "metadata": {
    "collapsed": false
   }
  },
  {
   "cell_type": "markdown",
   "source": [
    "### non rekursif"
   ],
   "metadata": {
    "collapsed": false
   }
  },
  {
   "cell_type": "code",
   "execution_count": 12,
   "outputs": [],
   "source": [
    "def fibonacci_non_recursive(n):\n",
    "    fib = [0, 1]\n",
    "    for i in range(2, n+1):\n",
    "        fib.append(fib[i-1] + fib[i-2])\n",
    "    return fib\n"
   ],
   "metadata": {
    "collapsed": false
   }
  },
  {
   "cell_type": "markdown",
   "source": [
    "### Bandingkan keduanya jika n = 500 mana yang lebih baik?"
   ],
   "metadata": {
    "collapsed": false
   }
  },
  {
   "cell_type": "code",
   "execution_count": 13,
   "outputs": [
    {
     "name": "stdout",
     "output_type": "stream",
     "text": [
      "Waktu eksekusi fungsi non-rekursif: 0.000000 detik\n",
      "Waktu eksekusi fungsi rekursif: 3.287963 detik\n"
     ]
    }
   ],
   "source": [
    "import time\n",
    "\n",
    "def compare_fibonacci(n):\n",
    "    # Fungsi non-rekursif\n",
    "    start_time = time.time()\n",
    "    fibonacci_non_recursive(n)\n",
    "    non_recursive_time = time.time() - start_time\n",
    "\n",
    "    # Fungsi rekursif\n",
    "    start_time = time.time()\n",
    "    for i in range(n):\n",
    "        fibonacci_recursive(i)\n",
    "    recursive_time = time.time() - start_time\n",
    "\n",
    "    # Menampilkan hasil perbandingan\n",
    "    print(\"Waktu eksekusi fungsi non-rekursif: {:.6f} detik\".format(non_recursive_time))\n",
    "    print(\"Waktu eksekusi fungsi rekursif: {:.6f} detik\".format(recursive_time))\n",
    "\n",
    "compare_fibonacci(35) # pake n = 500 laptop saya gakuat pak ngerendernya lama banget :)\n"
   ],
   "metadata": {
    "collapsed": false
   }
  },
  {
   "cell_type": "markdown",
   "source": [
    "Hasil yang dihasilkan akan menunjukkan bahwa fungsi non-rekursif jauh lebih cepat daripada fungsi rekursif untuk menghitung deret Fibonacci. Sehingga, untuk kasus ini, menggunakan fungsi non-rekursif akan lebih baik dalam hal kecepatan eksekusi."
   ],
   "metadata": {
    "collapsed": false
   }
  }
 ],
 "metadata": {
  "kernelspec": {
   "display_name": "Python 3",
   "language": "python",
   "name": "python3"
  },
  "language_info": {
   "codemirror_mode": {
    "name": "ipython",
    "version": 2
   },
   "file_extension": ".py",
   "mimetype": "text/x-python",
   "name": "python",
   "nbconvert_exporter": "python",
   "pygments_lexer": "ipython2",
   "version": "2.7.6"
  }
 },
 "nbformat": 4,
 "nbformat_minor": 0
}
